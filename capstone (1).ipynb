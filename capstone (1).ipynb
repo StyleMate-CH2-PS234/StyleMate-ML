{
  "cells": [
    {
      "cell_type": "code",
      "execution_count": null,
      "id": "b2122e59-93a2-4b1c-aa16-05a05b939bdf",
      "metadata": {
        "colab": {
          "base_uri": "https://localhost:8080/"
        },
        "id": "b2122e59-93a2-4b1c-aa16-05a05b939bdf",
        "outputId": "95a58f2f-875b-430d-d8ec-d3f1c1ddd8c5"
      },
      "outputs": [
        {
          "output_type": "stream",
          "name": "stdout",
          "text": [
            "Collecting split-folders\n",
            "  Downloading split_folders-0.5.1-py3-none-any.whl (8.4 kB)\n",
            "Installing collected packages: split-folders\n",
            "Successfully installed split-folders-0.5.1\n"
          ]
        }
      ],
      "source": [
        "pip install split-folders"
      ]
    },
    {
      "cell_type": "code",
      "source": [
        "from google.colab import drive\n",
        "drive.mount('/content/drive')"
      ],
      "metadata": {
        "colab": {
          "base_uri": "https://localhost:8080/"
        },
        "id": "FHKZ4RFYm_ub",
        "outputId": "5aa98b72-f13c-45e7-f409-7edf4a09da51"
      },
      "id": "FHKZ4RFYm_ub",
      "execution_count": 1,
      "outputs": [
        {
          "output_type": "stream",
          "name": "stdout",
          "text": [
            "Mounted at /content/drive\n"
          ]
        }
      ]
    },
    {
      "cell_type": "code",
      "execution_count": 2,
      "id": "1673606a-9f0e-4083-8790-3c13edc0e5e6",
      "metadata": {
        "id": "1673606a-9f0e-4083-8790-3c13edc0e5e6"
      },
      "outputs": [],
      "source": [
        "import zipfile\n",
        "# import splitfolders\n",
        "import os\n",
        "import tensorflow as tf"
      ]
    },
    {
      "cell_type": "code",
      "source": [
        "class myCallback(tf.keras.callbacks.Callback):\n",
        "    def on_epoch_end(self, epoch, logs={}):\n",
        "        if (logs.get('accuracy') > 0.85 and logs.get('val_accuracy') > 0.85):\n",
        "            self.model.stop_training = True"
      ],
      "metadata": {
        "id": "QGD0ff1PsOe4"
      },
      "id": "QGD0ff1PsOe4",
      "execution_count": 3,
      "outputs": []
    },
    {
      "cell_type": "code",
      "execution_count": 4,
      "id": "43b31ed9-a650-41e7-a5a8-637ff2f8cce8",
      "metadata": {
        "id": "43b31ed9-a650-41e7-a5a8-637ff2f8cce8"
      },
      "outputs": [],
      "source": [
        "# Extract the archive\n",
        "local_zip = '/content/drive/MyDrive/dataset_capstone/dataset_capstone/archive_2.zip'\n",
        "zip_ref = zipfile.ZipFile(local_zip, 'r')\n",
        "zip_ref.extractall('data/')\n",
        "zip_ref.close()"
      ]
    },
    {
      "cell_type": "code",
      "source": [
        "# delete class\n",
        "!rm -rf '/content/data/FaceShape Dataset/testing_set/Oval'\n",
        "!rm -rf '/content/data/FaceShape Dataset/testing_set/Oblong'\n",
        "!rm -rf '/content/data/FaceShape Dataset/training_set/Oval'\n",
        "!rm -rf '/content/data/FaceShape Dataset/training_set/Oblong'"
      ],
      "metadata": {
        "id": "NXF8M9l-RrWe"
      },
      "id": "NXF8M9l-RrWe",
      "execution_count": 5,
      "outputs": []
    },
    {
      "cell_type": "code",
      "execution_count": null,
      "id": "a636645e-a933-4891-8b04-b47d006d662b",
      "metadata": {
        "id": "a636645e-a933-4891-8b04-b47d006d662b"
      },
      "outputs": [],
      "source": [
        "# base_dir = 'data/dataset_capstone/'\n",
        "# splitfolders.ratio(base_dir, output = 'data/dataset_capstone/dataset', seed = 1337, ratio=(0.8, 0.2), group_prefix=None)\n",
        "# train_dir = 'data/dataset_capstone/dataset/train'\n",
        "# val_dir = 'data/dataset_capstone/dataset/val'"
      ]
    },
    {
      "cell_type": "code",
      "source": [
        "train_dir = '/content/data/FaceShape Dataset/training_set'\n",
        "val_dir = '/content/data/FaceShape Dataset/testing_set'"
      ],
      "metadata": {
        "id": "IuH2Mp73rI1_"
      },
      "id": "IuH2Mp73rI1_",
      "execution_count": 6,
      "outputs": []
    },
    {
      "cell_type": "code",
      "execution_count": 7,
      "id": "0275613d-3325-4084-8d22-9c08ca54f7ae",
      "metadata": {
        "id": "0275613d-3325-4084-8d22-9c08ca54f7ae"
      },
      "outputs": [],
      "source": [
        "from tensorflow.keras.preprocessing.image import ImageDataGenerator\n",
        "\n",
        "training_datagen = ImageDataGenerator(\n",
        "      rescale = 1./255,\n",
        "      rotation_range=30,\n",
        "      width_shift_range=0.2,\n",
        "      height_shift_range=0.2,\n",
        "      shear_range=0.2,\n",
        "      zoom_range=0.2,\n",
        "      horizontal_flip=True,\n",
        "      fill_mode='wrap')\n",
        "\n",
        "validation_datagen = ImageDataGenerator(\n",
        "                    rescale=1./255)"
      ]
    },
    {
      "cell_type": "code",
      "execution_count": 8,
      "id": "31c9510d-1a47-46f8-b308-c8547d17768f",
      "metadata": {
        "colab": {
          "base_uri": "https://localhost:8080/"
        },
        "id": "31c9510d-1a47-46f8-b308-c8547d17768f",
        "outputId": "c36872c1-8aec-4eb0-dbf7-e77add2019c2"
      },
      "outputs": [
        {
          "output_type": "stream",
          "name": "stdout",
          "text": [
            "Found 2400 images belonging to 3 classes.\n",
            "Found 600 images belonging to 3 classes.\n"
          ]
        }
      ],
      "source": [
        "train_generator = training_datagen.flow_from_directory(\n",
        "\ttrain_dir,\n",
        "\ttarget_size=(224,224),\n",
        "\tclass_mode='categorical',\n",
        "  batch_size=32\n",
        ")\n",
        "\n",
        "validation_generator = validation_datagen.flow_from_directory(\n",
        "\tval_dir,\n",
        "\ttarget_size=(224,224),\n",
        "\tclass_mode='categorical',\n",
        "  batch_size=32\n",
        ")"
      ]
    },
    {
      "cell_type": "code",
      "execution_count": 9,
      "id": "b00e5165-87dd-473e-af08-6d5f84310c92",
      "metadata": {
        "id": "b00e5165-87dd-473e-af08-6d5f84310c92"
      },
      "outputs": [],
      "source": [
        "model = tf.keras.models.Sequential([\n",
        "    tf.keras.layers.Conv2D(64, (3,3), activation='relu', input_shape=(224, 224, 3)),\n",
        "    tf.keras.layers.MaxPooling2D(2, 2),\n",
        "\n",
        "    tf.keras.layers.Conv2D(64, (3,3), activation='relu'),\n",
        "    tf.keras.layers.MaxPooling2D(2,2),\n",
        "\n",
        "    tf.keras.layers.Conv2D(128, (3,3), activation='relu'),\n",
        "    tf.keras.layers.MaxPooling2D(2,2),\n",
        "\n",
        "    tf.keras.layers.Conv2D(256, (3,3), activation='relu'),\n",
        "    tf.keras.layers.MaxPooling2D(2,2),\n",
        "\n",
        "    tf.keras.layers.Flatten(),\n",
        "    tf.keras.layers.Dropout(0.5),\n",
        "\n",
        "    tf.keras.layers.Dense(512, activation='relu'),\n",
        "    tf.keras.layers.Dense(3, activation='softmax')\n",
        "])"
      ]
    },
    {
      "cell_type": "code",
      "source": [
        "# model.add(tf.keras.layers.BatchNormalization())"
      ],
      "metadata": {
        "id": "VTjYSSQBEt63"
      },
      "id": "VTjYSSQBEt63",
      "execution_count": 28,
      "outputs": []
    },
    {
      "cell_type": "code",
      "execution_count": 10,
      "id": "d78b7d8c-e8c2-4a81-93a6-8b8f4133d3a4",
      "metadata": {
        "colab": {
          "base_uri": "https://localhost:8080/"
        },
        "id": "d78b7d8c-e8c2-4a81-93a6-8b8f4133d3a4",
        "outputId": "1625c88b-e793-4911-cb9b-d1f92a525266"
      },
      "outputs": [
        {
          "output_type": "stream",
          "name": "stdout",
          "text": [
            "Model: \"sequential\"\n",
            "_________________________________________________________________\n",
            " Layer (type)                Output Shape              Param #   \n",
            "=================================================================\n",
            " conv2d (Conv2D)             (None, 222, 222, 64)      1792      \n",
            "                                                                 \n",
            " max_pooling2d (MaxPooling2  (None, 111, 111, 64)      0         \n",
            " D)                                                              \n",
            "                                                                 \n",
            " conv2d_1 (Conv2D)           (None, 109, 109, 64)      36928     \n",
            "                                                                 \n",
            " max_pooling2d_1 (MaxPoolin  (None, 54, 54, 64)        0         \n",
            " g2D)                                                            \n",
            "                                                                 \n",
            " conv2d_2 (Conv2D)           (None, 52, 52, 128)       73856     \n",
            "                                                                 \n",
            " max_pooling2d_2 (MaxPoolin  (None, 26, 26, 128)       0         \n",
            " g2D)                                                            \n",
            "                                                                 \n",
            " conv2d_3 (Conv2D)           (None, 24, 24, 256)       295168    \n",
            "                                                                 \n",
            " max_pooling2d_3 (MaxPoolin  (None, 12, 12, 256)       0         \n",
            " g2D)                                                            \n",
            "                                                                 \n",
            " flatten (Flatten)           (None, 36864)             0         \n",
            "                                                                 \n",
            " dropout (Dropout)           (None, 36864)             0         \n",
            "                                                                 \n",
            " dense (Dense)               (None, 512)               18874880  \n",
            "                                                                 \n",
            " dense_1 (Dense)             (None, 3)                 1539      \n",
            "                                                                 \n",
            "=================================================================\n",
            "Total params: 19284163 (73.56 MB)\n",
            "Trainable params: 19284163 (73.56 MB)\n",
            "Non-trainable params: 0 (0.00 Byte)\n",
            "_________________________________________________________________\n"
          ]
        }
      ],
      "source": [
        "model.summary()"
      ]
    },
    {
      "cell_type": "code",
      "execution_count": 11,
      "id": "4243b3d3-ec3a-43fa-b92a-315fa265f0f1",
      "metadata": {
        "id": "4243b3d3-ec3a-43fa-b92a-315fa265f0f1"
      },
      "outputs": [],
      "source": [
        "model.compile(loss = 'categorical_crossentropy', optimizer=tf.keras.optimizers.Adam(learning_rate=0.0001), metrics=['accuracy'])"
      ]
    },
    {
      "cell_type": "code",
      "source": [
        "# model.compile(loss='categorical_crossentropy', optimizer=tf.keras.optimizers.SGD(learning_rate=0.01, momentum=0.9), metrics=['accuracy'])"
      ],
      "metadata": {
        "id": "QUmouYyLFqr-"
      },
      "id": "QUmouYyLFqr-",
      "execution_count": 31,
      "outputs": []
    },
    {
      "cell_type": "code",
      "execution_count": 12,
      "id": "f4b59e2e-5a76-4953-827c-6aa3e5d3ea3c",
      "metadata": {
        "id": "f4b59e2e-5a76-4953-827c-6aa3e5d3ea3c"
      },
      "outputs": [],
      "source": [
        "from PIL import ImageFile\n",
        "ImageFile.LOAD_TRUNCATED_IMAGES = True"
      ]
    },
    {
      "cell_type": "code",
      "execution_count": 14,
      "id": "974964ab-a6ca-44db-b964-5b9e6af3730d",
      "metadata": {
        "colab": {
          "base_uri": "https://localhost:8080/"
        },
        "id": "974964ab-a6ca-44db-b964-5b9e6af3730d",
        "outputId": "adc0ffcd-3024-4019-85c9-9d8d3a0f84eb"
      },
      "outputs": [
        {
          "output_type": "stream",
          "name": "stdout",
          "text": [
            "Epoch 1/100\n",
            "75/75 [==============================] - 46s 614ms/step - loss: 0.5869 - accuracy: 0.7608 - val_loss: 0.8748 - val_accuracy: 0.6367\n",
            "Epoch 2/100\n",
            "75/75 [==============================] - 45s 599ms/step - loss: 0.5846 - accuracy: 0.7575 - val_loss: 0.7919 - val_accuracy: 0.6600\n",
            "Epoch 3/100\n",
            "75/75 [==============================] - 45s 604ms/step - loss: 0.5976 - accuracy: 0.7396 - val_loss: 0.8794 - val_accuracy: 0.6317\n",
            "Epoch 4/100\n",
            "75/75 [==============================] - 45s 604ms/step - loss: 0.5931 - accuracy: 0.7550 - val_loss: 0.8083 - val_accuracy: 0.6650\n",
            "Epoch 5/100\n",
            "75/75 [==============================] - 47s 626ms/step - loss: 0.5647 - accuracy: 0.7658 - val_loss: 0.8302 - val_accuracy: 0.6600\n",
            "Epoch 6/100\n",
            "75/75 [==============================] - 46s 614ms/step - loss: 0.5729 - accuracy: 0.7633 - val_loss: 0.8561 - val_accuracy: 0.6467\n",
            "Epoch 7/100\n",
            "75/75 [==============================] - 46s 609ms/step - loss: 0.5760 - accuracy: 0.7550 - val_loss: 0.8596 - val_accuracy: 0.6483\n",
            "Epoch 8/100\n",
            "75/75 [==============================] - 48s 641ms/step - loss: 0.5641 - accuracy: 0.7696 - val_loss: 0.8886 - val_accuracy: 0.6483\n",
            "Epoch 9/100\n",
            "75/75 [==============================] - 50s 673ms/step - loss: 0.5735 - accuracy: 0.7625 - val_loss: 0.8365 - val_accuracy: 0.6667\n",
            "Epoch 10/100\n",
            "75/75 [==============================] - 48s 645ms/step - loss: 0.5370 - accuracy: 0.7729 - val_loss: 0.8348 - val_accuracy: 0.6533\n",
            "Epoch 11/100\n",
            "75/75 [==============================] - 50s 667ms/step - loss: 0.5526 - accuracy: 0.7671 - val_loss: 0.8422 - val_accuracy: 0.6717\n",
            "Epoch 12/100\n",
            "75/75 [==============================] - 51s 677ms/step - loss: 0.5564 - accuracy: 0.7646 - val_loss: 0.8245 - val_accuracy: 0.6683\n",
            "Epoch 13/100\n",
            "75/75 [==============================] - 48s 641ms/step - loss: 0.5304 - accuracy: 0.7850 - val_loss: 0.8894 - val_accuracy: 0.6617\n",
            "Epoch 14/100\n",
            "75/75 [==============================] - 48s 641ms/step - loss: 0.5457 - accuracy: 0.7675 - val_loss: 0.8697 - val_accuracy: 0.6467\n",
            "Epoch 15/100\n",
            "75/75 [==============================] - 49s 657ms/step - loss: 0.5422 - accuracy: 0.7767 - val_loss: 0.8334 - val_accuracy: 0.6533\n",
            "Epoch 16/100\n",
            "75/75 [==============================] - 48s 644ms/step - loss: 0.5304 - accuracy: 0.7862 - val_loss: 0.8983 - val_accuracy: 0.6467\n",
            "Epoch 17/100\n",
            "75/75 [==============================] - 47s 632ms/step - loss: 0.5422 - accuracy: 0.7750 - val_loss: 0.9050 - val_accuracy: 0.6600\n",
            "Epoch 18/100\n",
            "75/75 [==============================] - 48s 645ms/step - loss: 0.5086 - accuracy: 0.7862 - val_loss: 0.9333 - val_accuracy: 0.6633\n",
            "Epoch 19/100\n",
            "75/75 [==============================] - 46s 613ms/step - loss: 0.5105 - accuracy: 0.7942 - val_loss: 0.8749 - val_accuracy: 0.6600\n",
            "Epoch 20/100\n",
            "75/75 [==============================] - 46s 612ms/step - loss: 0.5204 - accuracy: 0.7867 - val_loss: 0.8920 - val_accuracy: 0.6717\n",
            "Epoch 21/100\n",
            "75/75 [==============================] - 46s 614ms/step - loss: 0.5233 - accuracy: 0.7871 - val_loss: 0.8393 - val_accuracy: 0.6550\n",
            "Epoch 22/100\n",
            "75/75 [==============================] - 46s 608ms/step - loss: 0.5272 - accuracy: 0.7829 - val_loss: 0.8470 - val_accuracy: 0.6683\n",
            "Epoch 23/100\n",
            "75/75 [==============================] - 48s 643ms/step - loss: 0.5143 - accuracy: 0.8004 - val_loss: 0.8449 - val_accuracy: 0.6600\n",
            "Epoch 24/100\n",
            "75/75 [==============================] - 46s 621ms/step - loss: 0.5204 - accuracy: 0.7921 - val_loss: 0.8487 - val_accuracy: 0.6817\n",
            "Epoch 25/100\n",
            "75/75 [==============================] - 46s 614ms/step - loss: 0.5143 - accuracy: 0.7887 - val_loss: 0.8950 - val_accuracy: 0.6467\n",
            "Epoch 26/100\n",
            "75/75 [==============================] - 46s 613ms/step - loss: 0.5022 - accuracy: 0.7946 - val_loss: 0.8663 - val_accuracy: 0.6633\n",
            "Epoch 27/100\n",
            "75/75 [==============================] - 46s 613ms/step - loss: 0.4928 - accuracy: 0.7896 - val_loss: 0.9162 - val_accuracy: 0.6650\n",
            "Epoch 28/100\n",
            "75/75 [==============================] - 47s 624ms/step - loss: 0.4995 - accuracy: 0.7929 - val_loss: 0.8700 - val_accuracy: 0.6783\n",
            "Epoch 29/100\n",
            "75/75 [==============================] - 48s 646ms/step - loss: 0.5069 - accuracy: 0.7862 - val_loss: 0.9139 - val_accuracy: 0.6517\n",
            "Epoch 30/100\n",
            "75/75 [==============================] - 49s 647ms/step - loss: 0.4953 - accuracy: 0.7954 - val_loss: 0.8537 - val_accuracy: 0.6533\n",
            "Epoch 31/100\n",
            "75/75 [==============================] - 47s 620ms/step - loss: 0.5153 - accuracy: 0.7887 - val_loss: 0.8625 - val_accuracy: 0.6683\n",
            "Epoch 32/100\n",
            "75/75 [==============================] - 47s 629ms/step - loss: 0.4860 - accuracy: 0.8012 - val_loss: 0.8764 - val_accuracy: 0.6567\n",
            "Epoch 33/100\n",
            "75/75 [==============================] - 47s 629ms/step - loss: 0.4930 - accuracy: 0.7950 - val_loss: 0.8911 - val_accuracy: 0.6783\n",
            "Epoch 34/100\n",
            "75/75 [==============================] - 47s 616ms/step - loss: 0.4748 - accuracy: 0.8079 - val_loss: 0.8997 - val_accuracy: 0.6650\n",
            "Epoch 35/100\n",
            "75/75 [==============================] - 47s 630ms/step - loss: 0.4869 - accuracy: 0.7946 - val_loss: 0.8876 - val_accuracy: 0.6583\n",
            "Epoch 36/100\n",
            "75/75 [==============================] - 48s 637ms/step - loss: 0.4815 - accuracy: 0.8133 - val_loss: 0.8884 - val_accuracy: 0.6600\n",
            "Epoch 37/100\n",
            "75/75 [==============================] - 47s 624ms/step - loss: 0.4732 - accuracy: 0.8042 - val_loss: 0.8533 - val_accuracy: 0.6800\n",
            "Epoch 38/100\n",
            "75/75 [==============================] - 47s 630ms/step - loss: 0.4770 - accuracy: 0.8050 - val_loss: 0.9443 - val_accuracy: 0.6583\n",
            "Epoch 39/100\n",
            "75/75 [==============================] - 47s 626ms/step - loss: 0.4699 - accuracy: 0.8021 - val_loss: 0.9210 - val_accuracy: 0.6483\n",
            "Epoch 40/100\n",
            "75/75 [==============================] - 47s 633ms/step - loss: 0.4654 - accuracy: 0.8121 - val_loss: 0.9263 - val_accuracy: 0.6367\n",
            "Epoch 41/100\n",
            "75/75 [==============================] - 47s 624ms/step - loss: 0.4712 - accuracy: 0.8075 - val_loss: 0.9347 - val_accuracy: 0.6450\n",
            "Epoch 42/100\n",
            "75/75 [==============================] - 47s 624ms/step - loss: 0.4727 - accuracy: 0.8146 - val_loss: 0.8921 - val_accuracy: 0.6633\n",
            "Epoch 43/100\n",
            "75/75 [==============================] - 47s 628ms/step - loss: 0.4537 - accuracy: 0.8142 - val_loss: 0.9509 - val_accuracy: 0.6550\n",
            "Epoch 44/100\n",
            "75/75 [==============================] - 47s 629ms/step - loss: 0.4640 - accuracy: 0.8079 - val_loss: 0.9659 - val_accuracy: 0.6417\n",
            "Epoch 45/100\n",
            "75/75 [==============================] - 47s 625ms/step - loss: 0.4552 - accuracy: 0.8100 - val_loss: 0.8902 - val_accuracy: 0.6750\n",
            "Epoch 46/100\n",
            "75/75 [==============================] - 49s 650ms/step - loss: 0.4753 - accuracy: 0.8042 - val_loss: 0.9520 - val_accuracy: 0.6583\n",
            "Epoch 47/100\n",
            "75/75 [==============================] - 47s 620ms/step - loss: 0.4357 - accuracy: 0.8288 - val_loss: 0.9006 - val_accuracy: 0.6683\n",
            "Epoch 48/100\n",
            "75/75 [==============================] - 46s 618ms/step - loss: 0.4495 - accuracy: 0.8138 - val_loss: 0.9110 - val_accuracy: 0.6633\n",
            "Epoch 49/100\n",
            "75/75 [==============================] - 46s 620ms/step - loss: 0.4539 - accuracy: 0.8112 - val_loss: 0.9344 - val_accuracy: 0.6667\n",
            "Epoch 50/100\n",
            "75/75 [==============================] - 46s 617ms/step - loss: 0.4354 - accuracy: 0.8225 - val_loss: 0.9423 - val_accuracy: 0.6567\n",
            "Epoch 51/100\n",
            "75/75 [==============================] - 49s 653ms/step - loss: 0.4103 - accuracy: 0.8413 - val_loss: 0.8798 - val_accuracy: 0.6767\n",
            "Epoch 52/100\n",
            "75/75 [==============================] - 46s 619ms/step - loss: 0.4341 - accuracy: 0.8258 - val_loss: 0.9895 - val_accuracy: 0.6700\n",
            "Epoch 53/100\n",
            "75/75 [==============================] - 47s 623ms/step - loss: 0.4296 - accuracy: 0.8213 - val_loss: 0.9974 - val_accuracy: 0.6367\n",
            "Epoch 54/100\n",
            "75/75 [==============================] - 46s 621ms/step - loss: 0.4123 - accuracy: 0.8358 - val_loss: 0.9346 - val_accuracy: 0.6650\n",
            "Epoch 55/100\n",
            "75/75 [==============================] - 49s 649ms/step - loss: 0.4311 - accuracy: 0.8221 - val_loss: 0.9448 - val_accuracy: 0.6733\n",
            "Epoch 56/100\n",
            "75/75 [==============================] - 46s 620ms/step - loss: 0.4181 - accuracy: 0.8342 - val_loss: 0.9875 - val_accuracy: 0.6700\n",
            "Epoch 57/100\n",
            "75/75 [==============================] - 46s 613ms/step - loss: 0.4275 - accuracy: 0.8229 - val_loss: 1.0034 - val_accuracy: 0.6667\n",
            "Epoch 58/100\n",
            "75/75 [==============================] - 46s 612ms/step - loss: 0.4090 - accuracy: 0.8342 - val_loss: 1.0603 - val_accuracy: 0.6533\n",
            "Epoch 59/100\n",
            "75/75 [==============================] - 44s 593ms/step - loss: 0.3843 - accuracy: 0.8496 - val_loss: 0.9228 - val_accuracy: 0.6900\n",
            "Epoch 60/100\n",
            "75/75 [==============================] - 45s 605ms/step - loss: 0.4033 - accuracy: 0.8400 - val_loss: 0.9466 - val_accuracy: 0.6700\n",
            "Epoch 61/100\n",
            "75/75 [==============================] - 47s 622ms/step - loss: 0.4194 - accuracy: 0.8213 - val_loss: 0.9326 - val_accuracy: 0.6767\n",
            "Epoch 62/100\n",
            "75/75 [==============================] - 46s 601ms/step - loss: 0.4179 - accuracy: 0.8333 - val_loss: 0.9150 - val_accuracy: 0.6700\n",
            "Epoch 63/100\n",
            "75/75 [==============================] - 45s 600ms/step - loss: 0.4151 - accuracy: 0.8246 - val_loss: 0.9594 - val_accuracy: 0.6633\n",
            "Epoch 64/100\n",
            "75/75 [==============================] - 45s 609ms/step - loss: 0.4110 - accuracy: 0.8425 - val_loss: 0.9832 - val_accuracy: 0.6700\n",
            "Epoch 65/100\n",
            "75/75 [==============================] - 46s 615ms/step - loss: 0.3994 - accuracy: 0.8471 - val_loss: 0.9689 - val_accuracy: 0.6650\n",
            "Epoch 66/100\n",
            "75/75 [==============================] - 45s 598ms/step - loss: 0.3887 - accuracy: 0.8508 - val_loss: 0.9671 - val_accuracy: 0.6733\n",
            "Epoch 67/100\n",
            "75/75 [==============================] - 45s 601ms/step - loss: 0.3869 - accuracy: 0.8533 - val_loss: 0.9225 - val_accuracy: 0.6700\n",
            "Epoch 68/100\n",
            "75/75 [==============================] - 45s 604ms/step - loss: 0.4024 - accuracy: 0.8392 - val_loss: 0.9571 - val_accuracy: 0.6900\n",
            "Epoch 69/100\n",
            "75/75 [==============================] - 47s 630ms/step - loss: 0.3806 - accuracy: 0.8542 - val_loss: 0.9432 - val_accuracy: 0.6800\n",
            "Epoch 70/100\n",
            "75/75 [==============================] - 45s 602ms/step - loss: 0.3869 - accuracy: 0.8371 - val_loss: 0.9266 - val_accuracy: 0.6667\n",
            "Epoch 71/100\n",
            "75/75 [==============================] - 45s 604ms/step - loss: 0.3754 - accuracy: 0.8521 - val_loss: 1.0717 - val_accuracy: 0.6383\n",
            "Epoch 72/100\n",
            "75/75 [==============================] - 48s 642ms/step - loss: 0.3781 - accuracy: 0.8483 - val_loss: 0.9662 - val_accuracy: 0.6700\n",
            "Epoch 73/100\n",
            "75/75 [==============================] - 47s 629ms/step - loss: 0.3709 - accuracy: 0.8496 - val_loss: 0.9230 - val_accuracy: 0.6800\n",
            "Epoch 74/100\n",
            "75/75 [==============================] - 45s 602ms/step - loss: 0.3809 - accuracy: 0.8450 - val_loss: 0.8995 - val_accuracy: 0.6850\n",
            "Epoch 75/100\n",
            "75/75 [==============================] - 45s 597ms/step - loss: 0.3582 - accuracy: 0.8587 - val_loss: 1.0269 - val_accuracy: 0.6467\n",
            "Epoch 76/100\n",
            "75/75 [==============================] - 47s 632ms/step - loss: 0.3913 - accuracy: 0.8454 - val_loss: 0.9297 - val_accuracy: 0.6700\n",
            "Epoch 77/100\n",
            "75/75 [==============================] - 45s 600ms/step - loss: 0.3709 - accuracy: 0.8562 - val_loss: 0.9971 - val_accuracy: 0.6733\n",
            "Epoch 78/100\n",
            "75/75 [==============================] - 45s 601ms/step - loss: 0.3687 - accuracy: 0.8517 - val_loss: 1.0472 - val_accuracy: 0.6500\n",
            "Epoch 79/100\n",
            "75/75 [==============================] - 46s 609ms/step - loss: 0.3572 - accuracy: 0.8579 - val_loss: 0.9884 - val_accuracy: 0.6567\n",
            "Epoch 80/100\n",
            "75/75 [==============================] - 47s 625ms/step - loss: 0.3750 - accuracy: 0.8450 - val_loss: 0.9235 - val_accuracy: 0.6833\n",
            "Epoch 81/100\n",
            "75/75 [==============================] - 45s 600ms/step - loss: 0.3603 - accuracy: 0.8654 - val_loss: 0.9888 - val_accuracy: 0.6600\n",
            "Epoch 82/100\n",
            "75/75 [==============================] - 45s 608ms/step - loss: 0.3657 - accuracy: 0.8596 - val_loss: 0.9625 - val_accuracy: 0.6633\n",
            "Epoch 83/100\n",
            "75/75 [==============================] - 47s 631ms/step - loss: 0.3379 - accuracy: 0.8696 - val_loss: 0.9207 - val_accuracy: 0.6900\n",
            "Epoch 84/100\n",
            "75/75 [==============================] - 47s 628ms/step - loss: 0.3560 - accuracy: 0.8642 - val_loss: 0.9790 - val_accuracy: 0.6750\n",
            "Epoch 85/100\n",
            "75/75 [==============================] - 46s 608ms/step - loss: 0.3501 - accuracy: 0.8596 - val_loss: 0.9612 - val_accuracy: 0.6717\n",
            "Epoch 86/100\n",
            "75/75 [==============================] - 45s 601ms/step - loss: 0.3578 - accuracy: 0.8671 - val_loss: 1.0520 - val_accuracy: 0.6383\n",
            "Epoch 87/100\n",
            "75/75 [==============================] - 46s 608ms/step - loss: 0.3354 - accuracy: 0.8717 - val_loss: 0.9848 - val_accuracy: 0.6683\n",
            "Epoch 88/100\n",
            "75/75 [==============================] - 47s 625ms/step - loss: 0.3347 - accuracy: 0.8725 - val_loss: 0.9600 - val_accuracy: 0.6933\n",
            "Epoch 89/100\n",
            "75/75 [==============================] - 46s 611ms/step - loss: 0.3378 - accuracy: 0.8742 - val_loss: 1.1060 - val_accuracy: 0.6650\n",
            "Epoch 90/100\n",
            "75/75 [==============================] - 45s 602ms/step - loss: 0.3232 - accuracy: 0.8721 - val_loss: 0.9234 - val_accuracy: 0.6900\n",
            "Epoch 91/100\n",
            "75/75 [==============================] - 45s 603ms/step - loss: 0.3230 - accuracy: 0.8746 - val_loss: 0.9889 - val_accuracy: 0.6833\n",
            "Epoch 92/100\n",
            "75/75 [==============================] - 45s 594ms/step - loss: 0.3346 - accuracy: 0.8725 - val_loss: 0.9604 - val_accuracy: 0.6600\n",
            "Epoch 93/100\n",
            "75/75 [==============================] - 46s 612ms/step - loss: 0.3487 - accuracy: 0.8625 - val_loss: 0.9540 - val_accuracy: 0.6700\n",
            "Epoch 94/100\n",
            "75/75 [==============================] - 45s 598ms/step - loss: 0.3244 - accuracy: 0.8721 - val_loss: 0.9977 - val_accuracy: 0.6833\n",
            "Epoch 95/100\n",
            "75/75 [==============================] - 46s 614ms/step - loss: 0.3161 - accuracy: 0.8788 - val_loss: 1.1659 - val_accuracy: 0.6383\n",
            "Epoch 96/100\n",
            "75/75 [==============================] - 47s 630ms/step - loss: 0.3154 - accuracy: 0.8779 - val_loss: 1.0277 - val_accuracy: 0.6633\n",
            "Epoch 97/100\n",
            "75/75 [==============================] - 45s 605ms/step - loss: 0.3240 - accuracy: 0.8796 - val_loss: 1.1032 - val_accuracy: 0.6600\n",
            "Epoch 98/100\n",
            "75/75 [==============================] - 45s 600ms/step - loss: 0.2994 - accuracy: 0.8833 - val_loss: 1.0439 - val_accuracy: 0.6617\n",
            "Epoch 99/100\n",
            "75/75 [==============================] - 47s 633ms/step - loss: 0.3240 - accuracy: 0.8746 - val_loss: 1.0462 - val_accuracy: 0.6717\n",
            "Epoch 100/100\n",
            "75/75 [==============================] - 45s 603ms/step - loss: 0.3276 - accuracy: 0.8667 - val_loss: 0.9921 - val_accuracy: 0.6917\n"
          ]
        }
      ],
      "source": [
        "# Train the model\n",
        "callback = myCallback()\n",
        "history = model.fit(train_generator, epochs=100, validation_data = validation_generator, verbose = 1, callbacks=callback)"
      ]
    },
    {
      "cell_type": "code",
      "execution_count": 15,
      "id": "8419b30d-6b22-4d47-a0e6-5a5b22fd3200",
      "metadata": {
        "id": "8419b30d-6b22-4d47-a0e6-5a5b22fd3200",
        "colab": {
          "base_uri": "https://localhost:8080/"
        },
        "outputId": "032c0f13-3280-4eb7-d36b-4434756ad3a1"
      },
      "outputs": [
        {
          "output_type": "stream",
          "name": "stdout",
          "text": [
            "Collecting tensorflowjs\n",
            "  Downloading tensorflowjs-4.15.0-py3-none-any.whl (89 kB)\n",
            "\u001b[2K     \u001b[90m━━━━━━━━━━━━━━━━━━━━━━━━━━━━━━━━━━━━━━━━\u001b[0m \u001b[32m89.2/89.2 kB\u001b[0m \u001b[31m1.2 MB/s\u001b[0m eta \u001b[36m0:00:00\u001b[0m\n",
            "\u001b[?25hRequirement already satisfied: flax>=0.7.2 in /usr/local/lib/python3.10/dist-packages (from tensorflowjs) (0.7.5)\n",
            "Requirement already satisfied: importlib_resources>=5.9.0 in /usr/local/lib/python3.10/dist-packages (from tensorflowjs) (6.1.1)\n",
            "Requirement already satisfied: jax>=0.4.13 in /usr/local/lib/python3.10/dist-packages (from tensorflowjs) (0.4.20)\n",
            "Requirement already satisfied: jaxlib>=0.4.13 in /usr/local/lib/python3.10/dist-packages (from tensorflowjs) (0.4.20+cuda12.cudnn89)\n",
            "Requirement already satisfied: tensorflow<3,>=2.13.0 in /usr/local/lib/python3.10/dist-packages (from tensorflowjs) (2.15.0)\n",
            "Collecting tensorflow-decision-forests>=1.5.0 (from tensorflowjs)\n",
            "  Downloading tensorflow_decision_forests-1.8.1-cp310-cp310-manylinux_2_17_x86_64.manylinux2014_x86_64.whl (15.3 MB)\n",
            "\u001b[2K     \u001b[90m━━━━━━━━━━━━━━━━━━━━━━━━━━━━━━━━━━━━━━━━\u001b[0m \u001b[32m15.3/15.3 MB\u001b[0m \u001b[31m50.9 MB/s\u001b[0m eta \u001b[36m0:00:00\u001b[0m\n",
            "\u001b[?25hRequirement already satisfied: six<2,>=1.16.0 in /usr/local/lib/python3.10/dist-packages (from tensorflowjs) (1.16.0)\n",
            "Requirement already satisfied: tensorflow-hub>=0.14.0 in /usr/local/lib/python3.10/dist-packages (from tensorflowjs) (0.15.0)\n",
            "Requirement already satisfied: packaging~=23.1 in /usr/local/lib/python3.10/dist-packages (from tensorflowjs) (23.2)\n",
            "Requirement already satisfied: numpy>=1.22 in /usr/local/lib/python3.10/dist-packages (from flax>=0.7.2->tensorflowjs) (1.23.5)\n",
            "Requirement already satisfied: msgpack in /usr/local/lib/python3.10/dist-packages (from flax>=0.7.2->tensorflowjs) (1.0.7)\n",
            "Requirement already satisfied: optax in /usr/local/lib/python3.10/dist-packages (from flax>=0.7.2->tensorflowjs) (0.1.7)\n",
            "Requirement already satisfied: orbax-checkpoint in /usr/local/lib/python3.10/dist-packages (from flax>=0.7.2->tensorflowjs) (0.4.4)\n",
            "Requirement already satisfied: tensorstore in /usr/local/lib/python3.10/dist-packages (from flax>=0.7.2->tensorflowjs) (0.1.45)\n",
            "Requirement already satisfied: rich>=11.1 in /usr/local/lib/python3.10/dist-packages (from flax>=0.7.2->tensorflowjs) (13.7.0)\n",
            "Requirement already satisfied: typing-extensions>=4.2 in /usr/local/lib/python3.10/dist-packages (from flax>=0.7.2->tensorflowjs) (4.5.0)\n",
            "Requirement already satisfied: PyYAML>=5.4.1 in /usr/local/lib/python3.10/dist-packages (from flax>=0.7.2->tensorflowjs) (6.0.1)\n",
            "Requirement already satisfied: ml-dtypes>=0.2.0 in /usr/local/lib/python3.10/dist-packages (from jax>=0.4.13->tensorflowjs) (0.2.0)\n",
            "Requirement already satisfied: opt-einsum in /usr/local/lib/python3.10/dist-packages (from jax>=0.4.13->tensorflowjs) (3.3.0)\n",
            "Requirement already satisfied: scipy>=1.9 in /usr/local/lib/python3.10/dist-packages (from jax>=0.4.13->tensorflowjs) (1.11.4)\n",
            "Requirement already satisfied: absl-py>=1.0.0 in /usr/local/lib/python3.10/dist-packages (from tensorflow<3,>=2.13.0->tensorflowjs) (1.4.0)\n",
            "Requirement already satisfied: astunparse>=1.6.0 in /usr/local/lib/python3.10/dist-packages (from tensorflow<3,>=2.13.0->tensorflowjs) (1.6.3)\n",
            "Requirement already satisfied: flatbuffers>=23.5.26 in /usr/local/lib/python3.10/dist-packages (from tensorflow<3,>=2.13.0->tensorflowjs) (23.5.26)\n",
            "Requirement already satisfied: gast!=0.5.0,!=0.5.1,!=0.5.2,>=0.2.1 in /usr/local/lib/python3.10/dist-packages (from tensorflow<3,>=2.13.0->tensorflowjs) (0.5.4)\n",
            "Requirement already satisfied: google-pasta>=0.1.1 in /usr/local/lib/python3.10/dist-packages (from tensorflow<3,>=2.13.0->tensorflowjs) (0.2.0)\n",
            "Requirement already satisfied: h5py>=2.9.0 in /usr/local/lib/python3.10/dist-packages (from tensorflow<3,>=2.13.0->tensorflowjs) (3.9.0)\n",
            "Requirement already satisfied: libclang>=13.0.0 in /usr/local/lib/python3.10/dist-packages (from tensorflow<3,>=2.13.0->tensorflowjs) (16.0.6)\n",
            "Requirement already satisfied: protobuf!=4.21.0,!=4.21.1,!=4.21.2,!=4.21.3,!=4.21.4,!=4.21.5,<5.0.0dev,>=3.20.3 in /usr/local/lib/python3.10/dist-packages (from tensorflow<3,>=2.13.0->tensorflowjs) (3.20.3)\n",
            "Requirement already satisfied: setuptools in /usr/local/lib/python3.10/dist-packages (from tensorflow<3,>=2.13.0->tensorflowjs) (67.7.2)\n",
            "Requirement already satisfied: termcolor>=1.1.0 in /usr/local/lib/python3.10/dist-packages (from tensorflow<3,>=2.13.0->tensorflowjs) (2.4.0)\n",
            "Requirement already satisfied: wrapt<1.15,>=1.11.0 in /usr/local/lib/python3.10/dist-packages (from tensorflow<3,>=2.13.0->tensorflowjs) (1.14.1)\n",
            "Requirement already satisfied: tensorflow-io-gcs-filesystem>=0.23.1 in /usr/local/lib/python3.10/dist-packages (from tensorflow<3,>=2.13.0->tensorflowjs) (0.34.0)\n",
            "Requirement already satisfied: grpcio<2.0,>=1.24.3 in /usr/local/lib/python3.10/dist-packages (from tensorflow<3,>=2.13.0->tensorflowjs) (1.60.0)\n",
            "Requirement already satisfied: tensorboard<2.16,>=2.15 in /usr/local/lib/python3.10/dist-packages (from tensorflow<3,>=2.13.0->tensorflowjs) (2.15.1)\n",
            "Requirement already satisfied: tensorflow-estimator<2.16,>=2.15.0 in /usr/local/lib/python3.10/dist-packages (from tensorflow<3,>=2.13.0->tensorflowjs) (2.15.0)\n",
            "Requirement already satisfied: keras<2.16,>=2.15.0 in /usr/local/lib/python3.10/dist-packages (from tensorflow<3,>=2.13.0->tensorflowjs) (2.15.0)\n",
            "Requirement already satisfied: pandas in /usr/local/lib/python3.10/dist-packages (from tensorflow-decision-forests>=1.5.0->tensorflowjs) (1.5.3)\n",
            "Requirement already satisfied: wheel in /usr/local/lib/python3.10/dist-packages (from tensorflow-decision-forests>=1.5.0->tensorflowjs) (0.42.0)\n",
            "Collecting wurlitzer (from tensorflow-decision-forests>=1.5.0->tensorflowjs)\n",
            "  Downloading wurlitzer-3.0.3-py3-none-any.whl (7.3 kB)\n",
            "Requirement already satisfied: markdown-it-py>=2.2.0 in /usr/local/lib/python3.10/dist-packages (from rich>=11.1->flax>=0.7.2->tensorflowjs) (3.0.0)\n",
            "Requirement already satisfied: pygments<3.0.0,>=2.13.0 in /usr/local/lib/python3.10/dist-packages (from rich>=11.1->flax>=0.7.2->tensorflowjs) (2.16.1)\n",
            "Requirement already satisfied: google-auth<3,>=1.6.3 in /usr/local/lib/python3.10/dist-packages (from tensorboard<2.16,>=2.15->tensorflow<3,>=2.13.0->tensorflowjs) (2.17.3)\n",
            "Requirement already satisfied: google-auth-oauthlib<2,>=0.5 in /usr/local/lib/python3.10/dist-packages (from tensorboard<2.16,>=2.15->tensorflow<3,>=2.13.0->tensorflowjs) (1.2.0)\n",
            "Requirement already satisfied: markdown>=2.6.8 in /usr/local/lib/python3.10/dist-packages (from tensorboard<2.16,>=2.15->tensorflow<3,>=2.13.0->tensorflowjs) (3.5.1)\n",
            "Requirement already satisfied: requests<3,>=2.21.0 in /usr/local/lib/python3.10/dist-packages (from tensorboard<2.16,>=2.15->tensorflow<3,>=2.13.0->tensorflowjs) (2.31.0)\n",
            "Requirement already satisfied: tensorboard-data-server<0.8.0,>=0.7.0 in /usr/local/lib/python3.10/dist-packages (from tensorboard<2.16,>=2.15->tensorflow<3,>=2.13.0->tensorflowjs) (0.7.2)\n",
            "Requirement already satisfied: werkzeug>=1.0.1 in /usr/local/lib/python3.10/dist-packages (from tensorboard<2.16,>=2.15->tensorflow<3,>=2.13.0->tensorflowjs) (3.0.1)\n",
            "Requirement already satisfied: chex>=0.1.5 in /usr/local/lib/python3.10/dist-packages (from optax->flax>=0.7.2->tensorflowjs) (0.1.7)\n",
            "Requirement already satisfied: etils[epath,epy] in /usr/local/lib/python3.10/dist-packages (from orbax-checkpoint->flax>=0.7.2->tensorflowjs) (1.6.0)\n",
            "Requirement already satisfied: nest_asyncio in /usr/local/lib/python3.10/dist-packages (from orbax-checkpoint->flax>=0.7.2->tensorflowjs) (1.5.8)\n",
            "Requirement already satisfied: python-dateutil>=2.8.1 in /usr/local/lib/python3.10/dist-packages (from pandas->tensorflow-decision-forests>=1.5.0->tensorflowjs) (2.8.2)\n",
            "Requirement already satisfied: pytz>=2020.1 in /usr/local/lib/python3.10/dist-packages (from pandas->tensorflow-decision-forests>=1.5.0->tensorflowjs) (2023.3.post1)\n",
            "Requirement already satisfied: dm-tree>=0.1.5 in /usr/local/lib/python3.10/dist-packages (from chex>=0.1.5->optax->flax>=0.7.2->tensorflowjs) (0.1.8)\n",
            "Requirement already satisfied: toolz>=0.9.0 in /usr/local/lib/python3.10/dist-packages (from chex>=0.1.5->optax->flax>=0.7.2->tensorflowjs) (0.12.0)\n",
            "Requirement already satisfied: cachetools<6.0,>=2.0.0 in /usr/local/lib/python3.10/dist-packages (from google-auth<3,>=1.6.3->tensorboard<2.16,>=2.15->tensorflow<3,>=2.13.0->tensorflowjs) (5.3.2)\n",
            "Requirement already satisfied: pyasn1-modules>=0.2.1 in /usr/local/lib/python3.10/dist-packages (from google-auth<3,>=1.6.3->tensorboard<2.16,>=2.15->tensorflow<3,>=2.13.0->tensorflowjs) (0.3.0)\n",
            "Requirement already satisfied: rsa<5,>=3.1.4 in /usr/local/lib/python3.10/dist-packages (from google-auth<3,>=1.6.3->tensorboard<2.16,>=2.15->tensorflow<3,>=2.13.0->tensorflowjs) (4.9)\n",
            "Requirement already satisfied: requests-oauthlib>=0.7.0 in /usr/local/lib/python3.10/dist-packages (from google-auth-oauthlib<2,>=0.5->tensorboard<2.16,>=2.15->tensorflow<3,>=2.13.0->tensorflowjs) (1.3.1)\n",
            "Requirement already satisfied: mdurl~=0.1 in /usr/local/lib/python3.10/dist-packages (from markdown-it-py>=2.2.0->rich>=11.1->flax>=0.7.2->tensorflowjs) (0.1.2)\n",
            "Requirement already satisfied: charset-normalizer<4,>=2 in /usr/local/lib/python3.10/dist-packages (from requests<3,>=2.21.0->tensorboard<2.16,>=2.15->tensorflow<3,>=2.13.0->tensorflowjs) (3.3.2)\n",
            "Requirement already satisfied: idna<4,>=2.5 in /usr/local/lib/python3.10/dist-packages (from requests<3,>=2.21.0->tensorboard<2.16,>=2.15->tensorflow<3,>=2.13.0->tensorflowjs) (3.6)\n",
            "Requirement already satisfied: urllib3<3,>=1.21.1 in /usr/local/lib/python3.10/dist-packages (from requests<3,>=2.21.0->tensorboard<2.16,>=2.15->tensorflow<3,>=2.13.0->tensorflowjs) (2.0.7)\n",
            "Requirement already satisfied: certifi>=2017.4.17 in /usr/local/lib/python3.10/dist-packages (from requests<3,>=2.21.0->tensorboard<2.16,>=2.15->tensorflow<3,>=2.13.0->tensorflowjs) (2023.11.17)\n",
            "Requirement already satisfied: MarkupSafe>=2.1.1 in /usr/local/lib/python3.10/dist-packages (from werkzeug>=1.0.1->tensorboard<2.16,>=2.15->tensorflow<3,>=2.13.0->tensorflowjs) (2.1.3)\n",
            "Requirement already satisfied: fsspec in /usr/local/lib/python3.10/dist-packages (from etils[epath,epy]->orbax-checkpoint->flax>=0.7.2->tensorflowjs) (2023.6.0)\n",
            "Requirement already satisfied: zipp in /usr/local/lib/python3.10/dist-packages (from etils[epath,epy]->orbax-checkpoint->flax>=0.7.2->tensorflowjs) (3.17.0)\n",
            "Requirement already satisfied: pyasn1<0.6.0,>=0.4.6 in /usr/local/lib/python3.10/dist-packages (from pyasn1-modules>=0.2.1->google-auth<3,>=1.6.3->tensorboard<2.16,>=2.15->tensorflow<3,>=2.13.0->tensorflowjs) (0.5.1)\n",
            "Requirement already satisfied: oauthlib>=3.0.0 in /usr/local/lib/python3.10/dist-packages (from requests-oauthlib>=0.7.0->google-auth-oauthlib<2,>=0.5->tensorboard<2.16,>=2.15->tensorflow<3,>=2.13.0->tensorflowjs) (3.2.2)\n",
            "Installing collected packages: wurlitzer, tensorflow-decision-forests, tensorflowjs\n",
            "Successfully installed tensorflow-decision-forests-1.8.1 tensorflowjs-4.15.0 wurlitzer-3.0.3\n"
          ]
        }
      ],
      "source": [
        "pip install tensorflowjs"
      ]
    },
    {
      "cell_type": "code",
      "execution_count": 16,
      "id": "a9854695-9591-47f6-bd71-4790fb816fac",
      "metadata": {
        "id": "a9854695-9591-47f6-bd71-4790fb816fac"
      },
      "outputs": [],
      "source": [
        "import tensorflowjs"
      ]
    },
    {
      "cell_type": "code",
      "execution_count": 17,
      "id": "81bc06ef-0d98-4193-9d3b-d70e8e719dd5",
      "metadata": {
        "id": "81bc06ef-0d98-4193-9d3b-d70e8e719dd5",
        "colab": {
          "base_uri": "https://localhost:8080/"
        },
        "outputId": "f282be60-d4ba-4bd3-decc-390e6ca047b9"
      },
      "outputs": [
        {
          "output_type": "stream",
          "name": "stderr",
          "text": [
            "/usr/local/lib/python3.10/dist-packages/keras/src/engine/training.py:3103: UserWarning: You are saving your model as an HDF5 file via `model.save()`. This file format is considered legacy. We recommend using instead the native Keras format, e.g. `model.save('my_model.keras')`.\n",
            "  saving_api.save_model(\n"
          ]
        }
      ],
      "source": [
        "import time\n",
        "saved_model_path = \"./{}.h5\".format(int(time.time()))\n",
        "\n",
        "model.save(saved_model_path)"
      ]
    },
    {
      "cell_type": "code",
      "execution_count": 18,
      "id": "7a71fec1-cd9f-40f2-ad63-2a4b4187e796",
      "metadata": {
        "id": "7a71fec1-cd9f-40f2-ad63-2a4b4187e796",
        "colab": {
          "base_uri": "https://localhost:8080/"
        },
        "outputId": "8ade6238-f862-41c4-fe7e-d0dfb9a5de4f"
      },
      "outputs": [
        {
          "output_type": "stream",
          "name": "stdout",
          "text": [
            "2023-12-15 08:47:52.968538: E external/local_xla/xla/stream_executor/cuda/cuda_dnn.cc:9261] Unable to register cuDNN factory: Attempting to register factory for plugin cuDNN when one has already been registered\n",
            "2023-12-15 08:47:52.968588: E external/local_xla/xla/stream_executor/cuda/cuda_fft.cc:607] Unable to register cuFFT factory: Attempting to register factory for plugin cuFFT when one has already been registered\n",
            "2023-12-15 08:47:52.970463: E external/local_xla/xla/stream_executor/cuda/cuda_blas.cc:1515] Unable to register cuBLAS factory: Attempting to register factory for plugin cuBLAS when one has already been registered\n",
            "2023-12-15 08:47:54.998686: W tensorflow/compiler/tf2tensorrt/utils/py_utils.cc:38] TF-TRT Warning: Could not find TensorRT\n"
          ]
        }
      ],
      "source": [
        "!tensorflowjs_converter --input_format=keras {saved_model_path} ./"
      ]
    },
    {
      "cell_type": "code",
      "execution_count": 19,
      "id": "dc04979b-17d6-42aa-a95e-b089b8050be3",
      "metadata": {
        "id": "dc04979b-17d6-42aa-a95e-b089b8050be3",
        "colab": {
          "base_uri": "https://localhost:8080/",
          "height": 210
        },
        "outputId": "b23580e4-59a7-4c0e-d3ac-5de0a83eee42"
      },
      "outputs": [
        {
          "output_type": "error",
          "ename": "AttributeError",
          "evalue": "ignored",
          "traceback": [
            "\u001b[0;31m---------------------------------------------------------------------------\u001b[0m",
            "\u001b[0;31mAttributeError\u001b[0m                            Traceback (most recent call last)",
            "\u001b[0;32m<ipython-input-19-4a73ddb7d17b>\u001b[0m in \u001b[0;36m<cell line: 3>\u001b[0;34m()\u001b[0m\n\u001b[1;32m      1\u001b[0m \u001b[0msaved_model_path\u001b[0m \u001b[0;34m=\u001b[0m \u001b[0;34m\"./{}.h5\"\u001b[0m\u001b[0;34m.\u001b[0m\u001b[0mformat\u001b[0m\u001b[0;34m(\u001b[0m\u001b[0mint\u001b[0m\u001b[0;34m(\u001b[0m\u001b[0mtime\u001b[0m\u001b[0;34m.\u001b[0m\u001b[0mtime\u001b[0m\u001b[0;34m(\u001b[0m\u001b[0;34m)\u001b[0m\u001b[0;34m)\u001b[0m\u001b[0;34m)\u001b[0m\u001b[0;34m\u001b[0m\u001b[0;34m\u001b[0m\u001b[0m\n\u001b[1;32m      2\u001b[0m \u001b[0;34m\u001b[0m\u001b[0m\n\u001b[0;32m----> 3\u001b[0;31m \u001b[0mhistory\u001b[0m\u001b[0;34m.\u001b[0m\u001b[0msave\u001b[0m\u001b[0;34m(\u001b[0m\u001b[0msaved_model_path\u001b[0m\u001b[0;34m)\u001b[0m\u001b[0;34m\u001b[0m\u001b[0;34m\u001b[0m\u001b[0m\n\u001b[0m",
            "\u001b[0;31mAttributeError\u001b[0m: 'History' object has no attribute 'save'"
          ]
        }
      ],
      "source": [
        "saved_model_path = \"./{}.h5\".format(int(time.time()))\n",
        "\n",
        "history.save(saved_model_path)"
      ]
    },
    {
      "cell_type": "code",
      "execution_count": null,
      "id": "7642f6d0-ad85-4bea-831c-341fbf06bc55",
      "metadata": {
        "id": "7642f6d0-ad85-4bea-831c-341fbf06bc55"
      },
      "outputs": [],
      "source": [
        "!tensorflowjs_converter --input_format=keras {saved_model_path} ./"
      ]
    },
    {
      "cell_type": "code",
      "execution_count": null,
      "id": "df7e8f27-46bb-414c-8740-6f7f7a750ad7",
      "metadata": {
        "id": "df7e8f27-46bb-414c-8740-6f7f7a750ad7"
      },
      "outputs": [],
      "source": []
    }
  ],
  "metadata": {
    "kernelspec": {
      "display_name": "Python 3",
      "name": "python3"
    },
    "language_info": {
      "codemirror_mode": {
        "name": "ipython",
        "version": 3
      },
      "file_extension": ".py",
      "mimetype": "text/x-python",
      "name": "python",
      "nbconvert_exporter": "python",
      "pygments_lexer": "ipython3",
      "version": "3.11.0rc1"
    },
    "colab": {
      "provenance": [],
      "gpuType": "V100"
    },
    "accelerator": "GPU"
  },
  "nbformat": 4,
  "nbformat_minor": 5
}