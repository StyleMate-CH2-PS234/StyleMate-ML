{
  "cells": [
    {
      "cell_type": "markdown",
      "metadata": {
        "id": "view-in-github",
        "colab_type": "text"
      },
      "source": [
        "<a href=\"https://colab.research.google.com/github/Rizukaf-id/StyleMate-ML/blob/main/capstone%20(1).ipynb\" target=\"_parent\"><img src=\"https://colab.research.google.com/assets/colab-badge.svg\" alt=\"Open In Colab\"/></a>"
      ]
    },
    {
      "cell_type": "code",
      "execution_count": null,
      "id": "b2122e59-93a2-4b1c-aa16-05a05b939bdf",
      "metadata": {
        "colab": {
          "base_uri": "https://localhost:8080/"
        },
        "id": "b2122e59-93a2-4b1c-aa16-05a05b939bdf",
        "outputId": "95a58f2f-875b-430d-d8ec-d3f1c1ddd8c5"
      },
      "outputs": [
        {
          "output_type": "stream",
          "name": "stdout",
          "text": [
            "Collecting split-folders\n",
            "  Downloading split_folders-0.5.1-py3-none-any.whl (8.4 kB)\n",
            "Installing collected packages: split-folders\n",
            "Successfully installed split-folders-0.5.1\n"
          ]
        }
      ],
      "source": [
        "pip install split-folders"
      ]
    },
    {
      "cell_type": "code",
      "source": [
        "from google.colab import drive\n",
        "drive.mount('/content/drive')"
      ],
      "metadata": {
        "colab": {
          "base_uri": "https://localhost:8080/"
        },
        "id": "FHKZ4RFYm_ub",
        "outputId": "c50abe65-a0b1-4eb3-b48b-1e7034a3af2f"
      },
      "id": "FHKZ4RFYm_ub",
      "execution_count": 1,
      "outputs": [
        {
          "output_type": "stream",
          "name": "stdout",
          "text": [
            "Mounted at /content/drive\n"
          ]
        }
      ]
    },
    {
      "cell_type": "code",
      "execution_count": 2,
      "id": "1673606a-9f0e-4083-8790-3c13edc0e5e6",
      "metadata": {
        "id": "1673606a-9f0e-4083-8790-3c13edc0e5e6"
      },
      "outputs": [],
      "source": [
        "import zipfile\n",
        "# import splitfolders\n",
        "import os\n",
        "import tensorflow as tf"
      ]
    },
    {
      "cell_type": "code",
      "execution_count": 3,
      "id": "43b31ed9-a650-41e7-a5a8-637ff2f8cce8",
      "metadata": {
        "id": "43b31ed9-a650-41e7-a5a8-637ff2f8cce8"
      },
      "outputs": [],
      "source": [
        "# Extract the archive\n",
        "local_zip = '/content/drive/MyDrive/dataset_capstone/dataset_capstone/archive_2.zip'\n",
        "zip_ref = zipfile.ZipFile(local_zip, 'r')\n",
        "zip_ref.extractall('data/')\n",
        "zip_ref.close()"
      ]
    },
    {
      "cell_type": "code",
      "source": [
        "# delete class\n",
        "!rm -rf '/content/data/FaceShape Dataset/testing_set/Oval'\n",
        "!rm -rf '/content/data/FaceShape Dataset/testing_set/Oblong'\n",
        "!rm -rf '/content/data/FaceShape Dataset/training_set/Oval'\n",
        "!rm -rf '/content/data/FaceShape Dataset/training_set/Oblong'"
      ],
      "metadata": {
        "id": "NXF8M9l-RrWe"
      },
      "id": "NXF8M9l-RrWe",
      "execution_count": 16,
      "outputs": []
    },
    {
      "cell_type": "code",
      "execution_count": null,
      "id": "a636645e-a933-4891-8b04-b47d006d662b",
      "metadata": {
        "id": "a636645e-a933-4891-8b04-b47d006d662b"
      },
      "outputs": [],
      "source": [
        "# base_dir = 'data/dataset_capstone/'\n",
        "# splitfolders.ratio(base_dir, output = 'data/dataset_capstone/dataset', seed = 1337, ratio=(0.8, 0.2), group_prefix=None)\n",
        "# train_dir = 'data/dataset_capstone/dataset/train'\n",
        "# val_dir = 'data/dataset_capstone/dataset/val'"
      ]
    },
    {
      "cell_type": "code",
      "source": [
        "train_dir = '/content/data/FaceShape Dataset/training_set'\n",
        "val_dir = '/content/data/FaceShape Dataset/testing_set'"
      ],
      "metadata": {
        "id": "IuH2Mp73rI1_"
      },
      "id": "IuH2Mp73rI1_",
      "execution_count": 17,
      "outputs": []
    },
    {
      "cell_type": "code",
      "execution_count": 34,
      "id": "0275613d-3325-4084-8d22-9c08ca54f7ae",
      "metadata": {
        "id": "0275613d-3325-4084-8d22-9c08ca54f7ae"
      },
      "outputs": [],
      "source": [
        "from tensorflow.keras.preprocessing.image import ImageDataGenerator\n",
        "\n",
        "training_datagen = ImageDataGenerator(\n",
        "      rescale = 1./255,\n",
        "      rotation_range=30,\n",
        "      width_shift_range=0.2,\n",
        "      height_shift_range=0.2,\n",
        "      shear_range=0.2,\n",
        "      zoom_range=0.2,\n",
        "      horizontal_flip=True,\n",
        "      fill_mode='constant')\n",
        "\n",
        "validation_datagen = ImageDataGenerator(\n",
        "                    rescale=1./255)"
      ]
    },
    {
      "cell_type": "code",
      "execution_count": 35,
      "id": "31c9510d-1a47-46f8-b308-c8547d17768f",
      "metadata": {
        "colab": {
          "base_uri": "https://localhost:8080/"
        },
        "id": "31c9510d-1a47-46f8-b308-c8547d17768f",
        "outputId": "6b2af220-5c22-43f6-8040-e7baa60605f9"
      },
      "outputs": [
        {
          "output_type": "stream",
          "name": "stdout",
          "text": [
            "Found 2400 images belonging to 3 classes.\n",
            "Found 600 images belonging to 3 classes.\n"
          ]
        }
      ],
      "source": [
        "train_generator = training_datagen.flow_from_directory(\n",
        "\ttrain_dir,\n",
        "\ttarget_size=(224,224),\n",
        "\tclass_mode='categorical',\n",
        "  batch_size=32\n",
        ")\n",
        "\n",
        "validation_generator = validation_datagen.flow_from_directory(\n",
        "\tval_dir,\n",
        "\ttarget_size=(224,224),\n",
        "\tclass_mode='categorical',\n",
        "  batch_size=32\n",
        ")"
      ]
    },
    {
      "cell_type": "code",
      "execution_count": 37,
      "id": "b00e5165-87dd-473e-af08-6d5f84310c92",
      "metadata": {
        "id": "b00e5165-87dd-473e-af08-6d5f84310c92"
      },
      "outputs": [],
      "source": [
        "model = tf.keras.models.Sequential([\n",
        "    tf.keras.layers.Conv2D(64, (3,3), activation='relu', input_shape=(224, 224, 3)),\n",
        "    tf.keras.layers.MaxPooling2D(2, 2),\n",
        "\n",
        "    tf.keras.layers.Conv2D(64, (3,3), activation='relu'),\n",
        "    tf.keras.layers.MaxPooling2D(2,2),\n",
        "\n",
        "    tf.keras.layers.Conv2D(128, (3,3), activation='relu'),\n",
        "    tf.keras.layers.MaxPooling2D(2,2),\n",
        "\n",
        "    tf.keras.layers.Conv2D(256, (3,3), activation='relu'),\n",
        "    tf.keras.layers.MaxPooling2D(2,2),\n",
        "\n",
        "    tf.keras.layers.Flatten(),\n",
        "    tf.keras.layers.Dropout(0.5),\n",
        "\n",
        "    tf.keras.layers.Dense(512, activation='relu'),\n",
        "    tf.keras.layers.Dense(3, activation='softmax')\n",
        "])"
      ]
    },
    {
      "cell_type": "code",
      "source": [
        "# model.add(tf.keras.layers.BatchNormalization())"
      ],
      "metadata": {
        "id": "VTjYSSQBEt63"
      },
      "id": "VTjYSSQBEt63",
      "execution_count": 28,
      "outputs": []
    },
    {
      "cell_type": "code",
      "execution_count": 38,
      "id": "d78b7d8c-e8c2-4a81-93a6-8b8f4133d3a4",
      "metadata": {
        "colab": {
          "base_uri": "https://localhost:8080/"
        },
        "id": "d78b7d8c-e8c2-4a81-93a6-8b8f4133d3a4",
        "outputId": "79d0437a-603e-498b-f3ff-3593c7e74fe4"
      },
      "outputs": [
        {
          "output_type": "stream",
          "name": "stdout",
          "text": [
            "Model: \"sequential_4\"\n",
            "_________________________________________________________________\n",
            " Layer (type)                Output Shape              Param #   \n",
            "=================================================================\n",
            " conv2d_16 (Conv2D)          (None, 222, 222, 64)      1792      \n",
            "                                                                 \n",
            " max_pooling2d_16 (MaxPooli  (None, 111, 111, 64)      0         \n",
            " ng2D)                                                           \n",
            "                                                                 \n",
            " conv2d_17 (Conv2D)          (None, 109, 109, 64)      36928     \n",
            "                                                                 \n",
            " max_pooling2d_17 (MaxPooli  (None, 54, 54, 64)        0         \n",
            " ng2D)                                                           \n",
            "                                                                 \n",
            " conv2d_18 (Conv2D)          (None, 52, 52, 128)       73856     \n",
            "                                                                 \n",
            " max_pooling2d_18 (MaxPooli  (None, 26, 26, 128)       0         \n",
            " ng2D)                                                           \n",
            "                                                                 \n",
            " conv2d_19 (Conv2D)          (None, 24, 24, 256)       295168    \n",
            "                                                                 \n",
            " max_pooling2d_19 (MaxPooli  (None, 12, 12, 256)       0         \n",
            " ng2D)                                                           \n",
            "                                                                 \n",
            " flatten_4 (Flatten)         (None, 36864)             0         \n",
            "                                                                 \n",
            " dropout (Dropout)           (None, 36864)             0         \n",
            "                                                                 \n",
            " dense_8 (Dense)             (None, 512)               18874880  \n",
            "                                                                 \n",
            " dense_9 (Dense)             (None, 3)                 1539      \n",
            "                                                                 \n",
            "=================================================================\n",
            "Total params: 19284163 (73.56 MB)\n",
            "Trainable params: 19284163 (73.56 MB)\n",
            "Non-trainable params: 0 (0.00 Byte)\n",
            "_________________________________________________________________\n"
          ]
        }
      ],
      "source": [
        "model.summary()"
      ]
    },
    {
      "cell_type": "code",
      "execution_count": 40,
      "id": "4243b3d3-ec3a-43fa-b92a-315fa265f0f1",
      "metadata": {
        "id": "4243b3d3-ec3a-43fa-b92a-315fa265f0f1"
      },
      "outputs": [],
      "source": [
        "model.compile(loss = 'categorical_crossentropy', optimizer=tf.keras.optimizers.Adam(learning_rate=0.0001), metrics=['accuracy'])"
      ]
    },
    {
      "cell_type": "code",
      "source": [
        "# model.compile(loss='categorical_crossentropy', optimizer=tf.keras.optimizers.SGD(learning_rate=0.01, momentum=0.9), metrics=['accuracy'])"
      ],
      "metadata": {
        "id": "QUmouYyLFqr-"
      },
      "id": "QUmouYyLFqr-",
      "execution_count": 31,
      "outputs": []
    },
    {
      "cell_type": "code",
      "execution_count": 41,
      "id": "f4b59e2e-5a76-4953-827c-6aa3e5d3ea3c",
      "metadata": {
        "id": "f4b59e2e-5a76-4953-827c-6aa3e5d3ea3c"
      },
      "outputs": [],
      "source": [
        "from PIL import ImageFile\n",
        "ImageFile.LOAD_TRUNCATED_IMAGES = True"
      ]
    },
    {
      "cell_type": "code",
      "execution_count": 42,
      "id": "974964ab-a6ca-44db-b964-5b9e6af3730d",
      "metadata": {
        "colab": {
          "base_uri": "https://localhost:8080/"
        },
        "id": "974964ab-a6ca-44db-b964-5b9e6af3730d",
        "outputId": "6d73ee04-1f4f-4609-9449-5fef4fa001fe"
      },
      "outputs": [
        {
          "output_type": "stream",
          "name": "stdout",
          "text": [
            "Epoch 1/15\n",
            "75/75 [==============================] - 49s 592ms/step - loss: 1.1016 - accuracy: 0.3467 - val_loss: 1.0979 - val_accuracy: 0.3267\n",
            "Epoch 2/15\n",
            "75/75 [==============================] - 46s 613ms/step - loss: 1.0966 - accuracy: 0.3442 - val_loss: 1.1005 - val_accuracy: 0.3333\n",
            "Epoch 3/15\n",
            "75/75 [==============================] - 48s 637ms/step - loss: 1.0956 - accuracy: 0.3617 - val_loss: 1.0974 - val_accuracy: 0.3350\n",
            "Epoch 4/15\n",
            "75/75 [==============================] - 44s 588ms/step - loss: 1.0952 - accuracy: 0.3562 - val_loss: 1.0876 - val_accuracy: 0.3933\n",
            "Epoch 5/15\n",
            "75/75 [==============================] - 42s 560ms/step - loss: 1.0833 - accuracy: 0.3988 - val_loss: 1.0659 - val_accuracy: 0.4333\n",
            "Epoch 6/15\n",
            "75/75 [==============================] - 44s 586ms/step - loss: 1.0698 - accuracy: 0.4162 - val_loss: 1.0570 - val_accuracy: 0.4300\n",
            "Epoch 7/15\n",
            "75/75 [==============================] - 45s 596ms/step - loss: 1.0677 - accuracy: 0.4271 - val_loss: 1.0574 - val_accuracy: 0.4433\n",
            "Epoch 8/15\n",
            "75/75 [==============================] - 45s 597ms/step - loss: 1.0599 - accuracy: 0.4392 - val_loss: 1.0538 - val_accuracy: 0.4583\n",
            "Epoch 9/15\n",
            "75/75 [==============================] - 45s 595ms/step - loss: 1.0628 - accuracy: 0.4329 - val_loss: 1.0507 - val_accuracy: 0.4333\n",
            "Epoch 10/15\n",
            "75/75 [==============================] - 44s 588ms/step - loss: 1.0532 - accuracy: 0.4462 - val_loss: 1.0342 - val_accuracy: 0.4500\n",
            "Epoch 11/15\n",
            "75/75 [==============================] - 42s 567ms/step - loss: 1.0502 - accuracy: 0.4496 - val_loss: 1.0475 - val_accuracy: 0.4433\n",
            "Epoch 12/15\n",
            "75/75 [==============================] - 43s 565ms/step - loss: 1.0423 - accuracy: 0.4588 - val_loss: 1.1141 - val_accuracy: 0.4183\n",
            "Epoch 13/15\n",
            "75/75 [==============================] - 45s 592ms/step - loss: 1.0406 - accuracy: 0.4700 - val_loss: 1.0850 - val_accuracy: 0.4333\n",
            "Epoch 14/15\n",
            "75/75 [==============================] - 45s 599ms/step - loss: 1.0346 - accuracy: 0.4721 - val_loss: 1.0124 - val_accuracy: 0.5283\n",
            "Epoch 15/15\n",
            "75/75 [==============================] - 46s 616ms/step - loss: 1.0299 - accuracy: 0.4825 - val_loss: 1.0328 - val_accuracy: 0.4867\n"
          ]
        }
      ],
      "source": [
        "# Train the model\n",
        "history = model.fit(train_generator, epochs=15, validation_data = validation_generator, verbose = 1)"
      ]
    },
    {
      "cell_type": "code",
      "execution_count": null,
      "id": "8419b30d-6b22-4d47-a0e6-5a5b22fd3200",
      "metadata": {
        "id": "8419b30d-6b22-4d47-a0e6-5a5b22fd3200"
      },
      "outputs": [],
      "source": [
        "pip install tensorflowjs"
      ]
    },
    {
      "cell_type": "code",
      "execution_count": null,
      "id": "a9854695-9591-47f6-bd71-4790fb816fac",
      "metadata": {
        "id": "a9854695-9591-47f6-bd71-4790fb816fac"
      },
      "outputs": [],
      "source": [
        "import tensorflowjs"
      ]
    },
    {
      "cell_type": "code",
      "execution_count": null,
      "id": "81bc06ef-0d98-4193-9d3b-d70e8e719dd5",
      "metadata": {
        "id": "81bc06ef-0d98-4193-9d3b-d70e8e719dd5"
      },
      "outputs": [],
      "source": [
        "import time\n",
        "saved_model_path = \"./{}.h5\".format(int(time.time()))\n",
        "\n",
        "model.save(saved_model_path)"
      ]
    },
    {
      "cell_type": "code",
      "execution_count": null,
      "id": "7a71fec1-cd9f-40f2-ad63-2a4b4187e796",
      "metadata": {
        "id": "7a71fec1-cd9f-40f2-ad63-2a4b4187e796"
      },
      "outputs": [],
      "source": [
        "!tensorflowjs_converter --input_format=keras {saved_model_path} ./"
      ]
    },
    {
      "cell_type": "code",
      "execution_count": null,
      "id": "dc04979b-17d6-42aa-a95e-b089b8050be3",
      "metadata": {
        "id": "dc04979b-17d6-42aa-a95e-b089b8050be3"
      },
      "outputs": [],
      "source": [
        "saved_model_path = \"./{}.h5\".format(int(time.time()))\n",
        "\n",
        "history.save(saved_model_path)"
      ]
    },
    {
      "cell_type": "code",
      "execution_count": null,
      "id": "7642f6d0-ad85-4bea-831c-341fbf06bc55",
      "metadata": {
        "id": "7642f6d0-ad85-4bea-831c-341fbf06bc55"
      },
      "outputs": [],
      "source": [
        "!tensorflowjs_converter --input_format=keras {saved_model_path} ./"
      ]
    },
    {
      "cell_type": "code",
      "execution_count": null,
      "id": "df7e8f27-46bb-414c-8740-6f7f7a750ad7",
      "metadata": {
        "id": "df7e8f27-46bb-414c-8740-6f7f7a750ad7"
      },
      "outputs": [],
      "source": []
    }
  ],
  "metadata": {
    "kernelspec": {
      "display_name": "Python 3",
      "name": "python3"
    },
    "language_info": {
      "codemirror_mode": {
        "name": "ipython",
        "version": 3
      },
      "file_extension": ".py",
      "mimetype": "text/x-python",
      "name": "python",
      "nbconvert_exporter": "python",
      "pygments_lexer": "ipython3",
      "version": "3.11.0rc1"
    },
    "colab": {
      "provenance": [],
      "gpuType": "V100",
      "include_colab_link": true
    },
    "accelerator": "GPU"
  },
  "nbformat": 4,
  "nbformat_minor": 5
}