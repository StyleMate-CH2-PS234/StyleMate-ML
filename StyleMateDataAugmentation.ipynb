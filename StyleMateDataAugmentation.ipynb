{
  "nbformat": 4,
  "nbformat_minor": 0,
  "metadata": {
    "colab": {
      "provenance": [],
      "gpuType": "T4"
    },
    "kernelspec": {
      "name": "python3",
      "display_name": "Python 3"
    },
    "language_info": {
      "name": "python"
    },
    "accelerator": "GPU"
  },
  "cells": [
    {
      "cell_type": "code",
      "execution_count": null,
      "metadata": {
        "id": "b9St0F4bQ1A7"
      },
      "outputs": [],
      "source": [
        "import tensorflow as tf\n",
        "from keras.preprocessing.image import ImageDataGenerator\n",
        "from keras.preprocessing import image\n",
        "from PIL import Image\n",
        "import os"
      ]
    },
    {
      "cell_type": "code",
      "source": [
        "datagen = tf.keras.preprocessing.image.ImageDataGenerator(\n",
        "    width_shift_range=[-0.05, 0, 0.05],\n",
        "    height_shift_range=[-0.05, 0, 0.05],\n",
        "    fill_mode='reflect',\n",
        "    horizontal_flip=True,\n",
        "    brightness_range=[0.75, 1.25]\n",
        ")"
      ],
      "metadata": {
        "id": "uOGfJRVdSKAN"
      },
      "execution_count": null,
      "outputs": []
    },
    {
      "cell_type": "code",
      "source": [
        "rm -rf augmented resized"
      ],
      "metadata": {
        "id": "FbyM2PwbfU_S"
      },
      "execution_count": null,
      "outputs": []
    },
    {
      "cell_type": "code",
      "source": [
        "from google.colab import drive\n",
        "\n",
        "drive.mount('/content/drive')"
      ],
      "metadata": {
        "id": "CDE_Fbq2imjy",
        "colab": {
          "base_uri": "https://localhost:8080/"
        },
        "outputId": "8095b6aa-ef3e-4e9f-b8e8-dbba76bb1d40"
      },
      "execution_count": null,
      "outputs": [
        {
          "output_type": "stream",
          "name": "stdout",
          "text": [
            "Mounted at /content/drive\n"
          ]
        }
      ]
    },
    {
      "cell_type": "code",
      "source": [
        "\n",
        "src_dir = '/content/my_image'\n",
        "aug_dir = '/content/augmented'\n",
        "\n",
        "!mkdir $aug_dir\n",
        "!mkdir resized"
      ],
      "metadata": {
        "id": "MOArWqR-UQZE"
      },
      "execution_count": null,
      "outputs": []
    },
    {
      "cell_type": "code",
      "source": [
        "# !mv /content/my_image/new_data/* $src_dir\n",
        "# !rm -rf result\n",
        "# !file /content/result/train/Heart/Heart\\(0\\).jpg"
      ],
      "metadata": {
        "id": "h__gCHI93RRN",
        "colab": {
          "base_uri": "https://localhost:8080/"
        },
        "outputId": "57cf7b8e-a825-4460-9a46-1c777440294c"
      },
      "execution_count": null,
      "outputs": [
        {
          "output_type": "stream",
          "name": "stdout",
          "text": [
            "/content/result/train/Heart/Heart(0).jpg: JPEG image data, JFIF standard 1.01, aspect ratio, density 1x1, segment length 16, baseline, precision 8, 512x512, components 1\n"
          ]
        }
      ]
    },
    {
      "cell_type": "code",
      "source": [
        "# !unzip -d /content/drive/MyDrive/style-mate/datasets/female_face_shape.zip -d $src_dir\n",
        "!unzip /content/drive/MyDrive/style-mate/datasets/female_face_shape.zip -d /content\n",
        "# !pwd"
      ],
      "metadata": {
        "id": "RlwxKmbf2mea"
      },
      "execution_count": null,
      "outputs": []
    },
    {
      "cell_type": "code",
      "source": [
        "#src_dir\n",
        "#aug_dir\n",
        "\n",
        "labels = [\"Heart\", \"Oblong\", \"Oval\", \"Round\", \"Square\"]\n",
        "\n",
        "for label in labels:\n",
        "  src_dir = \"/content/result/test/\" + label\n",
        "  aug_dir = \"/content/augmented/test/\" + label\n",
        "  os.makedirs(aug_dir, exist_ok=True)\n",
        "  img_list = os.listdir(src_dir)\n",
        "\n",
        "  for img_name in img_list:\n",
        "      img_path = os.path.join(src_dir, img_name)\n",
        "      img = image.load_img(img_path)\n",
        "      x = image.img_to_array(img)\n",
        "      x = x.reshape((1,) + x.shape)\n",
        "\n",
        "      i = 0\n",
        "      for batch in datagen.flow(x, batch_size=10, save_to_dir=aug_dir, save_prefix=label + \"_\", save_format='jpg'):\n",
        "          i += 1\n",
        "          if i >= 3:\n",
        "              break\n"
      ],
      "metadata": {
        "id": "78wtmk2ZTuVT"
      },
      "execution_count": null,
      "outputs": []
    },
    {
      "cell_type": "code",
      "source": [
        "source_dir = aug_dir\n",
        "target_dir = '/content/resized'\n",
        "\n",
        "img_list = os.listdir(source_dir)\n",
        "\n",
        "for img_name in img_list:\n",
        "    img_path = os.path.join(source_dir, img_name)\n",
        "\n",
        "    img = Image.open(img_path)\n",
        "\n",
        "    img_resized = img.resize((320, 320), Image.ANTIALIAS)\n",
        "\n",
        "    target_path = os.path.join(target_dir, img_name)\n",
        "\n",
        "    img_resized.save(target_path)\n"
      ],
      "metadata": {
        "colab": {
          "base_uri": "https://localhost:8080/"
        },
        "id": "0B6Mw99LWzHd",
        "outputId": "cea3919e-29c1-4d54-d0a7-81c0069869a1"
      },
      "execution_count": null,
      "outputs": [
        {
          "output_type": "stream",
          "name": "stderr",
          "text": [
            "<ipython-input-10-bccbe08ebc8d>:15: DeprecationWarning: ANTIALIAS is deprecated and will be removed in Pillow 10 (2023-07-01). Use LANCZOS or Resampling.LANCZOS instead.\n",
            "  img_resized = img.resize((320, 320), Image.ANTIALIAS)\n"
          ]
        }
      ]
    },
    {
      "cell_type": "code",
      "source": [],
      "metadata": {
        "id": "g2y3myMKgfF6"
      },
      "execution_count": null,
      "outputs": []
    },
    {
      "cell_type": "code",
      "source": [
        "from google.colab import files\n",
        "\n",
        "file_name='face_shape_datasets_augmented_3_dec_23.zip'\n",
        "\n",
        "!zip -j /content/$file_name augmented/*\n",
        "\n",
        "# Download file\n",
        "# !mv augmented_img.zip augmented_img2.zip\n",
        "# !rm augmented_img2.zip\n",
        "files.download('/content/'+ file_name)\n"
      ],
      "metadata": {
        "id": "QhDUgYvXcb64"
      },
      "execution_count": null,
      "outputs": []
    },
    {
      "cell_type": "code",
      "source": [
        "!zip aug_face.zip -r augmented"
      ],
      "metadata": {
        "id": "xj-5Hxgd4cdR"
      },
      "execution_count": null,
      "outputs": []
    },
    {
      "cell_type": "code",
      "source": [
        "!rm -rf augmented"
      ],
      "metadata": {
        "id": "ar-S4cNtukcK"
      },
      "execution_count": null,
      "outputs": []
    },
    {
      "cell_type": "code",
      "source": [
        "!cp aug_face.zip /content/drive/MyDrive/style-mate/datasets/"
      ],
      "metadata": {
        "id": "RUra2UguwVZS"
      },
      "execution_count": null,
      "outputs": []
    },
    {
      "cell_type": "code",
      "source": [],
      "metadata": {
        "id": "cYbAv0mMyKt8"
      },
      "execution_count": null,
      "outputs": []
    }
  ]
}