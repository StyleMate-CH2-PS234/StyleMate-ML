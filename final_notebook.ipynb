{
  "cells": [
    {
      "cell_type": "code",
      "execution_count": 1,
      "id": "1673606a-9f0e-4083-8790-3c13edc0e5e6",
      "metadata": {
        "id": "1673606a-9f0e-4083-8790-3c13edc0e5e6"
      },
      "outputs": [],
      "source": [
        "import os\n",
        "import tensorflow as tf\n",
        "import matplotlib.pyplot as plt"
      ]
    },
    {
      "cell_type": "code",
      "execution_count": 2,
      "id": "0275613d-3325-4084-8d22-9c08ca54f7ae",
      "metadata": {
        "id": "0275613d-3325-4084-8d22-9c08ca54f7ae"
      },
      "outputs": [],
      "source": [
        "from tensorflow.keras.preprocessing.image import ImageDataGenerator\n",
        "\n",
        "training_datagen = ImageDataGenerator(\n",
        "      rescale = 1./255,\n",
        "      rotation_range=10,\n",
        "      width_shift_range=0.1,\n",
        "      height_shift_range=0.1,\n",
        "      shear_range=0.1,\n",
        "      # zoom_range=0.1,\n",
        "      horizontal_flip=True,\n",
        "      fill_mode='nearest')\n",
        "\n",
        "validation_datagen = ImageDataGenerator(\n",
        "                    rescale=1./255)"
      ]
    },
    {
      "cell_type": "code",
      "execution_count": 3,
      "id": "IuH2Mp73rI1_",
      "metadata": {
        "id": "IuH2Mp73rI1_"
      },
      "outputs": [],
      "source": [
        "train_dir = '../dataset/train/'\n",
        "val_dir = '../dataset/valid/'"
      ]
    },
    {
      "cell_type": "code",
      "execution_count": 4,
      "id": "31c9510d-1a47-46f8-b308-c8547d17768f",
      "metadata": {
        "colab": {
          "base_uri": "https://localhost:8080/"
        },
        "id": "31c9510d-1a47-46f8-b308-c8547d17768f",
        "outputId": "bf065145-2c61-4596-9d66-edbae7abba86"
      },
      "outputs": [
        {
          "name": "stdout",
          "output_type": "stream",
          "text": [
            "Found 15318 images belonging to 3 classes.\n",
            "Found 1276 images belonging to 3 classes.\n"
          ]
        }
      ],
      "source": [
        "train_generator = training_datagen.flow_from_directory(\n",
        "\ttrain_dir,\n",
        "\ttarget_size=(224,224),\n",
        "\tclass_mode='sparse',\n",
        "  batch_size=32\n",
        ")\n",
        "\n",
        "validation_generator = validation_datagen.flow_from_directory(\n",
        "\tval_dir,\n",
        "\ttarget_size=(224,224),\n",
        "\tclass_mode='sparse',\n",
        "  batch_size=32\n",
        ")"
      ]
    },
    {
      "cell_type": "code",
      "execution_count": 5,
      "id": "b00e5165-87dd-473e-af08-6d5f84310c92",
      "metadata": {
        "id": "b00e5165-87dd-473e-af08-6d5f84310c92"
      },
      "outputs": [],
      "source": [
        "model = tf.keras.models.Sequential([\n",
        "    tf.keras.layers.Conv2D(64, (3,3), activation='relu', input_shape=(224, 224, 3)),\n",
        "    tf.keras.layers.MaxPooling2D(2, 2),\n",
        "\n",
        "    tf.keras.layers.Conv2D(64, (3,3), activation='relu'),\n",
        "    tf.keras.layers.MaxPooling2D(2,2),\n",
        "\n",
        "    tf.keras.layers.Conv2D(128, (3,3), activation='relu'),\n",
        "    tf.keras.layers.MaxPooling2D(2,2),\n",
        "\n",
        "    # tf.keras.layers.Conv2D(128, (3,3), activation='relu'),\n",
        "    # tf.keras.layers.MaxPooling2D(2,2),\n",
        "\n",
        "    tf.keras.layers.Conv2D(256, (3,3), activation='relu'),\n",
        "    tf.keras.layers.MaxPooling2D(2,2),\n",
        "\n",
        "    tf.keras.layers.Conv2D(512, (3,3), activation='relu'),\n",
        "    tf.keras.layers.MaxPooling2D(2,2),\n",
        "\n",
        "    tf.keras.layers.Flatten(),\n",
        "    tf.keras.layers.Dropout(0.5),\n",
        "    # tf.keras.layers.Dropout(0.4),\n",
        "\n",
        "    # tf.keras.layers.Dense(64, activation='relu'),\n",
        "    # tf.keras.layers.Dense(128, activation='relu'),\n",
        "    tf.keras.layers.Dense(256, activation='relu'),\n",
        "    tf.keras.layers.Dense(512, activation='relu'),\n",
        "\n",
        "    tf.keras.layers.Dense(3, activation='softmax')\n",
        "])"
      ]
    },
    {
      "cell_type": "code",
      "execution_count": 5,
      "id": "VTjYSSQBEt63",
      "metadata": {
        "id": "VTjYSSQBEt63"
      },
      "outputs": [],
      "source": [
        "model = tf.keras.models.load_model('../model/local_run_15_epoch_reduce_datagen_add_5_epoch/')"
      ]
    },
    {
      "cell_type": "code",
      "execution_count": 6,
      "id": "d78b7d8c-e8c2-4a81-93a6-8b8f4133d3a4",
      "metadata": {
        "colab": {
          "base_uri": "https://localhost:8080/"
        },
        "id": "d78b7d8c-e8c2-4a81-93a6-8b8f4133d3a4",
        "outputId": "54704532-8519-465a-deb8-050cc80f5034"
      },
      "outputs": [
        {
          "name": "stdout",
          "output_type": "stream",
          "text": [
            "Model: \"sequential_5\"\n",
            "_________________________________________________________________\n",
            "Layer (type)                 Output Shape              Param #   \n",
            "=================================================================\n",
            "conv2d_28 (Conv2D)           (None, 222, 222, 64)      1792      \n",
            "_________________________________________________________________\n",
            "max_pooling2d_28 (MaxPooling (None, 111, 111, 64)      0         \n",
            "_________________________________________________________________\n",
            "conv2d_29 (Conv2D)           (None, 109, 109, 64)      36928     \n",
            "_________________________________________________________________\n",
            "max_pooling2d_29 (MaxPooling (None, 54, 54, 64)        0         \n",
            "_________________________________________________________________\n",
            "conv2d_30 (Conv2D)           (None, 52, 52, 128)       73856     \n",
            "_________________________________________________________________\n",
            "max_pooling2d_30 (MaxPooling (None, 26, 26, 128)       0         \n",
            "_________________________________________________________________\n",
            "conv2d_31 (Conv2D)           (None, 24, 24, 256)       295168    \n",
            "_________________________________________________________________\n",
            "max_pooling2d_31 (MaxPooling (None, 12, 12, 256)       0         \n",
            "_________________________________________________________________\n",
            "conv2d_32 (Conv2D)           (None, 10, 10, 512)       1180160   \n",
            "_________________________________________________________________\n",
            "max_pooling2d_32 (MaxPooling (None, 5, 5, 512)         0         \n",
            "_________________________________________________________________\n",
            "flatten_5 (Flatten)          (None, 12800)             0         \n",
            "_________________________________________________________________\n",
            "dropout_5 (Dropout)          (None, 12800)             0         \n",
            "_________________________________________________________________\n",
            "dense_21 (Dense)             (None, 256)               3277056   \n",
            "_________________________________________________________________\n",
            "dense_22 (Dense)             (None, 512)               131584    \n",
            "_________________________________________________________________\n",
            "dense_23 (Dense)             (None, 3)                 1539      \n",
            "=================================================================\n",
            "Total params: 4,998,083\n",
            "Trainable params: 4,998,083\n",
            "Non-trainable params: 0\n",
            "_________________________________________________________________\n"
          ]
        }
      ],
      "source": [
        "model.summary()"
      ]
    },
    {
      "cell_type": "code",
      "execution_count": 8,
      "id": "4243b3d3-ec3a-43fa-b92a-315fa265f0f1",
      "metadata": {
        "id": "4243b3d3-ec3a-43fa-b92a-315fa265f0f1"
      },
      "outputs": [],
      "source": [
        "model.compile(loss = 'sparse_categorical_crossentropy', optimizer=tf.keras.optimizers.Adam(learning_rate=0.0001), metrics=['accuracy'])"
      ]
    },
    {
      "cell_type": "code",
      "execution_count": 9,
      "id": "f4b59e2e-5a76-4953-827c-6aa3e5d3ea3c",
      "metadata": {
        "id": "f4b59e2e-5a76-4953-827c-6aa3e5d3ea3c"
      },
      "outputs": [],
      "source": [
        "from PIL import ImageFile\n",
        "ImageFile.LOAD_TRUNCATED_IMAGES = True"
      ]
    },
    {
      "cell_type": "code",
      "execution_count": 10,
      "id": "974964ab-a6ca-44db-b964-5b9e6af3730d",
      "metadata": {
        "colab": {
          "base_uri": "https://localhost:8080/"
        },
        "id": "974964ab-a6ca-44db-b964-5b9e6af3730d",
        "outputId": "d61cb5b9-0c4a-40ed-9cd8-4cf19f6e583e"
      },
      "outputs": [
        {
          "name": "stdout",
          "output_type": "stream",
          "text": [
            "Epoch 1/5\n",
            "479/479 [==============================] - 107s 210ms/step - loss: 0.1295 - accuracy: 0.9521 - val_loss: 0.1244 - val_accuracy: 0.9608\n",
            "Epoch 2/5\n",
            "479/479 [==============================] - 160s 335ms/step - loss: 0.1106 - accuracy: 0.9608 - val_loss: 0.1800 - val_accuracy: 0.9310\n",
            "Epoch 3/5\n",
            "479/479 [==============================] - 137s 285ms/step - loss: 0.1104 - accuracy: 0.9574 - val_loss: 0.1045 - val_accuracy: 0.9694\n",
            "Epoch 4/5\n",
            "479/479 [==============================] - 100s 209ms/step - loss: 0.1002 - accuracy: 0.9625 - val_loss: 0.1090 - val_accuracy: 0.9702\n",
            "Epoch 5/5\n",
            "479/479 [==============================] - 147s 307ms/step - loss: 0.0868 - accuracy: 0.9691 - val_loss: 0.1171 - val_accuracy: 0.9663\n"
          ]
        }
      ],
      "source": [
        "# Train the model\n",
        "history = model.fit(\n",
        "    train_generator,\n",
        "    epochs=5,\n",
        "    # steps_per_epoch=100,\n",
        "    # validation_steps=48,\n",
        "    validation_data = validation_generator,\n",
        "    verbose = 1)"
      ]
    },
    {
      "cell_type": "code",
      "execution_count": 11,
      "id": "5MLQxUTCsiMO",
      "metadata": {
        "id": "5MLQxUTCsiMO"
      },
      "outputs": [
        {
          "name": "stdout",
          "output_type": "stream",
          "text": [
            "2.5.0\n",
            "INFO:tensorflow:Assets written to: ../model/local_run_15_epoch_reduce_datagen_add_5_epoch_2/assets\n"
          ]
        }
      ],
      "source": [
        "print(tf.__version__)\n",
        "model.save('../model/local_run_15_epoch_reduce_datagen_add_5_epoch_2/')"
      ]
    },
    {
      "cell_type": "code",
      "execution_count": 12,
      "id": "Wx8HjGdgd80s",
      "metadata": {
        "colab": {
          "base_uri": "https://localhost:8080/",
          "height": 410
        },
        "id": "Wx8HjGdgd80s",
        "outputId": "ea1f86bf-26fb-4f90-ee05-296a244d6eb5"
      },
      "outputs": [
        {
          "data": {
            "image/png": "[encoded data removed]",
            "text/plain": [
              "<Figure size 1200x400 with 2 Axes>"
            ]
          },
          "metadata": {},
          "output_type": "display_data"
        }
      ],
      "source": [
        "# import matplotlib.pyplot as plt\n",
        "\n",
        "def plot_metrics(history):\n",
        "    # Ambil data akurasi, loss, val_accuracy, dan val_loss dari objek history\n",
        "    acc = history.history['accuracy']\n",
        "    loss = history.history['loss']\n",
        "    val_acc = history.history['val_accuracy']\n",
        "    val_loss = history.history['val_loss']\n",
        "\n",
        "    # Tentukan jumlah epoch berdasarkan panjang history\n",
        "    epochs = range(1, len(acc) + 1)\n",
        "\n",
        "    # Plot Akurasi\n",
        "    plt.figure(figsize=(12, 4))\n",
        "    plt.subplot(1, 2, 1)\n",
        "    plt.plot(epochs, acc, 'b', label='Training accuracy')\n",
        "    plt.plot(epochs, val_acc, 'r', label='Validation accuracy')\n",
        "    plt.title('Training and Validation Accuracy')\n",
        "    plt.xlabel('Epochs')\n",
        "    plt.ylabel('Accuracy')\n",
        "    plt.legend()\n",
        "\n",
        "    # Plot Loss\n",
        "    plt.subplot(1, 2, 2)\n",
        "    plt.plot(epochs, loss, 'b', label='Training loss')\n",
        "    plt.plot(epochs, val_loss, 'r', label='Validation loss')\n",
        "    plt.title('Training and Validation Loss')\n",
        "    plt.xlabel('Epochs')\n",
        "    plt.ylabel('Loss')\n",
        "    plt.legend()\n",
        "\n",
        "    plt.show()\n",
        "\n",
        "plot_metrics(history)"
      ]
    },
    {
      "cell_type": "code",
      "execution_count": 194,
      "id": "8419b30d-6b22-4d47-a0e6-5a5b22fd3200",
      "metadata": {
        "id": "8419b30d-6b22-4d47-a0e6-5a5b22fd3200"
      },
      "outputs": [
        {
          "name": "stdout",
          "output_type": "stream",
          "text": [
            "Collecting tensorflowjs==3.18.0Note: you may need to restart the kernel to use updated packages.\n",
            "\n",
            "  Downloading tensorflowjs-3.18.0-py3-none-any.whl (77 kB)\n",
            "     ---------------------------------------- 0.0/77.5 kB ? eta -:--:--\n",
            "     --------------------- ------------------ 41.0/77.5 kB 2.0 MB/s eta 0:00:01\n",
            "     ---------------------------------------- 77.5/77.5 kB 1.1 MB/s eta 0:00:00\n",
            "Requirement already satisfied: tensorflow<3,>=2.1.0 in c:\\users\\rizka f\\.conda\\envs\\tf2.5\\lib\\site-packages (from tensorflowjs==3.18.0) (2.5.0)\n",
            "Requirement already satisfied: six<2,>=1.12.0 in c:\\users\\rizka f\\.conda\\envs\\tf2.5\\lib\\site-packages (from tensorflowjs==3.18.0) (1.15.0)\n",
            "Collecting tensorflow-hub<0.13,>=0.7.0 (from tensorflowjs==3.18.0)\n",
            "  Using cached tensorflow_hub-0.12.0-py2.py3-none-any.whl (108 kB)\n",
            "Collecting packaging~=20.9 (from tensorflowjs==3.18.0)\n",
            "  Using cached packaging-20.9-py2.py3-none-any.whl (40 kB)\n",
            "Requirement already satisfied: pyparsing>=2.0.2 in c:\\users\\rizka f\\.conda\\envs\\tf2.5\\lib\\site-packages (from packaging~=20.9->tensorflowjs==3.18.0) (2.4.7)\n",
            "Requirement already satisfied: numpy~=1.19.2 in c:\\users\\rizka f\\.conda\\envs\\tf2.5\\lib\\site-packages (from tensorflow<3,>=2.1.0->tensorflowjs==3.18.0) (1.19.2)\n",
            "Requirement already satisfied: absl-py~=0.10 in c:\\users\\rizka f\\.conda\\envs\\tf2.5\\lib\\site-packages (from tensorflow<3,>=2.1.0->tensorflowjs==3.18.0) (0.15.0)\n",
            "Requirement already satisfied: astunparse~=1.6.3 in c:\\users\\rizka f\\.conda\\envs\\tf2.5\\lib\\site-packages (from tensorflow<3,>=2.1.0->tensorflowjs==3.18.0) (1.6.3)\n",
            "Requirement already satisfied: flatbuffers~=1.12.0 in c:\\users\\rizka f\\.conda\\envs\\tf2.5\\lib\\site-packages (from tensorflow<3,>=2.1.0->tensorflowjs==3.18.0) (1.12)\n",
            "Requirement already satisfied: google-pasta~=0.2 in c:\\users\\rizka f\\.conda\\envs\\tf2.5\\lib\\site-packages (from tensorflow<3,>=2.1.0->tensorflowjs==3.18.0) (0.2.0)\n",
            "Requirement already satisfied: h5py~=3.1.0 in c:\\users\\rizka f\\.conda\\envs\\tf2.5\\lib\\site-packages (from tensorflow<3,>=2.1.0->tensorflowjs==3.18.0) (3.1.0)\n",
            "Requirement already satisfied: keras-preprocessing~=1.1.2 in c:\\users\\rizka f\\.conda\\envs\\tf2.5\\lib\\site-packages (from tensorflow<3,>=2.1.0->tensorflowjs==3.18.0) (1.1.2)\n",
            "Requirement already satisfied: opt-einsum~=3.3.0 in c:\\users\\rizka f\\.conda\\envs\\tf2.5\\lib\\site-packages (from tensorflow<3,>=2.1.0->tensorflowjs==3.18.0) (3.3.0)\n",
            "Requirement already satisfied: protobuf>=3.9.2 in c:\\users\\rizka f\\.conda\\envs\\tf2.5\\lib\\site-packages (from tensorflow<3,>=2.1.0->tensorflowjs==3.18.0) (3.20.3)\n",
            "Requirement already satisfied: termcolor~=1.1.0 in c:\\users\\rizka f\\.conda\\envs\\tf2.5\\lib\\site-packages (from tensorflow<3,>=2.1.0->tensorflowjs==3.18.0) (1.1.0)\n",
            "Requirement already satisfied: typing-extensions~=3.7.4 in c:\\users\\rizka f\\.conda\\envs\\tf2.5\\lib\\site-packages (from tensorflow<3,>=2.1.0->tensorflowjs==3.18.0) (3.7.4.3)\n",
            "Requirement already satisfied: wheel~=0.35 in c:\\users\\rizka f\\.conda\\envs\\tf2.5\\lib\\site-packages (from tensorflow<3,>=2.1.0->tensorflowjs==3.18.0) (0.41.2)\n",
            "Requirement already satisfied: wrapt~=1.12.1 in c:\\users\\rizka f\\.conda\\envs\\tf2.5\\lib\\site-packages (from tensorflow<3,>=2.1.0->tensorflowjs==3.18.0) (1.12.1)\n",
            "Requirement already satisfied: gast==0.4.0 in c:\\users\\rizka f\\.conda\\envs\\tf2.5\\lib\\site-packages (from tensorflow<3,>=2.1.0->tensorflowjs==3.18.0) (0.4.0)\n",
            "Requirement already satisfied: tensorboard~=2.5 in c:\\users\\rizka f\\.conda\\envs\\tf2.5\\lib\\site-packages (from tensorflow<3,>=2.1.0->tensorflowjs==3.18.0) (2.11.2)\n",
            "Requirement already satisfied: tensorflow-estimator<2.6.0,>=2.5.0rc0 in c:\\users\\rizka f\\.conda\\envs\\tf2.5\\lib\\site-packages (from tensorflow<3,>=2.1.0->tensorflowjs==3.18.0) (2.5.0)\n",
            "Requirement already satisfied: keras-nightly~=2.5.0.dev in c:\\users\\rizka f\\.conda\\envs\\tf2.5\\lib\\site-packages (from tensorflow<3,>=2.1.0->tensorflowjs==3.18.0) (2.5.0.dev2021032900)\n",
            "Requirement already satisfied: grpcio~=1.34.0 in c:\\users\\rizka f\\.conda\\envs\\tf2.5\\lib\\site-packages (from tensorflow<3,>=2.1.0->tensorflowjs==3.18.0) (1.34.1)\n",
            "Requirement already satisfied: google-auth<3,>=1.6.3 in c:\\users\\rizka f\\.conda\\envs\\tf2.5\\lib\\site-packages (from tensorboard~=2.5->tensorflow<3,>=2.1.0->tensorflowjs==3.18.0) (2.25.2)\n",
            "Requirement already satisfied: google-auth-oauthlib<0.5,>=0.4.1 in c:\\users\\rizka f\\.conda\\envs\\tf2.5\\lib\\site-packages (from tensorboard~=2.5->tensorflow<3,>=2.1.0->tensorflowjs==3.18.0) (0.4.6)\n",
            "Requirement already satisfied: markdown>=2.6.8 in c:\\users\\rizka f\\.conda\\envs\\tf2.5\\lib\\site-packages (from tensorboard~=2.5->tensorflow<3,>=2.1.0->tensorflowjs==3.18.0) (3.5.1)\n",
            "Requirement already satisfied: requests<3,>=2.21.0 in c:\\users\\rizka f\\.conda\\envs\\tf2.5\\lib\\site-packages (from tensorboard~=2.5->tensorflow<3,>=2.1.0->tensorflowjs==3.18.0) (2.31.0)\n",
            "Requirement already satisfied: setuptools>=41.0.0 in c:\\users\\rizka f\\.conda\\envs\\tf2.5\\lib\\site-packages (from tensorboard~=2.5->tensorflow<3,>=2.1.0->tensorflowjs==3.18.0) (68.2.2)\n",
            "Requirement already satisfied: tensorboard-data-server<0.7.0,>=0.6.0 in c:\\users\\rizka f\\.conda\\envs\\tf2.5\\lib\\site-packages (from tensorboard~=2.5->tensorflow<3,>=2.1.0->tensorflowjs==3.18.0) (0.6.1)\n",
            "Requirement already satisfied: tensorboard-plugin-wit>=1.6.0 in c:\\users\\rizka f\\.conda\\envs\\tf2.5\\lib\\site-packages (from tensorboard~=2.5->tensorflow<3,>=2.1.0->tensorflowjs==3.18.0) (1.8.1)\n",
            "Requirement already satisfied: werkzeug>=1.0.1 in c:\\users\\rizka f\\.conda\\envs\\tf2.5\\lib\\site-packages (from tensorboard~=2.5->tensorflow<3,>=2.1.0->tensorflowjs==3.18.0) (3.0.1)\n",
            "Requirement already satisfied: cachetools<6.0,>=2.0.0 in c:\\users\\rizka f\\.conda\\envs\\tf2.5\\lib\\site-packages (from google-auth<3,>=1.6.3->tensorboard~=2.5->tensorflow<3,>=2.1.0->tensorflowjs==3.18.0) (5.3.2)\n",
            "Requirement already satisfied: pyasn1-modules>=0.2.1 in c:\\users\\rizka f\\.conda\\envs\\tf2.5\\lib\\site-packages (from google-auth<3,>=1.6.3->tensorboard~=2.5->tensorflow<3,>=2.1.0->tensorflowjs==3.18.0) (0.3.0)\n",
            "Requirement already satisfied: rsa<5,>=3.1.4 in c:\\users\\rizka f\\.conda\\envs\\tf2.5\\lib\\site-packages (from google-auth<3,>=1.6.3->tensorboard~=2.5->tensorflow<3,>=2.1.0->tensorflowjs==3.18.0) (4.9)\n",
            "Requirement already satisfied: requests-oauthlib>=0.7.0 in c:\\users\\rizka f\\.conda\\envs\\tf2.5\\lib\\site-packages (from google-auth-oauthlib<0.5,>=0.4.1->tensorboard~=2.5->tensorflow<3,>=2.1.0->tensorflowjs==3.18.0) (1.3.1)\n",
            "Requirement already satisfied: importlib-metadata>=4.4 in c:\\users\\rizka f\\.conda\\envs\\tf2.5\\lib\\site-packages (from markdown>=2.6.8->tensorboard~=2.5->tensorflow<3,>=2.1.0->tensorflowjs==3.18.0) (6.0.0)\n",
            "Requirement already satisfied: charset-normalizer<4,>=2 in c:\\users\\rizka f\\.conda\\envs\\tf2.5\\lib\\site-packages (from requests<3,>=2.21.0->tensorboard~=2.5->tensorflow<3,>=2.1.0->tensorflowjs==3.18.0) (2.0.4)\n",
            "Requirement already satisfied: idna<4,>=2.5 in c:\\users\\rizka f\\.conda\\envs\\tf2.5\\lib\\site-packages (from requests<3,>=2.21.0->tensorboard~=2.5->tensorflow<3,>=2.1.0->tensorflowjs==3.18.0) (2.10)\n",
            "Requirement already satisfied: urllib3<3,>=1.21.1 in c:\\users\\rizka f\\.conda\\envs\\tf2.5\\lib\\site-packages (from requests<3,>=2.21.0->tensorboard~=2.5->tensorflow<3,>=2.1.0->tensorflowjs==3.18.0) (1.26.18)\n",
            "Requirement already satisfied: certifi>=2017.4.17 in c:\\users\\rizka f\\.conda\\envs\\tf2.5\\lib\\site-packages (from requests<3,>=2.21.0->tensorboard~=2.5->tensorflow<3,>=2.1.0->tensorflowjs==3.18.0) (2023.7.22)\n",
            "Requirement already satisfied: MarkupSafe>=2.1.1 in c:\\users\\rizka f\\.conda\\envs\\tf2.5\\lib\\site-packages (from werkzeug>=1.0.1->tensorboard~=2.5->tensorflow<3,>=2.1.0->tensorflowjs==3.18.0) (2.1.1)\n",
            "Requirement already satisfied: zipp>=0.5 in c:\\users\\rizka f\\.conda\\envs\\tf2.5\\lib\\site-packages (from importlib-metadata>=4.4->markdown>=2.6.8->tensorboard~=2.5->tensorflow<3,>=2.1.0->tensorflowjs==3.18.0) (3.11.0)\n",
            "Requirement already satisfied: pyasn1<0.6.0,>=0.4.6 in c:\\users\\rizka f\\.conda\\envs\\tf2.5\\lib\\site-packages (from pyasn1-modules>=0.2.1->google-auth<3,>=1.6.3->tensorboard~=2.5->tensorflow<3,>=2.1.0->tensorflowjs==3.18.0) (0.5.1)\n",
            "Requirement already satisfied: oauthlib>=3.0.0 in c:\\users\\rizka f\\.conda\\envs\\tf2.5\\lib\\site-packages (from requests-oauthlib>=0.7.0->google-auth-oauthlib<0.5,>=0.4.1->tensorboard~=2.5->tensorflow<3,>=2.1.0->tensorflowjs==3.18.0) (3.2.2)\n",
            "Installing collected packages: tensorflow-hub, packaging, tensorflowjs\n",
            "  Attempting uninstall: packaging\n",
            "    Found existing installation: packaging 23.1\n",
            "    Uninstalling packaging-23.1:\n",
            "      Successfully uninstalled packaging-23.1\n",
            "Successfully installed packaging-20.9 tensorflow-hub-0.12.0 tensorflowjs-3.18.0\n"
          ]
        },
        {
          "name": "stderr",
          "output_type": "stream",
          "text": [
            "ERROR: pip's dependency resolver does not currently take into account all the packages that are installed. This behaviour is the source of the following dependency conflicts.\n",
            "jupyterlab-server 2.25.1 requires packaging>=21.3, but you have packaging 20.9 which is incompatible.\n",
            "matplotlib 3.7.4 requires numpy<2,>=1.20, but you have numpy 1.19.2 which is incompatible.\n",
            "supervision 0.17.1 requires numpy>=1.21.2, but you have numpy 1.19.2 which is incompatible.\n"
          ]
        }
      ],
      "source": [
        "pip install tensorflowjs==3.18.0"
      ]
    },
    {
      "cell_type": "code",
      "execution_count": 15,
      "id": "df7e8f27-46bb-414c-8740-6f7f7a750ad7",
      "metadata": {
        "colab": {
          "base_uri": "https://localhost:8080/"
        },
        "id": "df7e8f27-46bb-414c-8740-6f7f7a750ad7",
        "outputId": "babab78c-c09e-46ca-e83f-69b187e32e6b"
      },
      "outputs": [
        {
          "name": "stdout",
          "output_type": "stream",
          "text": [
            "\n",
            "Predicted face shape for Screenshot 2023-12-21 014132.png: Square\n",
            "\n",
            "Predicted face shape for squaree.jpg: Square\n",
            "\n",
            "Predicted face shape for adudu.jpg: Round\n",
            "\n",
            "Predicted face shape for Screenshot 2023-12-21 013723.png: Round\n",
            "\n",
            "Predicted face shape for Screenshot 2023-12-21 013954.png: Round\n",
            "\n",
            "Predicted face shape for Screenshot 2023-12-21 013913.png: Round\n",
            "\n",
            "Predicted face shape for Screenshot 2023-12-21 014433.png: Round\n",
            "\n",
            "Predicted face shape for kotak.png: Round\n",
            "\n",
            "Predicted face shape for Screenshot 2023-12-21 013553.png: Round\n",
            "\n",
            "Predicted face shape for test1.jpeg: Heart\n"
          ]
        }
      ],
      "source": [
        "import tensorflow as tf\n",
        "from tensorflow.keras.preprocessing import image\n",
        "from tensorflow.keras.applications.inception_v3 import preprocess_input, decode_predictions\n",
        "import numpy as np\n",
        "import os\n",
        "import random\n",
        "\n",
        "# Load your saved model\n",
        "# model_path = 'path/to/your/saved_model'\n",
        "loaded_model =  model #tf.keras.models.load_model(model_path)\n",
        "\n",
        "# Specify the directory containing your test images\n",
        "# test_directory = './dataset/valid/Heart'\n",
        "# test_directory = './dataset/valid/Round'\n",
        "# test_directory = './dataset/valid/Square/'\n",
        "test_directory = '../img/'\n",
        "\n",
        "# Get a list of image files in the test directory\n",
        "image_files = [f for f in os.listdir(test_directory) if f.endswith(('.png', '.jpg', '.jpeg'))]\n",
        "\n",
        "# Randomly select 10 samples\n",
        "random_10_samples = random.sample(image_files, 10)\n",
        "\n",
        "# Class labels corresponding to Heart, Round, Square\n",
        "class_labels = ['Heart', 'Round', 'Square']\n",
        "\n",
        "# Iterate over the 10 randomly selected image files and make predictions\n",
        "for img_file in random_10_samples:\n",
        "    img_path = os.path.join(test_directory, img_file)\n",
        "\n",
        "    # Load and preprocess the image\n",
        "    img = image.load_img(img_path, target_size=(224, 224))\n",
        "    img_array = image.img_to_array(img)\n",
        "    img_array = np.expand_dims(img_array, axis=0)\n",
        "    img_array = preprocess_input(img_array)\n",
        "\n",
        "    # Make a prediction\n",
        "    predictions = loaded_model.predict(img_array)\n",
        "\n",
        "    # Get the predicted class index (0, 1, or 2)\n",
        "    predicted_class_index = np.argmax(predictions)\n",
        "\n",
        "    # Get the corresponding class label\n",
        "    predicted_class_label = class_labels[predicted_class_index]\n",
        "\n",
        "    # Print the prediction result\n",
        "    print(f\"\\nPredicted face shape for {img_file}: {predicted_class_label}\")\n"
      ]
    },
    {
      "cell_type": "code",
      "execution_count": 17,
      "metadata": {},
      "outputs": [
        {
          "name": "stdout",
          "output_type": "stream",
          "text": [
            "\n",
            "Predicted face shape for Screenshot 2023-12-21 013913.png: Round\n",
            "Heart: 0.0%\n",
            "Round: 99.54%\n",
            "Square: 0.46%\n",
            "\n",
            "Predicted face shape for Screenshot 2023-12-21 013723.png: Round\n",
            "Heart: 3.99%\n",
            "Round: 96.0%\n",
            "Square: 0.01%\n",
            "\n",
            "Predicted face shape for 22390-shin-min-ah.jpg: Round\n",
            "Heart: 0.05%\n",
            "Round: 99.94%\n",
            "Square: 0.01%\n",
            "\n",
            "Predicted face shape for test1.jpeg: Heart\n",
            "Heart: 67.25%\n",
            "Round: 0.08%\n",
            "Square: 32.66%\n",
            "\n",
            "Predicted face shape for Screenshot 2023-12-21 013835.png: Round\n",
            "Heart: 0.0%\n",
            "Round: 96.84%\n",
            "Square: 3.16%\n",
            "\n",
            "Predicted face shape for test2.jpg: Square\n",
            "Heart: 0.01%\n",
            "Round: 0.18%\n",
            "Square: 99.82%\n",
            "\n",
            "Predicted face shape for Screenshot 2023-12-21 013553.png: Round\n",
            "Heart: 0.0%\n",
            "Round: 100.0%\n",
            "Square: 0.0%\n",
            "\n",
            "Predicted face shape for round.png: Round\n",
            "Heart: 0.0%\n",
            "Round: 99.94%\n",
            "Square: 0.06%\n",
            "\n",
            "Predicted face shape for Screenshot 2023-12-21 014307.png: Round\n",
            "Heart: 0.09%\n",
            "Round: 99.71%\n",
            "Square: 0.21%\n",
            "\n",
            "Predicted face shape for Screenshot 2023-12-21 014523.png: Round\n",
            "Heart: 5.62%\n",
            "Round: 94.33%\n",
            "Square: 0.06%\n"
          ]
        }
      ],
      "source": [
        "import tensorflow as tf\n",
        "from tensorflow.keras.preprocessing import image\n",
        "from tensorflow.keras.applications.inception_v3 import preprocess_input, decode_predictions\n",
        "import numpy as np\n",
        "import os\n",
        "import random\n",
        "\n",
        "# Load your saved model\n",
        "# model_path = 'path/to/your/saved_model'\n",
        "loaded_model =  model #tf.keras.models.load_model(model_path)\n",
        "\n",
        "# Specify the directory containing your test images\n",
        "# test_directory = './dataset/valid/Heart'\n",
        "# test_directory = './dataset/valid/Round'\n",
        "# test_directory = './dataset/valid/Square/'\n",
        "test_directory = '../img/'\n",
        "\n",
        "# Get a list of image files in the test directory\n",
        "image_files = [f for f in os.listdir(test_directory) if f.endswith(('.png', '.jpg', '.jpeg'))]\n",
        "\n",
        "# Randomly select 10 samples\n",
        "random_10_samples = random.sample(image_files, 10)\n",
        "\n",
        "# Class labels corresponding to Heart, Round, Square\n",
        "class_labels = ['Heart', 'Round', 'Square']\n",
        "\n",
        "# Iterate over the 10 randomly selected image files and make predictions\n",
        "for img_file in random_10_samples:\n",
        "    img_path = os.path.join(test_directory, img_file)\n",
        "\n",
        "    # Load and preprocess the image\n",
        "    img = image.load_img(img_path, target_size=(224, 224))\n",
        "    img_array = image.img_to_array(img)\n",
        "    img_array = np.expand_dims(img_array, axis=0)\n",
        "    img_array = preprocess_input(img_array)\n",
        "\n",
        "    # Make a prediction\n",
        "    predictions = loaded_model.predict(img_array)\n",
        "\n",
        "    # Get the predicted class index (0, 1, or 2)\n",
        "    predicted_class_index = np.argmax(predictions)\n",
        "\n",
        "    # Get the corresponding class label\n",
        "    predicted_class_label = class_labels[predicted_class_index]\n",
        "\n",
        "    # Get the percentage of prediction for each class\n",
        "    percentage_predictions = [round(p * 100, 2) for p in predictions[0]]\n",
        "\n",
        "    # Print the prediction result with percentages\n",
        "    print(f\"\\nPredicted face shape for {img_file}: {predicted_class_label}\")\n",
        "    for label, percentage in zip(class_labels, percentage_predictions):\n",
        "        print(f\"{label}: {percentage}%\")\n"
      ]
    },
    {
      "cell_type": "code",
      "execution_count": 18,
      "id": "a9854695-9591-47f6-bd71-4790fb816fac",
      "metadata": {
        "id": "a9854695-9591-47f6-bd71-4790fb816fac"
      },
      "outputs": [],
      "source": [
        "import tensorflowjs"
      ]
    },
    {
      "cell_type": "code",
      "execution_count": 19,
      "id": "81bc06ef-0d98-4193-9d3b-d70e8e719dd5",
      "metadata": {
        "id": "81bc06ef-0d98-4193-9d3b-d70e8e719dd5"
      },
      "outputs": [],
      "source": [
        "import time\n",
        "saved_model_path = \"../tfjs_model/{}.h5\".format(int(time.time()))\n",
        "\n",
        "model.save(saved_model_path)"
      ]
    },
    {
      "cell_type": "code",
      "execution_count": 21,
      "id": "7a71fec1-cd9f-40f2-ad63-2a4b4187e796",
      "metadata": {
        "id": "7a71fec1-cd9f-40f2-ad63-2a4b4187e796"
      },
      "outputs": [
        {
          "name": "stderr",
          "output_type": "stream",
          "text": [
            "2023-12-21 16:28:25.516778: I tensorflow/stream_executor/platform/default/dso_loader.cc:53] Successfully opened dynamic library cudart64_110.dll\n"
          ]
        }
      ],
      "source": [
        "!tensorflowjs_converter --input_format=keras {saved_model_path} ../tfjs_model/"
      ]
    }
  ],
  "metadata": {
    "accelerator": "GPU",
    "colab": {
      "gpuType": "T4",
      "name": "retrainv3.ipynb",
      "provenance": []
    },
    "kernelspec": {
      "display_name": "Python 3",
      "name": "python3"
    },
    "language_info": {
      "codemirror_mode": {
        "name": "ipython",
        "version": 3
      },
      "file_extension": ".py",
      "mimetype": "text/x-python",
      "name": "python",
      "nbconvert_exporter": "python",
      "pygments_lexer": "ipython3",
      "version": "3.8.0"
    }
  },
  "nbformat": 4,
  "nbformat_minor": 5
}
