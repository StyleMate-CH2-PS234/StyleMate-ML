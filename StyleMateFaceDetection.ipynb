{
  "cells": [
    {
      "cell_type": "code",
      "source": [
        "### Datasets\n",
        "\n",
        "https://universe.roboflow.com/rlggypface/face-detection-zspaa"
      ],
      "metadata": {
        "id": "wZVre4wWe4Kx"
      },
      "execution_count": null,
      "outputs": []
    },
    {
      "cell_type": "code",
      "execution_count": null,
      "metadata": {
        "colab": {
          "base_uri": "https://localhost:8080/"
        },
        "id": "t0khCaVz-2FG",
        "outputId": "6e877a67-7810-401f-fe96-566e21f0c1a5"
      },
      "outputs": [
        {
          "output_type": "stream",
          "name": "stdout",
          "text": [
            "Cloning into 'models'...\n",
            "remote: Enumerating objects: 4065, done.\u001b[K\n",
            "remote: Counting objects: 100% (4065/4065), done.\u001b[K\n",
            "remote: Compressing objects: 100% (3088/3088), done.\u001b[K\n",
            "remote: Total 4065 (delta 1186), reused 1960 (delta 917), pack-reused 0\u001b[K\n",
            "Receiving objects: 100% (4065/4065), 54.71 MiB | 14.23 MiB/s, done.\n",
            "Resolving deltas: 100% (1186/1186), done.\n"
          ]
        }
      ],
      "source": [
        "import os\n",
        "import pathlib\n",
        "\n",
        "\n",
        "if \"models\" in pathlib.Path.cwd().parts:\n",
        "  while \"models\" in pathlib.Path.cwd().parts:\n",
        "    os.chdir('..')\n",
        "elif not pathlib.Path('models').exists():\n",
        "  !git clone --depth 1 https://github.com/tensorflow/models"
      ]
    },
    {
      "cell_type": "code",
      "execution_count": null,
      "metadata": {
        "id": "50rt06xp_TYV"
      },
      "outputs": [],
      "source": [
        "%%bash\n",
        "cd models/research/\n",
        "protoc object_detection/protos/*.proto --python_out=."
      ]
    },
    {
      "cell_type": "code",
      "execution_count": null,
      "metadata": {
        "id": "Sh-N9aWB_XYN"
      },
      "outputs": [],
      "source": [
        "!cp /content/models/research/object_detection/packages/tf2/setup.py /content/models/research/"
      ]
    },
    {
      "cell_type": "code",
      "execution_count": null,
      "metadata": {
        "id": "LsiyZ37K_Y_R"
      },
      "outputs": [],
      "source": [
        "%%bash\n",
        "cd models/research\n",
        "pip install ."
      ]
    },
    {
      "cell_type": "code",
      "execution_count": null,
      "metadata": {
        "id": "UzCj87pV-q4g"
      },
      "outputs": [],
      "source": [
        "# !pip install Cython -y\n",
        "!pip install -U --pre tensorflow==\"2.13.0\"\n",
        "!pip install tf_slim\n",
        "!pip install pycocotools"
      ]
    },
    {
      "cell_type": "code",
      "source": [
        "!pip uninstall Cython -y"
      ],
      "metadata": {
        "colab": {
          "base_uri": "https://localhost:8080/"
        },
        "id": "fzMR6hzDEghh",
        "outputId": "956ee6df-7ca4-4d92-88f4-ee75bc9f99e2"
      },
      "execution_count": null,
      "outputs": [
        {
          "output_type": "stream",
          "name": "stdout",
          "text": [
            "Found existing installation: Cython 3.0.6\n",
            "Uninstalling Cython-3.0.6:\n",
            "  Successfully uninstalled Cython-3.0.6\n"
          ]
        }
      ]
    },
    {
      "cell_type": "code",
      "execution_count": null,
      "metadata": {
        "colab": {
          "base_uri": "https://localhost:8080/"
        },
        "id": "sbB3KOHn_iwF",
        "outputId": "5e5e04ba-7d7e-4c52-c8ce-5f9d4fde613c"
      },
      "outputs": [
        {
          "output_type": "stream",
          "name": "stdout",
          "text": [
            "2023-12-03 03:20:18.488853: I tensorflow/core/platform/cpu_feature_guard.cc:182] This TensorFlow binary is optimized to use available CPU instructions in performance-critical operations.\n",
            "To enable the following instructions: AVX2 AVX512F FMA, in other operations, rebuild TensorFlow with the appropriate compiler flags.\n",
            "2023-12-03 03:20:19.497223: W tensorflow/compiler/tf2tensorrt/utils/py_utils.cc:38] TF-TRT Warning: Could not find TensorRT\n",
            "2023-12-03 03:20:22.462198: I tensorflow/compiler/xla/stream_executor/cuda/cuda_gpu_executor.cc:995] successful NUMA node read from SysFS had negative value (-1), but there must be at least one NUMA node, so returning NUMA node zero. See more at https://github.com/torvalds/linux/blob/v6.0/Documentation/ABI/testing/sysfs-bus-pci#L344-L355\n",
            "2023-12-03 03:20:22.943790: I tensorflow/compiler/xla/stream_executor/cuda/cuda_gpu_executor.cc:995] successful NUMA node read from SysFS had negative value (-1), but there must be at least one NUMA node, so returning NUMA node zero. See more at https://github.com/torvalds/linux/blob/v6.0/Documentation/ABI/testing/sysfs-bus-pci#L344-L355\n",
            "2023-12-03 03:20:22.944155: I tensorflow/compiler/xla/stream_executor/cuda/cuda_gpu_executor.cc:995] successful NUMA node read from SysFS had negative value (-1), but there must be at least one NUMA node, so returning NUMA node zero. See more at https://github.com/torvalds/linux/blob/v6.0/Documentation/ABI/testing/sysfs-bus-pci#L344-L355\n",
            "Running tests under Python 3.10.12: /usr/bin/python3\n",
            "[ RUN      ] ModelBuilderTF2Test.test_create_center_net_deepmac\n",
            "2023-12-03 03:20:22.953801: I tensorflow/compiler/xla/stream_executor/cuda/cuda_gpu_executor.cc:995] successful NUMA node read from SysFS had negative value (-1), but there must be at least one NUMA node, so returning NUMA node zero. See more at https://github.com/torvalds/linux/blob/v6.0/Documentation/ABI/testing/sysfs-bus-pci#L344-L355\n",
            "2023-12-03 03:20:22.954072: I tensorflow/compiler/xla/stream_executor/cuda/cuda_gpu_executor.cc:995] successful NUMA node read from SysFS had negative value (-1), but there must be at least one NUMA node, so returning NUMA node zero. See more at https://github.com/torvalds/linux/blob/v6.0/Documentation/ABI/testing/sysfs-bus-pci#L344-L355\n",
            "2023-12-03 03:20:22.954291: I tensorflow/compiler/xla/stream_executor/cuda/cuda_gpu_executor.cc:995] successful NUMA node read from SysFS had negative value (-1), but there must be at least one NUMA node, so returning NUMA node zero. See more at https://github.com/torvalds/linux/blob/v6.0/Documentation/ABI/testing/sysfs-bus-pci#L344-L355\n",
            "2023-12-03 03:20:23.869338: I tensorflow/compiler/xla/stream_executor/cuda/cuda_gpu_executor.cc:995] successful NUMA node read from SysFS had negative value (-1), but there must be at least one NUMA node, so returning NUMA node zero. See more at https://github.com/torvalds/linux/blob/v6.0/Documentation/ABI/testing/sysfs-bus-pci#L344-L355\n",
            "2023-12-03 03:20:23.869674: I tensorflow/compiler/xla/stream_executor/cuda/cuda_gpu_executor.cc:995] successful NUMA node read from SysFS had negative value (-1), but there must be at least one NUMA node, so returning NUMA node zero. See more at https://github.com/torvalds/linux/blob/v6.0/Documentation/ABI/testing/sysfs-bus-pci#L344-L355\n",
            "2023-12-03 03:20:23.869909: I tensorflow/compiler/xla/stream_executor/cuda/cuda_gpu_executor.cc:995] successful NUMA node read from SysFS had negative value (-1), but there must be at least one NUMA node, so returning NUMA node zero. See more at https://github.com/torvalds/linux/blob/v6.0/Documentation/ABI/testing/sysfs-bus-pci#L344-L355\n",
            "2023-12-03 03:20:23.870038: W tensorflow/core/common_runtime/gpu/gpu_bfc_allocator.cc:47] Overriding orig_value setting because the TF_FORCE_GPU_ALLOW_GROWTH environment variable is set. Original config value was 0.\n",
            "2023-12-03 03:20:23.870094: I tensorflow/core/common_runtime/gpu/gpu_device.cc:1639] Created device /job:localhost/replica:0/task:0/device:GPU:0 with 13742 MB memory:  -> device: 0, name: Tesla T4, pci bus id: 0000:00:04.0, compute capability: 7.5\n",
            "WARNING:tensorflow:`tf.keras.layers.experimental.SyncBatchNormalization` endpoint is deprecated and will be removed in a future release. Please use `tf.keras.layers.BatchNormalization` with parameter `synchronized` set to True.\n",
            "W1203 03:20:24.048507 137096854844032 batch_normalization.py:1531] `tf.keras.layers.experimental.SyncBatchNormalization` endpoint is deprecated and will be removed in a future release. Please use `tf.keras.layers.BatchNormalization` with parameter `synchronized` set to True.\n",
            "W1203 03:20:24.327856 137096854844032 model_builder.py:1112] Building experimental DeepMAC meta-arch. Some features may be omitted.\n",
            "INFO:tensorflow:time(__main__.ModelBuilderTF2Test.test_create_center_net_deepmac): 1.71s\n",
            "I1203 03:20:24.662364 137096854844032 test_util.py:2462] time(__main__.ModelBuilderTF2Test.test_create_center_net_deepmac): 1.71s\n",
            "[       OK ] ModelBuilderTF2Test.test_create_center_net_deepmac\n",
            "[ RUN      ] ModelBuilderTF2Test.test_create_center_net_model0 (customize_head_params=True)\n",
            "INFO:tensorflow:time(__main__.ModelBuilderTF2Test.test_create_center_net_model0 (customize_head_params=True)): 0.6s\n",
            "I1203 03:20:25.260220 137096854844032 test_util.py:2462] time(__main__.ModelBuilderTF2Test.test_create_center_net_model0 (customize_head_params=True)): 0.6s\n",
            "[       OK ] ModelBuilderTF2Test.test_create_center_net_model0 (customize_head_params=True)\n",
            "[ RUN      ] ModelBuilderTF2Test.test_create_center_net_model1 (customize_head_params=False)\n",
            "INFO:tensorflow:time(__main__.ModelBuilderTF2Test.test_create_center_net_model1 (customize_head_params=False)): 0.34s\n",
            "I1203 03:20:25.600252 137096854844032 test_util.py:2462] time(__main__.ModelBuilderTF2Test.test_create_center_net_model1 (customize_head_params=False)): 0.34s\n",
            "[       OK ] ModelBuilderTF2Test.test_create_center_net_model1 (customize_head_params=False)\n",
            "[ RUN      ] ModelBuilderTF2Test.test_create_center_net_model_from_keypoints\n",
            "INFO:tensorflow:time(__main__.ModelBuilderTF2Test.test_create_center_net_model_from_keypoints): 0.47s\n",
            "I1203 03:20:26.068949 137096854844032 test_util.py:2462] time(__main__.ModelBuilderTF2Test.test_create_center_net_model_from_keypoints): 0.47s\n",
            "[       OK ] ModelBuilderTF2Test.test_create_center_net_model_from_keypoints\n",
            "[ RUN      ] ModelBuilderTF2Test.test_create_center_net_model_mobilenet\n",
            "INFO:tensorflow:time(__main__.ModelBuilderTF2Test.test_create_center_net_model_mobilenet): 2.11s\n",
            "I1203 03:20:28.177665 137096854844032 test_util.py:2462] time(__main__.ModelBuilderTF2Test.test_create_center_net_model_mobilenet): 2.11s\n",
            "[       OK ] ModelBuilderTF2Test.test_create_center_net_model_mobilenet\n",
            "[ RUN      ] ModelBuilderTF2Test.test_create_experimental_model\n",
            "INFO:tensorflow:time(__main__.ModelBuilderTF2Test.test_create_experimental_model): 0.0s\n",
            "I1203 03:20:28.186356 137096854844032 test_util.py:2462] time(__main__.ModelBuilderTF2Test.test_create_experimental_model): 0.0s\n",
            "[       OK ] ModelBuilderTF2Test.test_create_experimental_model\n",
            "[ RUN      ] ModelBuilderTF2Test.test_create_faster_rcnn_from_config_with_crop_feature0 (True)\n",
            "INFO:tensorflow:time(__main__.ModelBuilderTF2Test.test_create_faster_rcnn_from_config_with_crop_feature0 (True)): 0.04s\n",
            "I1203 03:20:28.228220 137096854844032 test_util.py:2462] time(__main__.ModelBuilderTF2Test.test_create_faster_rcnn_from_config_with_crop_feature0 (True)): 0.04s\n",
            "[       OK ] ModelBuilderTF2Test.test_create_faster_rcnn_from_config_with_crop_feature0 (True)\n",
            "[ RUN      ] ModelBuilderTF2Test.test_create_faster_rcnn_from_config_with_crop_feature1 (False)\n",
            "INFO:tensorflow:time(__main__.ModelBuilderTF2Test.test_create_faster_rcnn_from_config_with_crop_feature1 (False)): 0.03s\n",
            "I1203 03:20:28.255631 137096854844032 test_util.py:2462] time(__main__.ModelBuilderTF2Test.test_create_faster_rcnn_from_config_with_crop_feature1 (False)): 0.03s\n",
            "[       OK ] ModelBuilderTF2Test.test_create_faster_rcnn_from_config_with_crop_feature1 (False)\n",
            "[ RUN      ] ModelBuilderTF2Test.test_create_faster_rcnn_model_from_config_with_example_miner\n",
            "INFO:tensorflow:time(__main__.ModelBuilderTF2Test.test_create_faster_rcnn_model_from_config_with_example_miner): 0.03s\n",
            "I1203 03:20:28.283502 137096854844032 test_util.py:2462] time(__main__.ModelBuilderTF2Test.test_create_faster_rcnn_model_from_config_with_example_miner): 0.03s\n",
            "[       OK ] ModelBuilderTF2Test.test_create_faster_rcnn_model_from_config_with_example_miner\n",
            "[ RUN      ] ModelBuilderTF2Test.test_create_faster_rcnn_models_from_config_faster_rcnn_with_matmul\n",
            "INFO:tensorflow:time(__main__.ModelBuilderTF2Test.test_create_faster_rcnn_models_from_config_faster_rcnn_with_matmul): 0.17s\n",
            "I1203 03:20:28.458837 137096854844032 test_util.py:2462] time(__main__.ModelBuilderTF2Test.test_create_faster_rcnn_models_from_config_faster_rcnn_with_matmul): 0.17s\n",
            "[       OK ] ModelBuilderTF2Test.test_create_faster_rcnn_models_from_config_faster_rcnn_with_matmul\n",
            "[ RUN      ] ModelBuilderTF2Test.test_create_faster_rcnn_models_from_config_faster_rcnn_without_matmul\n",
            "INFO:tensorflow:time(__main__.ModelBuilderTF2Test.test_create_faster_rcnn_models_from_config_faster_rcnn_without_matmul): 0.17s\n",
            "I1203 03:20:28.628504 137096854844032 test_util.py:2462] time(__main__.ModelBuilderTF2Test.test_create_faster_rcnn_models_from_config_faster_rcnn_without_matmul): 0.17s\n",
            "[       OK ] ModelBuilderTF2Test.test_create_faster_rcnn_models_from_config_faster_rcnn_without_matmul\n",
            "[ RUN      ] ModelBuilderTF2Test.test_create_faster_rcnn_models_from_config_mask_rcnn_with_matmul\n",
            "INFO:tensorflow:time(__main__.ModelBuilderTF2Test.test_create_faster_rcnn_models_from_config_mask_rcnn_with_matmul): 0.18s\n",
            "I1203 03:20:28.808520 137096854844032 test_util.py:2462] time(__main__.ModelBuilderTF2Test.test_create_faster_rcnn_models_from_config_mask_rcnn_with_matmul): 0.18s\n",
            "[       OK ] ModelBuilderTF2Test.test_create_faster_rcnn_models_from_config_mask_rcnn_with_matmul\n",
            "[ RUN      ] ModelBuilderTF2Test.test_create_faster_rcnn_models_from_config_mask_rcnn_without_matmul\n",
            "INFO:tensorflow:time(__main__.ModelBuilderTF2Test.test_create_faster_rcnn_models_from_config_mask_rcnn_without_matmul): 0.17s\n",
            "I1203 03:20:28.978002 137096854844032 test_util.py:2462] time(__main__.ModelBuilderTF2Test.test_create_faster_rcnn_models_from_config_mask_rcnn_without_matmul): 0.17s\n",
            "[       OK ] ModelBuilderTF2Test.test_create_faster_rcnn_models_from_config_mask_rcnn_without_matmul\n",
            "[ RUN      ] ModelBuilderTF2Test.test_create_rfcn_model_from_config\n",
            "INFO:tensorflow:time(__main__.ModelBuilderTF2Test.test_create_rfcn_model_from_config): 0.17s\n",
            "I1203 03:20:29.147007 137096854844032 test_util.py:2462] time(__main__.ModelBuilderTF2Test.test_create_rfcn_model_from_config): 0.17s\n",
            "[       OK ] ModelBuilderTF2Test.test_create_rfcn_model_from_config\n",
            "[ RUN      ] ModelBuilderTF2Test.test_create_ssd_fpn_model_from_config\n",
            "INFO:tensorflow:time(__main__.ModelBuilderTF2Test.test_create_ssd_fpn_model_from_config): 0.05s\n",
            "I1203 03:20:29.198309 137096854844032 test_util.py:2462] time(__main__.ModelBuilderTF2Test.test_create_ssd_fpn_model_from_config): 0.05s\n",
            "[       OK ] ModelBuilderTF2Test.test_create_ssd_fpn_model_from_config\n",
            "[ RUN      ] ModelBuilderTF2Test.test_create_ssd_models_from_config\n",
            "I1203 03:20:29.507440 137096854844032 ssd_efficientnet_bifpn_feature_extractor.py:161] EfficientDet EfficientNet backbone version: efficientnet-b0\n",
            "I1203 03:20:29.507668 137096854844032 ssd_efficientnet_bifpn_feature_extractor.py:163] EfficientDet BiFPN num filters: 64\n",
            "I1203 03:20:29.507744 137096854844032 ssd_efficientnet_bifpn_feature_extractor.py:164] EfficientDet BiFPN num iterations: 3\n",
            "I1203 03:20:29.512576 137096854844032 efficientnet_model.py:143] round_filter input=32 output=32\n",
            "I1203 03:20:29.552874 137096854844032 efficientnet_model.py:143] round_filter input=32 output=32\n",
            "I1203 03:20:29.553031 137096854844032 efficientnet_model.py:143] round_filter input=16 output=16\n",
            "I1203 03:20:29.662538 137096854844032 efficientnet_model.py:143] round_filter input=16 output=16\n",
            "I1203 03:20:29.662711 137096854844032 efficientnet_model.py:143] round_filter input=24 output=24\n",
            "I1203 03:20:29.956394 137096854844032 efficientnet_model.py:143] round_filter input=24 output=24\n",
            "I1203 03:20:29.956592 137096854844032 efficientnet_model.py:143] round_filter input=40 output=40\n",
            "I1203 03:20:30.227937 137096854844032 efficientnet_model.py:143] round_filter input=40 output=40\n",
            "I1203 03:20:30.228142 137096854844032 efficientnet_model.py:143] round_filter input=80 output=80\n",
            "I1203 03:20:30.581255 137096854844032 efficientnet_model.py:143] round_filter input=80 output=80\n",
            "I1203 03:20:30.581410 137096854844032 efficientnet_model.py:143] round_filter input=112 output=112\n",
            "I1203 03:20:30.880452 137096854844032 efficientnet_model.py:143] round_filter input=112 output=112\n",
            "I1203 03:20:30.880616 137096854844032 efficientnet_model.py:143] round_filter input=192 output=192\n",
            "I1203 03:20:31.257410 137096854844032 efficientnet_model.py:143] round_filter input=192 output=192\n",
            "I1203 03:20:31.257583 137096854844032 efficientnet_model.py:143] round_filter input=320 output=320\n",
            "I1203 03:20:31.349509 137096854844032 efficientnet_model.py:143] round_filter input=1280 output=1280\n",
            "I1203 03:20:31.396082 137096854844032 efficientnet_model.py:453] Building model efficientnet with params ModelConfig(width_coefficient=1.0, depth_coefficient=1.0, resolution=224, dropout_rate=0.2, blocks=(BlockConfig(input_filters=32, output_filters=16, kernel_size=3, num_repeat=1, expand_ratio=1, strides=(1, 1), se_ratio=0.25, id_skip=True, fused_conv=False, conv_type='depthwise'), BlockConfig(input_filters=16, output_filters=24, kernel_size=3, num_repeat=2, expand_ratio=6, strides=(2, 2), se_ratio=0.25, id_skip=True, fused_conv=False, conv_type='depthwise'), BlockConfig(input_filters=24, output_filters=40, kernel_size=5, num_repeat=2, expand_ratio=6, strides=(2, 2), se_ratio=0.25, id_skip=True, fused_conv=False, conv_type='depthwise'), BlockConfig(input_filters=40, output_filters=80, kernel_size=3, num_repeat=3, expand_ratio=6, strides=(2, 2), se_ratio=0.25, id_skip=True, fused_conv=False, conv_type='depthwise'), BlockConfig(input_filters=80, output_filters=112, kernel_size=5, num_repeat=3, expand_ratio=6, strides=(1, 1), se_ratio=0.25, id_skip=True, fused_conv=False, conv_type='depthwise'), BlockConfig(input_filters=112, output_filters=192, kernel_size=5, num_repeat=4, expand_ratio=6, strides=(2, 2), se_ratio=0.25, id_skip=True, fused_conv=False, conv_type='depthwise'), BlockConfig(input_filters=192, output_filters=320, kernel_size=3, num_repeat=1, expand_ratio=6, strides=(1, 1), se_ratio=0.25, id_skip=True, fused_conv=False, conv_type='depthwise')), stem_base_filters=32, top_base_filters=1280, activation='simple_swish', batch_norm='default', bn_momentum=0.99, bn_epsilon=0.001, weight_decay=5e-06, drop_connect_rate=0.2, depth_divisor=8, min_depth=None, use_se=True, input_channels=3, num_classes=1000, model_name='efficientnet', rescale_input=False, data_format='channels_last', dtype='float32')\n",
            "I1203 03:20:31.453890 137096854844032 ssd_efficientnet_bifpn_feature_extractor.py:161] EfficientDet EfficientNet backbone version: efficientnet-b1\n",
            "I1203 03:20:31.454070 137096854844032 ssd_efficientnet_bifpn_feature_extractor.py:163] EfficientDet BiFPN num filters: 88\n",
            "I1203 03:20:31.454175 137096854844032 ssd_efficientnet_bifpn_feature_extractor.py:164] EfficientDet BiFPN num iterations: 4\n",
            "I1203 03:20:31.456229 137096854844032 efficientnet_model.py:143] round_filter input=32 output=32\n",
            "I1203 03:20:31.475239 137096854844032 efficientnet_model.py:143] round_filter input=32 output=32\n",
            "I1203 03:20:31.475358 137096854844032 efficientnet_model.py:143] round_filter input=16 output=16\n",
            "I1203 03:20:31.629015 137096854844032 efficientnet_model.py:143] round_filter input=16 output=16\n",
            "I1203 03:20:31.629178 137096854844032 efficientnet_model.py:143] round_filter input=24 output=24\n",
            "I1203 03:20:31.901011 137096854844032 efficientnet_model.py:143] round_filter input=24 output=24\n",
            "I1203 03:20:31.901189 137096854844032 efficientnet_model.py:143] round_filter input=40 output=40\n",
            "I1203 03:20:32.195464 137096854844032 efficientnet_model.py:143] round_filter input=40 output=40\n",
            "I1203 03:20:32.195649 137096854844032 efficientnet_model.py:143] round_filter input=80 output=80\n",
            "I1203 03:20:32.783169 137096854844032 efficientnet_model.py:143] round_filter input=80 output=80\n",
            "I1203 03:20:32.783332 137096854844032 efficientnet_model.py:143] round_filter input=112 output=112\n",
            "I1203 03:20:33.142526 137096854844032 efficientnet_model.py:143] round_filter input=112 output=112\n",
            "I1203 03:20:33.142704 137096854844032 efficientnet_model.py:143] round_filter input=192 output=192\n",
            "I1203 03:20:33.587458 137096854844032 efficientnet_model.py:143] round_filter input=192 output=192\n",
            "I1203 03:20:33.587656 137096854844032 efficientnet_model.py:143] round_filter input=320 output=320\n",
            "I1203 03:20:33.783307 137096854844032 efficientnet_model.py:143] round_filter input=1280 output=1280\n",
            "I1203 03:20:33.817464 137096854844032 efficientnet_model.py:453] Building model efficientnet with params ModelConfig(width_coefficient=1.0, depth_coefficient=1.1, resolution=240, dropout_rate=0.2, blocks=(BlockConfig(input_filters=32, output_filters=16, kernel_size=3, num_repeat=1, expand_ratio=1, strides=(1, 1), se_ratio=0.25, id_skip=True, fused_conv=False, conv_type='depthwise'), BlockConfig(input_filters=16, output_filters=24, kernel_size=3, num_repeat=2, expand_ratio=6, strides=(2, 2), se_ratio=0.25, id_skip=True, fused_conv=False, conv_type='depthwise'), BlockConfig(input_filters=24, output_filters=40, kernel_size=5, num_repeat=2, expand_ratio=6, strides=(2, 2), se_ratio=0.25, id_skip=True, fused_conv=False, conv_type='depthwise'), BlockConfig(input_filters=40, output_filters=80, kernel_size=3, num_repeat=3, expand_ratio=6, strides=(2, 2), se_ratio=0.25, id_skip=True, fused_conv=False, conv_type='depthwise'), BlockConfig(input_filters=80, output_filters=112, kernel_size=5, num_repeat=3, expand_ratio=6, strides=(1, 1), se_ratio=0.25, id_skip=True, fused_conv=False, conv_type='depthwise'), BlockConfig(input_filters=112, output_filters=192, kernel_size=5, num_repeat=4, expand_ratio=6, strides=(2, 2), se_ratio=0.25, id_skip=True, fused_conv=False, conv_type='depthwise'), BlockConfig(input_filters=192, output_filters=320, kernel_size=3, num_repeat=1, expand_ratio=6, strides=(1, 1), se_ratio=0.25, id_skip=True, fused_conv=False, conv_type='depthwise')), stem_base_filters=32, top_base_filters=1280, activation='simple_swish', batch_norm='default', bn_momentum=0.99, bn_epsilon=0.001, weight_decay=5e-06, drop_connect_rate=0.2, depth_divisor=8, min_depth=None, use_se=True, input_channels=3, num_classes=1000, model_name='efficientnet', rescale_input=False, data_format='channels_last', dtype='float32')\n",
            "I1203 03:20:33.883943 137096854844032 ssd_efficientnet_bifpn_feature_extractor.py:161] EfficientDet EfficientNet backbone version: efficientnet-b2\n",
            "I1203 03:20:33.884101 137096854844032 ssd_efficientnet_bifpn_feature_extractor.py:163] EfficientDet BiFPN num filters: 112\n",
            "I1203 03:20:33.884199 137096854844032 ssd_efficientnet_bifpn_feature_extractor.py:164] EfficientDet BiFPN num iterations: 5\n",
            "I1203 03:20:33.886091 137096854844032 efficientnet_model.py:143] round_filter input=32 output=32\n",
            "I1203 03:20:33.904076 137096854844032 efficientnet_model.py:143] round_filter input=32 output=32\n",
            "I1203 03:20:33.904216 137096854844032 efficientnet_model.py:143] round_filter input=16 output=16\n",
            "I1203 03:20:34.042827 137096854844032 efficientnet_model.py:143] round_filter input=16 output=16\n",
            "I1203 03:20:34.042983 137096854844032 efficientnet_model.py:143] round_filter input=24 output=24\n",
            "I1203 03:20:34.313410 137096854844032 efficientnet_model.py:143] round_filter input=24 output=24\n",
            "I1203 03:20:34.313579 137096854844032 efficientnet_model.py:143] round_filter input=40 output=48\n",
            "I1203 03:20:34.593436 137096854844032 efficientnet_model.py:143] round_filter input=40 output=48\n",
            "I1203 03:20:34.593605 137096854844032 efficientnet_model.py:143] round_filter input=80 output=88\n",
            "I1203 03:20:34.972190 137096854844032 efficientnet_model.py:143] round_filter input=80 output=88\n",
            "I1203 03:20:34.972342 137096854844032 efficientnet_model.py:143] round_filter input=112 output=120\n",
            "I1203 03:20:35.340333 137096854844032 efficientnet_model.py:143] round_filter input=112 output=120\n",
            "I1203 03:20:35.340492 137096854844032 efficientnet_model.py:143] round_filter input=192 output=208\n",
            "I1203 03:20:35.806999 137096854844032 efficientnet_model.py:143] round_filter input=192 output=208\n",
            "I1203 03:20:35.807180 137096854844032 efficientnet_model.py:143] round_filter input=320 output=352\n",
            "I1203 03:20:35.993598 137096854844032 efficientnet_model.py:143] round_filter input=1280 output=1408\n",
            "I1203 03:20:36.030787 137096854844032 efficientnet_model.py:453] Building model efficientnet with params ModelConfig(width_coefficient=1.1, depth_coefficient=1.2, resolution=260, dropout_rate=0.3, blocks=(BlockConfig(input_filters=32, output_filters=16, kernel_size=3, num_repeat=1, expand_ratio=1, strides=(1, 1), se_ratio=0.25, id_skip=True, fused_conv=False, conv_type='depthwise'), BlockConfig(input_filters=16, output_filters=24, kernel_size=3, num_repeat=2, expand_ratio=6, strides=(2, 2), se_ratio=0.25, id_skip=True, fused_conv=False, conv_type='depthwise'), BlockConfig(input_filters=24, output_filters=40, kernel_size=5, num_repeat=2, expand_ratio=6, strides=(2, 2), se_ratio=0.25, id_skip=True, fused_conv=False, conv_type='depthwise'), BlockConfig(input_filters=40, output_filters=80, kernel_size=3, num_repeat=3, expand_ratio=6, strides=(2, 2), se_ratio=0.25, id_skip=True, fused_conv=False, conv_type='depthwise'), BlockConfig(input_filters=80, output_filters=112, kernel_size=5, num_repeat=3, expand_ratio=6, strides=(1, 1), se_ratio=0.25, id_skip=True, fused_conv=False, conv_type='depthwise'), BlockConfig(input_filters=112, output_filters=192, kernel_size=5, num_repeat=4, expand_ratio=6, strides=(2, 2), se_ratio=0.25, id_skip=True, fused_conv=False, conv_type='depthwise'), BlockConfig(input_filters=192, output_filters=320, kernel_size=3, num_repeat=1, expand_ratio=6, strides=(1, 1), se_ratio=0.25, id_skip=True, fused_conv=False, conv_type='depthwise')), stem_base_filters=32, top_base_filters=1280, activation='simple_swish', batch_norm='default', bn_momentum=0.99, bn_epsilon=0.001, weight_decay=5e-06, drop_connect_rate=0.2, depth_divisor=8, min_depth=None, use_se=True, input_channels=3, num_classes=1000, model_name='efficientnet', rescale_input=False, data_format='channels_last', dtype='float32')\n",
            "I1203 03:20:36.100703 137096854844032 ssd_efficientnet_bifpn_feature_extractor.py:161] EfficientDet EfficientNet backbone version: efficientnet-b3\n",
            "I1203 03:20:36.100840 137096854844032 ssd_efficientnet_bifpn_feature_extractor.py:163] EfficientDet BiFPN num filters: 160\n",
            "I1203 03:20:36.100908 137096854844032 ssd_efficientnet_bifpn_feature_extractor.py:164] EfficientDet BiFPN num iterations: 6\n",
            "I1203 03:20:36.102858 137096854844032 efficientnet_model.py:143] round_filter input=32 output=40\n",
            "I1203 03:20:36.122685 137096854844032 efficientnet_model.py:143] round_filter input=32 output=40\n",
            "I1203 03:20:36.122802 137096854844032 efficientnet_model.py:143] round_filter input=16 output=24\n",
            "I1203 03:20:36.276445 137096854844032 efficientnet_model.py:143] round_filter input=16 output=24\n",
            "I1203 03:20:36.276601 137096854844032 efficientnet_model.py:143] round_filter input=24 output=32\n",
            "I1203 03:20:36.547627 137096854844032 efficientnet_model.py:143] round_filter input=24 output=32\n",
            "I1203 03:20:36.547806 137096854844032 efficientnet_model.py:143] round_filter input=40 output=48\n",
            "I1203 03:20:36.834927 137096854844032 efficientnet_model.py:143] round_filter input=40 output=48\n",
            "I1203 03:20:36.835104 137096854844032 efficientnet_model.py:143] round_filter input=80 output=96\n",
            "I1203 03:20:37.285269 137096854844032 efficientnet_model.py:143] round_filter input=80 output=96\n",
            "I1203 03:20:37.285434 137096854844032 efficientnet_model.py:143] round_filter input=112 output=136\n",
            "I1203 03:20:37.769434 137096854844032 efficientnet_model.py:143] round_filter input=112 output=136\n",
            "I1203 03:20:37.769896 137096854844032 efficientnet_model.py:143] round_filter input=192 output=232\n",
            "I1203 03:20:38.354523 137096854844032 efficientnet_model.py:143] round_filter input=192 output=232\n",
            "I1203 03:20:38.354702 137096854844032 efficientnet_model.py:143] round_filter input=320 output=384\n",
            "I1203 03:20:38.566310 137096854844032 efficientnet_model.py:143] round_filter input=1280 output=1536\n",
            "I1203 03:20:38.611749 137096854844032 efficientnet_model.py:453] Building model efficientnet with params ModelConfig(width_coefficient=1.2, depth_coefficient=1.4, resolution=300, dropout_rate=0.3, blocks=(BlockConfig(input_filters=32, output_filters=16, kernel_size=3, num_repeat=1, expand_ratio=1, strides=(1, 1), se_ratio=0.25, id_skip=True, fused_conv=False, conv_type='depthwise'), BlockConfig(input_filters=16, output_filters=24, kernel_size=3, num_repeat=2, expand_ratio=6, strides=(2, 2), se_ratio=0.25, id_skip=True, fused_conv=False, conv_type='depthwise'), BlockConfig(input_filters=24, output_filters=40, kernel_size=5, num_repeat=2, expand_ratio=6, strides=(2, 2), se_ratio=0.25, id_skip=True, fused_conv=False, conv_type='depthwise'), BlockConfig(input_filters=40, output_filters=80, kernel_size=3, num_repeat=3, expand_ratio=6, strides=(2, 2), se_ratio=0.25, id_skip=True, fused_conv=False, conv_type='depthwise'), BlockConfig(input_filters=80, output_filters=112, kernel_size=5, num_repeat=3, expand_ratio=6, strides=(1, 1), se_ratio=0.25, id_skip=True, fused_conv=False, conv_type='depthwise'), BlockConfig(input_filters=112, output_filters=192, kernel_size=5, num_repeat=4, expand_ratio=6, strides=(2, 2), se_ratio=0.25, id_skip=True, fused_conv=False, conv_type='depthwise'), BlockConfig(input_filters=192, output_filters=320, kernel_size=3, num_repeat=1, expand_ratio=6, strides=(1, 1), se_ratio=0.25, id_skip=True, fused_conv=False, conv_type='depthwise')), stem_base_filters=32, top_base_filters=1280, activation='simple_swish', batch_norm='default', bn_momentum=0.99, bn_epsilon=0.001, weight_decay=5e-06, drop_connect_rate=0.2, depth_divisor=8, min_depth=None, use_se=True, input_channels=3, num_classes=1000, model_name='efficientnet', rescale_input=False, data_format='channels_last', dtype='float32')\n",
            "I1203 03:20:38.689408 137096854844032 ssd_efficientnet_bifpn_feature_extractor.py:161] EfficientDet EfficientNet backbone version: efficientnet-b4\n",
            "I1203 03:20:38.689561 137096854844032 ssd_efficientnet_bifpn_feature_extractor.py:163] EfficientDet BiFPN num filters: 224\n",
            "I1203 03:20:38.689637 137096854844032 ssd_efficientnet_bifpn_feature_extractor.py:164] EfficientDet BiFPN num iterations: 7\n",
            "I1203 03:20:38.691902 137096854844032 efficientnet_model.py:143] round_filter input=32 output=48\n",
            "I1203 03:20:38.713348 137096854844032 efficientnet_model.py:143] round_filter input=32 output=48\n",
            "I1203 03:20:38.713462 137096854844032 efficientnet_model.py:143] round_filter input=16 output=24\n",
            "I1203 03:20:38.867438 137096854844032 efficientnet_model.py:143] round_filter input=16 output=24\n",
            "I1203 03:20:38.867589 137096854844032 efficientnet_model.py:143] round_filter input=24 output=32\n",
            "I1203 03:20:39.222324 137096854844032 efficientnet_model.py:143] round_filter input=24 output=32\n",
            "I1203 03:20:39.222480 137096854844032 efficientnet_model.py:143] round_filter input=40 output=56\n",
            "I1203 03:20:39.586685 137096854844032 efficientnet_model.py:143] round_filter input=40 output=56\n",
            "I1203 03:20:39.586847 137096854844032 efficientnet_model.py:143] round_filter input=80 output=112\n",
            "I1203 03:20:40.135366 137096854844032 efficientnet_model.py:143] round_filter input=80 output=112\n",
            "I1203 03:20:40.135527 137096854844032 efficientnet_model.py:143] round_filter input=112 output=160\n",
            "I1203 03:20:41.150974 137096854844032 efficientnet_model.py:143] round_filter input=112 output=160\n",
            "I1203 03:20:41.151177 137096854844032 efficientnet_model.py:143] round_filter input=192 output=272\n",
            "I1203 03:20:42.198221 137096854844032 efficientnet_model.py:143] round_filter input=192 output=272\n",
            "I1203 03:20:42.198451 137096854844032 efficientnet_model.py:143] round_filter input=320 output=448\n",
            "I1203 03:20:42.472970 137096854844032 efficientnet_model.py:143] round_filter input=1280 output=1792\n",
            "I1203 03:20:42.528173 137096854844032 efficientnet_model.py:453] Building model efficientnet with params ModelConfig(width_coefficient=1.4, depth_coefficient=1.8, resolution=380, dropout_rate=0.4, blocks=(BlockConfig(input_filters=32, output_filters=16, kernel_size=3, num_repeat=1, expand_ratio=1, strides=(1, 1), se_ratio=0.25, id_skip=True, fused_conv=False, conv_type='depthwise'), BlockConfig(input_filters=16, output_filters=24, kernel_size=3, num_repeat=2, expand_ratio=6, strides=(2, 2), se_ratio=0.25, id_skip=True, fused_conv=False, conv_type='depthwise'), BlockConfig(input_filters=24, output_filters=40, kernel_size=5, num_repeat=2, expand_ratio=6, strides=(2, 2), se_ratio=0.25, id_skip=True, fused_conv=False, conv_type='depthwise'), BlockConfig(input_filters=40, output_filters=80, kernel_size=3, num_repeat=3, expand_ratio=6, strides=(2, 2), se_ratio=0.25, id_skip=True, fused_conv=False, conv_type='depthwise'), BlockConfig(input_filters=80, output_filters=112, kernel_size=5, num_repeat=3, expand_ratio=6, strides=(1, 1), se_ratio=0.25, id_skip=True, fused_conv=False, conv_type='depthwise'), BlockConfig(input_filters=112, output_filters=192, kernel_size=5, num_repeat=4, expand_ratio=6, strides=(2, 2), se_ratio=0.25, id_skip=True, fused_conv=False, conv_type='depthwise'), BlockConfig(input_filters=192, output_filters=320, kernel_size=3, num_repeat=1, expand_ratio=6, strides=(1, 1), se_ratio=0.25, id_skip=True, fused_conv=False, conv_type='depthwise')), stem_base_filters=32, top_base_filters=1280, activation='simple_swish', batch_norm='default', bn_momentum=0.99, bn_epsilon=0.001, weight_decay=5e-06, drop_connect_rate=0.2, depth_divisor=8, min_depth=None, use_se=True, input_channels=3, num_classes=1000, model_name='efficientnet', rescale_input=False, data_format='channels_last', dtype='float32')\n",
            "I1203 03:20:42.666339 137096854844032 ssd_efficientnet_bifpn_feature_extractor.py:161] EfficientDet EfficientNet backbone version: efficientnet-b5\n",
            "I1203 03:20:42.666630 137096854844032 ssd_efficientnet_bifpn_feature_extractor.py:163] EfficientDet BiFPN num filters: 288\n",
            "I1203 03:20:42.666722 137096854844032 ssd_efficientnet_bifpn_feature_extractor.py:164] EfficientDet BiFPN num iterations: 7\n",
            "I1203 03:20:42.668902 137096854844032 efficientnet_model.py:143] round_filter input=32 output=48\n",
            "I1203 03:20:42.689035 137096854844032 efficientnet_model.py:143] round_filter input=32 output=48\n",
            "I1203 03:20:42.689187 137096854844032 efficientnet_model.py:143] round_filter input=16 output=24\n",
            "I1203 03:20:42.909634 137096854844032 efficientnet_model.py:143] round_filter input=16 output=24\n",
            "I1203 03:20:42.909791 137096854844032 efficientnet_model.py:143] round_filter input=24 output=40\n",
            "I1203 03:20:43.361953 137096854844032 efficientnet_model.py:143] round_filter input=24 output=40\n",
            "I1203 03:20:43.362122 137096854844032 efficientnet_model.py:143] round_filter input=40 output=64\n",
            "I1203 03:20:43.831991 137096854844032 efficientnet_model.py:143] round_filter input=40 output=64\n",
            "I1203 03:20:43.832177 137096854844032 efficientnet_model.py:143] round_filter input=80 output=128\n",
            "I1203 03:20:44.484062 137096854844032 efficientnet_model.py:143] round_filter input=80 output=128\n",
            "I1203 03:20:44.484238 137096854844032 efficientnet_model.py:143] round_filter input=112 output=176\n",
            "I1203 03:20:45.139725 137096854844032 efficientnet_model.py:143] round_filter input=112 output=176\n",
            "I1203 03:20:45.139898 137096854844032 efficientnet_model.py:143] round_filter input=192 output=304\n",
            "I1203 03:20:45.973707 137096854844032 efficientnet_model.py:143] round_filter input=192 output=304\n",
            "I1203 03:20:45.973872 137096854844032 efficientnet_model.py:143] round_filter input=320 output=512\n",
            "I1203 03:20:46.270849 137096854844032 efficientnet_model.py:143] round_filter input=1280 output=2048\n",
            "I1203 03:20:46.310421 137096854844032 efficientnet_model.py:453] Building model efficientnet with params ModelConfig(width_coefficient=1.6, depth_coefficient=2.2, resolution=456, dropout_rate=0.4, blocks=(BlockConfig(input_filters=32, output_filters=16, kernel_size=3, num_repeat=1, expand_ratio=1, strides=(1, 1), se_ratio=0.25, id_skip=True, fused_conv=False, conv_type='depthwise'), BlockConfig(input_filters=16, output_filters=24, kernel_size=3, num_repeat=2, expand_ratio=6, strides=(2, 2), se_ratio=0.25, id_skip=True, fused_conv=False, conv_type='depthwise'), BlockConfig(input_filters=24, output_filters=40, kernel_size=5, num_repeat=2, expand_ratio=6, strides=(2, 2), se_ratio=0.25, id_skip=True, fused_conv=False, conv_type='depthwise'), BlockConfig(input_filters=40, output_filters=80, kernel_size=3, num_repeat=3, expand_ratio=6, strides=(2, 2), se_ratio=0.25, id_skip=True, fused_conv=False, conv_type='depthwise'), BlockConfig(input_filters=80, output_filters=112, kernel_size=5, num_repeat=3, expand_ratio=6, strides=(1, 1), se_ratio=0.25, id_skip=True, fused_conv=False, conv_type='depthwise'), BlockConfig(input_filters=112, output_filters=192, kernel_size=5, num_repeat=4, expand_ratio=6, strides=(2, 2), se_ratio=0.25, id_skip=True, fused_conv=False, conv_type='depthwise'), BlockConfig(input_filters=192, output_filters=320, kernel_size=3, num_repeat=1, expand_ratio=6, strides=(1, 1), se_ratio=0.25, id_skip=True, fused_conv=False, conv_type='depthwise')), stem_base_filters=32, top_base_filters=1280, activation='simple_swish', batch_norm='default', bn_momentum=0.99, bn_epsilon=0.001, weight_decay=5e-06, drop_connect_rate=0.2, depth_divisor=8, min_depth=None, use_se=True, input_channels=3, num_classes=1000, model_name='efficientnet', rescale_input=False, data_format='channels_last', dtype='float32')\n",
            "I1203 03:20:46.401871 137096854844032 ssd_efficientnet_bifpn_feature_extractor.py:161] EfficientDet EfficientNet backbone version: efficientnet-b6\n",
            "I1203 03:20:46.402035 137096854844032 ssd_efficientnet_bifpn_feature_extractor.py:163] EfficientDet BiFPN num filters: 384\n",
            "I1203 03:20:46.402108 137096854844032 ssd_efficientnet_bifpn_feature_extractor.py:164] EfficientDet BiFPN num iterations: 8\n",
            "I1203 03:20:46.404245 137096854844032 efficientnet_model.py:143] round_filter input=32 output=56\n",
            "I1203 03:20:46.424164 137096854844032 efficientnet_model.py:143] round_filter input=32 output=56\n",
            "I1203 03:20:46.424279 137096854844032 efficientnet_model.py:143] round_filter input=16 output=32\n",
            "I1203 03:20:46.649876 137096854844032 efficientnet_model.py:143] round_filter input=16 output=32\n",
            "I1203 03:20:46.650040 137096854844032 efficientnet_model.py:143] round_filter input=24 output=40\n",
            "I1203 03:20:47.207498 137096854844032 efficientnet_model.py:143] round_filter input=24 output=40\n",
            "I1203 03:20:47.207662 137096854844032 efficientnet_model.py:143] round_filter input=40 output=72\n",
            "I1203 03:20:47.755074 137096854844032 efficientnet_model.py:143] round_filter input=40 output=72\n",
            "I1203 03:20:47.755248 137096854844032 efficientnet_model.py:143] round_filter input=80 output=144\n",
            "I1203 03:20:48.488933 137096854844032 efficientnet_model.py:143] round_filter input=80 output=144\n",
            "I1203 03:20:48.489108 137096854844032 efficientnet_model.py:143] round_filter input=112 output=200\n",
            "I1203 03:20:49.228827 137096854844032 efficientnet_model.py:143] round_filter input=112 output=200\n",
            "I1203 03:20:49.228991 137096854844032 efficientnet_model.py:143] round_filter input=192 output=344\n",
            "I1203 03:20:50.538649 137096854844032 efficientnet_model.py:143] round_filter input=192 output=344\n",
            "I1203 03:20:50.538813 137096854844032 efficientnet_model.py:143] round_filter input=320 output=576\n",
            "I1203 03:20:50.827183 137096854844032 efficientnet_model.py:143] round_filter input=1280 output=2304\n",
            "I1203 03:20:50.865378 137096854844032 efficientnet_model.py:453] Building model efficientnet with params ModelConfig(width_coefficient=1.8, depth_coefficient=2.6, resolution=528, dropout_rate=0.5, blocks=(BlockConfig(input_filters=32, output_filters=16, kernel_size=3, num_repeat=1, expand_ratio=1, strides=(1, 1), se_ratio=0.25, id_skip=True, fused_conv=False, conv_type='depthwise'), BlockConfig(input_filters=16, output_filters=24, kernel_size=3, num_repeat=2, expand_ratio=6, strides=(2, 2), se_ratio=0.25, id_skip=True, fused_conv=False, conv_type='depthwise'), BlockConfig(input_filters=24, output_filters=40, kernel_size=5, num_repeat=2, expand_ratio=6, strides=(2, 2), se_ratio=0.25, id_skip=True, fused_conv=False, conv_type='depthwise'), BlockConfig(input_filters=40, output_filters=80, kernel_size=3, num_repeat=3, expand_ratio=6, strides=(2, 2), se_ratio=0.25, id_skip=True, fused_conv=False, conv_type='depthwise'), BlockConfig(input_filters=80, output_filters=112, kernel_size=5, num_repeat=3, expand_ratio=6, strides=(1, 1), se_ratio=0.25, id_skip=True, fused_conv=False, conv_type='depthwise'), BlockConfig(input_filters=112, output_filters=192, kernel_size=5, num_repeat=4, expand_ratio=6, strides=(2, 2), se_ratio=0.25, id_skip=True, fused_conv=False, conv_type='depthwise'), BlockConfig(input_filters=192, output_filters=320, kernel_size=3, num_repeat=1, expand_ratio=6, strides=(1, 1), se_ratio=0.25, id_skip=True, fused_conv=False, conv_type='depthwise')), stem_base_filters=32, top_base_filters=1280, activation='simple_swish', batch_norm='default', bn_momentum=0.99, bn_epsilon=0.001, weight_decay=5e-06, drop_connect_rate=0.2, depth_divisor=8, min_depth=None, use_se=True, input_channels=3, num_classes=1000, model_name='efficientnet', rescale_input=False, data_format='channels_last', dtype='float32')\n",
            "I1203 03:20:50.967070 137096854844032 ssd_efficientnet_bifpn_feature_extractor.py:161] EfficientDet EfficientNet backbone version: efficientnet-b7\n",
            "I1203 03:20:50.967234 137096854844032 ssd_efficientnet_bifpn_feature_extractor.py:163] EfficientDet BiFPN num filters: 384\n",
            "I1203 03:20:50.967307 137096854844032 ssd_efficientnet_bifpn_feature_extractor.py:164] EfficientDet BiFPN num iterations: 8\n",
            "I1203 03:20:50.969173 137096854844032 efficientnet_model.py:143] round_filter input=32 output=64\n",
            "I1203 03:20:50.989184 137096854844032 efficientnet_model.py:143] round_filter input=32 output=64\n",
            "I1203 03:20:50.989299 137096854844032 efficientnet_model.py:143] round_filter input=16 output=32\n",
            "I1203 03:20:51.291997 137096854844032 efficientnet_model.py:143] round_filter input=16 output=32\n",
            "I1203 03:20:51.292169 137096854844032 efficientnet_model.py:143] round_filter input=24 output=48\n",
            "I1203 03:20:51.923446 137096854844032 efficientnet_model.py:143] round_filter input=24 output=48\n",
            "I1203 03:20:51.923616 137096854844032 efficientnet_model.py:143] round_filter input=40 output=80\n",
            "I1203 03:20:52.560914 137096854844032 efficientnet_model.py:143] round_filter input=40 output=80\n",
            "I1203 03:20:52.561088 137096854844032 efficientnet_model.py:143] round_filter input=80 output=160\n",
            "I1203 03:20:53.795641 137096854844032 efficientnet_model.py:143] round_filter input=80 output=160\n",
            "I1203 03:20:53.795838 137096854844032 efficientnet_model.py:143] round_filter input=112 output=224\n",
            "I1203 03:20:55.046598 137096854844032 efficientnet_model.py:143] round_filter input=112 output=224\n",
            "I1203 03:20:55.046781 137096854844032 efficientnet_model.py:143] round_filter input=192 output=384\n",
            "I1203 03:20:56.225111 137096854844032 efficientnet_model.py:143] round_filter input=192 output=384\n",
            "I1203 03:20:56.225358 137096854844032 efficientnet_model.py:143] round_filter input=320 output=640\n",
            "I1203 03:20:56.608025 137096854844032 efficientnet_model.py:143] round_filter input=1280 output=2560\n",
            "I1203 03:20:56.649750 137096854844032 efficientnet_model.py:453] Building model efficientnet with params ModelConfig(width_coefficient=2.0, depth_coefficient=3.1, resolution=600, dropout_rate=0.5, blocks=(BlockConfig(input_filters=32, output_filters=16, kernel_size=3, num_repeat=1, expand_ratio=1, strides=(1, 1), se_ratio=0.25, id_skip=True, fused_conv=False, conv_type='depthwise'), BlockConfig(input_filters=16, output_filters=24, kernel_size=3, num_repeat=2, expand_ratio=6, strides=(2, 2), se_ratio=0.25, id_skip=True, fused_conv=False, conv_type='depthwise'), BlockConfig(input_filters=24, output_filters=40, kernel_size=5, num_repeat=2, expand_ratio=6, strides=(2, 2), se_ratio=0.25, id_skip=True, fused_conv=False, conv_type='depthwise'), BlockConfig(input_filters=40, output_filters=80, kernel_size=3, num_repeat=3, expand_ratio=6, strides=(2, 2), se_ratio=0.25, id_skip=True, fused_conv=False, conv_type='depthwise'), BlockConfig(input_filters=80, output_filters=112, kernel_size=5, num_repeat=3, expand_ratio=6, strides=(1, 1), se_ratio=0.25, id_skip=True, fused_conv=False, conv_type='depthwise'), BlockConfig(input_filters=112, output_filters=192, kernel_size=5, num_repeat=4, expand_ratio=6, strides=(2, 2), se_ratio=0.25, id_skip=True, fused_conv=False, conv_type='depthwise'), BlockConfig(input_filters=192, output_filters=320, kernel_size=3, num_repeat=1, expand_ratio=6, strides=(1, 1), se_ratio=0.25, id_skip=True, fused_conv=False, conv_type='depthwise')), stem_base_filters=32, top_base_filters=1280, activation='simple_swish', batch_norm='default', bn_momentum=0.99, bn_epsilon=0.001, weight_decay=5e-06, drop_connect_rate=0.2, depth_divisor=8, min_depth=None, use_se=True, input_channels=3, num_classes=1000, model_name='efficientnet', rescale_input=False, data_format='channels_last', dtype='float32')\n",
            "INFO:tensorflow:time(__main__.ModelBuilderTF2Test.test_create_ssd_models_from_config): 27.57s\n",
            "I1203 03:20:56.769878 137096854844032 test_util.py:2462] time(__main__.ModelBuilderTF2Test.test_create_ssd_models_from_config): 27.57s\n",
            "[       OK ] ModelBuilderTF2Test.test_create_ssd_models_from_config\n",
            "[ RUN      ] ModelBuilderTF2Test.test_invalid_faster_rcnn_batchnorm_update\n",
            "INFO:tensorflow:time(__main__.ModelBuilderTF2Test.test_invalid_faster_rcnn_batchnorm_update): 0.0s\n",
            "I1203 03:20:56.797896 137096854844032 test_util.py:2462] time(__main__.ModelBuilderTF2Test.test_invalid_faster_rcnn_batchnorm_update): 0.0s\n",
            "[       OK ] ModelBuilderTF2Test.test_invalid_faster_rcnn_batchnorm_update\n",
            "[ RUN      ] ModelBuilderTF2Test.test_invalid_first_stage_nms_iou_threshold\n",
            "INFO:tensorflow:time(__main__.ModelBuilderTF2Test.test_invalid_first_stage_nms_iou_threshold): 0.0s\n",
            "I1203 03:20:56.799672 137096854844032 test_util.py:2462] time(__main__.ModelBuilderTF2Test.test_invalid_first_stage_nms_iou_threshold): 0.0s\n",
            "[       OK ] ModelBuilderTF2Test.test_invalid_first_stage_nms_iou_threshold\n",
            "[ RUN      ] ModelBuilderTF2Test.test_invalid_model_config_proto\n",
            "INFO:tensorflow:time(__main__.ModelBuilderTF2Test.test_invalid_model_config_proto): 0.0s\n",
            "I1203 03:20:56.800166 137096854844032 test_util.py:2462] time(__main__.ModelBuilderTF2Test.test_invalid_model_config_proto): 0.0s\n",
            "[       OK ] ModelBuilderTF2Test.test_invalid_model_config_proto\n",
            "[ RUN      ] ModelBuilderTF2Test.test_invalid_second_stage_batch_size\n",
            "INFO:tensorflow:time(__main__.ModelBuilderTF2Test.test_invalid_second_stage_batch_size): 0.0s\n",
            "I1203 03:20:56.801550 137096854844032 test_util.py:2462] time(__main__.ModelBuilderTF2Test.test_invalid_second_stage_batch_size): 0.0s\n",
            "[       OK ] ModelBuilderTF2Test.test_invalid_second_stage_batch_size\n",
            "[ RUN      ] ModelBuilderTF2Test.test_session\n",
            "[  SKIPPED ] ModelBuilderTF2Test.test_session\n",
            "[ RUN      ] ModelBuilderTF2Test.test_unknown_faster_rcnn_feature_extractor\n",
            "INFO:tensorflow:time(__main__.ModelBuilderTF2Test.test_unknown_faster_rcnn_feature_extractor): 0.0s\n",
            "I1203 03:20:56.802794 137096854844032 test_util.py:2462] time(__main__.ModelBuilderTF2Test.test_unknown_faster_rcnn_feature_extractor): 0.0s\n",
            "[       OK ] ModelBuilderTF2Test.test_unknown_faster_rcnn_feature_extractor\n",
            "[ RUN      ] ModelBuilderTF2Test.test_unknown_meta_architecture\n",
            "INFO:tensorflow:time(__main__.ModelBuilderTF2Test.test_unknown_meta_architecture): 0.0s\n",
            "I1203 03:20:56.803231 137096854844032 test_util.py:2462] time(__main__.ModelBuilderTF2Test.test_unknown_meta_architecture): 0.0s\n",
            "[       OK ] ModelBuilderTF2Test.test_unknown_meta_architecture\n",
            "[ RUN      ] ModelBuilderTF2Test.test_unknown_ssd_feature_extractor\n",
            "INFO:tensorflow:time(__main__.ModelBuilderTF2Test.test_unknown_ssd_feature_extractor): 0.0s\n",
            "I1203 03:20:56.804246 137096854844032 test_util.py:2462] time(__main__.ModelBuilderTF2Test.test_unknown_ssd_feature_extractor): 0.0s\n",
            "[       OK ] ModelBuilderTF2Test.test_unknown_ssd_feature_extractor\n",
            "----------------------------------------------------------------------\n",
            "Ran 24 tests in 33.856s\n",
            "\n",
            "OK (skipped=1)\n"
          ]
        }
      ],
      "source": [
        "!python /content/models/research/object_detection/builders/model_builder_tf2_test.py"
      ]
    },
    {
      "cell_type": "code",
      "execution_count": null,
      "metadata": {
        "colab": {
          "base_uri": "https://localhost:8080/"
        },
        "id": "Srz9FJHC_5Dk",
        "outputId": "331a2806-d23c-4122-8497-c785be909ec7"
      },
      "outputs": [
        {
          "output_type": "stream",
          "name": "stdout",
          "text": [
            "Mounted at /content/drive\n"
          ]
        }
      ],
      "source": [
        "from google.colab import drive\n",
        "drive.mount('/content/drive')"
      ]
    },
    {
      "cell_type": "code",
      "execution_count": null,
      "metadata": {
        "id": "-UB0Hr68ASaX",
        "colab": {
          "base_uri": "https://localhost:8080/"
        },
        "outputId": "a8d2d04f-8b43-4439-f819-5e216b24da69"
      },
      "outputs": [
        {
          "output_type": "stream",
          "name": "stdout",
          "text": [
            "Archive:  /content/drive/MyDrive/style-mate/datasets/face-detection.v1i.tfrecord.zip\n",
            " extracting: /content/README.dataset.txt  \n",
            " extracting: /content/README.roboflow.txt  \n",
            "   creating: /content/train/\n",
            " extracting: /content/train/face.tfrecord  \n",
            " extracting: /content/train/face_label_map.pbtxt  \n",
            "   creating: /content/valid/\n",
            " extracting: /content/valid/face.tfrecord  \n",
            " extracting: /content/valid/face_label_map.pbtxt  \n"
          ]
        }
      ],
      "source": [
        "# !cp /content/drive/MyDrive/ssd-mobilenet/labeled_data/images_labeled_18nov23.zip /content/images.zip\n",
        "!unzip /content/drive/MyDrive/style-mate/datasets/face-detection.v1i.tfrecord.zip -d /content/"
      ]
    },
    {
      "cell_type": "code",
      "execution_count": null,
      "metadata": {
        "id": "laCbFBnUIUc3"
      },
      "outputs": [],
      "source": [
        "# !unzip /content/images.zip\n",
        "# !unzip /content/face-detection.v1i.tfrecord.zip -d /content/\n",
        "# !mkdir /content/images\n",
        "# !unzip -j -o /content/images.zip -d /content/images/all\n",
        "# # !unzip -o /content/images.zip\n",
        "# !mkdir /content/images/train; mkdir /content/images/validation; mkdir /content/images/test"
      ]
    },
    {
      "cell_type": "code",
      "execution_count": null,
      "metadata": {
        "id": "N0yuHm9rAcjg",
        "colab": {
          "base_uri": "https://localhost:8080/"
        },
        "outputId": "385f7d99-42fe-4e10-c5ed-aacf8cb630fe"
      },
      "outputs": [
        {
          "output_type": "stream",
          "name": "stdout",
          "text": [
            "Removed---->: img17nov_0_8651.jpeg\n",
            "Removed---->: img17nov_0_9811.jpeg\n",
            "Removed---->: img17nov_0_2776.jpeg\n"
          ]
        }
      ],
      "source": [
        "import os\n",
        "import xml.etree.ElementTree as ET\n",
        "\n",
        "def has_annotation(xml_path):\n",
        "    try:\n",
        "        # Baca file XML\n",
        "        tree = ET.parse(xml_path)\n",
        "        root = tree.getroot()\n",
        "\n",
        "        # Ganti ini dengan XPath atau metode lain untuk menentukan apakah XML berisi anotasi yang diinginkan\n",
        "        # Di sini kita mengasumsikan bahwa keberadaan elemen \"object\" menunjukkan adanya anotasi\n",
        "        return len(root.findall(\".//object\")) > 0\n",
        "    except Exception as e:\n",
        "        # Tangani kesalahan saat membaca atau memproses file XML\n",
        "        print(f\"Error processing {xml_path}: {e}\")\n",
        "        return False\n",
        "\n",
        "def remove_unannotated_images(image_dir, xml_dir):\n",
        "    # Ambil daftar nama file gambar dengan ekstensi .jpg dari direktori gambar\n",
        "    image_list = [file for file in os.listdir(image_dir) if file.endswith(\".jpeg\")]\n",
        "\n",
        "    # Iterasi melalui setiap file gambar\n",
        "    for img_name in image_list:\n",
        "        img_path = os.path.join(image_dir, img_name)\n",
        "\n",
        "        # Dapatkan nama file XML sesuai dengan nama file gambar\n",
        "        xml_name = os.path.splitext(img_name)[0] + \".xml\"\n",
        "        xml_path = os.path.join(xml_dir, xml_name)\n",
        "\n",
        "        # Periksa apakah file XML sesuai dengan file gambar\n",
        "        if os.path.exists(xml_path):\n",
        "            # Periksa apakah file XML memiliki anotasi\n",
        "            if not has_annotation(xml_path):\n",
        "                # Hapus file gambar jika tidak memiliki anotasi\n",
        "                os.remove(img_path)\n",
        "                print(f\"Removed---->: {img_name}\")\n",
        "        else:\n",
        "            os.remove(img_path)\n",
        "            print(f\"Removed---->: {img_name}\")\n",
        "\n",
        "# Tentukan direktori gambar (.jpg)\n",
        "image_directory = '/content/images/'\n",
        "\n",
        "# Tentukan direktori label XML\n",
        "xml_directory = '/content/images/'\n",
        "\n",
        "# Panggil fungsi untuk menghapus gambar tanpa anotasi\n",
        "# remove_unannotated_images('/content/images/all', '/content/images/all')\n",
        "remove_unannotated_images('/content/images/train', '/content/images/train')\n",
        "remove_unannotated_images('/content/images/validation', '/content/images/validation')\n"
      ]
    },
    {
      "cell_type": "code",
      "execution_count": null,
      "metadata": {
        "colab": {
          "base_uri": "https://localhost:8080/"
        },
        "id": "PFh506RcIGWa",
        "outputId": "ee567050-0ee6-4269-b516-34cb8aee58cb"
      },
      "outputs": [
        {
          "output_type": "stream",
          "name": "stdout",
          "text": [
            "--2023-11-19 04:32:59--  https://raw.githubusercontent.com/EdjeElectronics/TensorFlow-Lite-Object-Detection-on-Android-and-Raspberry-Pi/master/util_scripts/train_val_test_split.py\n",
            "Resolving raw.githubusercontent.com (raw.githubusercontent.com)... 185.199.108.133, 185.199.111.133, 185.199.109.133, ...\n",
            "Connecting to raw.githubusercontent.com (raw.githubusercontent.com)|185.199.108.133|:443... connected.\n",
            "HTTP request sent, awaiting response... 200 OK\n",
            "Length: 2803 (2.7K) [text/plain]\n",
            "Saving to: ‘train_val_test_split.py’\n",
            "\n",
            "train_val_test_spli 100%[===================>]   2.74K  --.-KB/s    in 0s      \n",
            "\n",
            "2023-11-19 04:33:00 (46.8 MB/s) - ‘train_val_test_split.py’ saved [2803/2803]\n",
            "\n"
          ]
        }
      ],
      "source": [
        "!wget https://raw.githubusercontent.com/EdjeElectronics/TensorFlow-Lite-Object-Detection-on-Android-and-Raspberry-Pi/master/util_scripts/train_val_test_split.py"
      ]
    },
    {
      "cell_type": "code",
      "execution_count": null,
      "metadata": {
        "colab": {
          "base_uri": "https://localhost:8080/"
        },
        "id": "62kHJ-56Z7U9",
        "outputId": "5e19be07-c3ca-4c35-84ae-2ea0acdeee89"
      },
      "outputs": [
        {
          "output_type": "stream",
          "name": "stdout",
          "text": [
            "Total images: 2276\n",
            "Images moving to train: 1934\n",
            "Images moving to validation: 341\n",
            "Images moving to test: 1\n"
          ]
        }
      ],
      "source": [
        "!python /content/train_val_test_split.py"
      ]
    },
    {
      "cell_type": "code",
      "execution_count": null,
      "metadata": {
        "id": "UPVnqswwAleR"
      },
      "outputs": [],
      "source": [
        "%%bash\n",
        "cat <<EOF >> /content/labelmap.txt\n",
        "face\n",
        "EOF"
      ]
    },
    {
      "cell_type": "code",
      "execution_count": null,
      "metadata": {
        "colab": {
          "base_uri": "https://localhost:8080/"
        },
        "id": "bcFeBhdTArdo",
        "outputId": "842d0663-25f3-4884-faea-95ab67baec7c"
      },
      "outputs": [
        {
          "output_type": "stream",
          "name": "stdout",
          "text": [
            "--2023-11-20 22:38:52--  https://raw.githubusercontent.com/EdjeElectronics/TensorFlow-Lite-Object-Detection-on-Android-and-Raspberry-Pi/master/util_scripts/create_csv.py\n",
            "Resolving raw.githubusercontent.com (raw.githubusercontent.com)... 185.199.110.133, 185.199.108.133, 185.199.111.133, ...\n",
            "Connecting to raw.githubusercontent.com (raw.githubusercontent.com)|185.199.110.133|:443... connected.\n",
            "HTTP request sent, awaiting response... 200 OK\n",
            "Length: 1348 (1.3K) [text/plain]\n",
            "Saving to: ‘create_csv.py’\n",
            "\n",
            "create_csv.py       100%[===================>]   1.32K  --.-KB/s    in 0s      \n",
            "\n",
            "2023-11-20 22:38:52 (55.4 MB/s) - ‘create_csv.py’ saved [1348/1348]\n",
            "\n",
            "--2023-11-20 22:38:52--  https://raw.githubusercontent.com/EdjeElectronics/TensorFlow-Lite-Object-Detection-on-Android-and-Raspberry-Pi/master/util_scripts/create_tfrecord.py\n",
            "Resolving raw.githubusercontent.com (raw.githubusercontent.com)... 185.199.108.133, 185.199.109.133, 185.199.111.133, ...\n",
            "Connecting to raw.githubusercontent.com (raw.githubusercontent.com)|185.199.108.133|:443... connected.\n",
            "HTTP request sent, awaiting response... 200 OK\n",
            "Length: 4414 (4.3K) [text/plain]\n",
            "Saving to: ‘create_tfrecord.py’\n",
            "\n",
            "create_tfrecord.py  100%[===================>]   4.31K  --.-KB/s    in 0s      \n",
            "\n",
            "2023-11-20 22:38:52 (43.6 MB/s) - ‘create_tfrecord.py’ saved [4414/4414]\n",
            "\n"
          ]
        }
      ],
      "source": [
        "# Download data conversion scripts\n",
        "! wget https://raw.githubusercontent.com/EdjeElectronics/TensorFlow-Lite-Object-Detection-on-Android-and-Raspberry-Pi/master/util_scripts/create_csv.py\n",
        "! wget https://raw.githubusercontent.com/EdjeElectronics/TensorFlow-Lite-Object-Detection-on-Android-and-Raspberry-Pi/master/util_scripts/create_tfrecord.py"
      ]
    },
    {
      "cell_type": "code",
      "execution_count": null,
      "metadata": {
        "colab": {
          "base_uri": "https://localhost:8080/"
        },
        "id": "s1LJqDeDAwIQ",
        "outputId": "5faf11d0-4aa6-4665-eb7e-a58a2c17839b"
      },
      "outputs": [
        {
          "output_type": "stream",
          "name": "stdout",
          "text": [
            "Successfully converted xml to csv.\n",
            "Successfully converted xml to csv.\n",
            "Successfully created the TFRecords: /content/train.tfrecord\n",
            "Successfully created the TFRecords: /content/val.tfrecord\n"
          ]
        },
        {
          "output_type": "stream",
          "name": "stderr",
          "text": [
            "2023-11-20 22:38:55.942019: I tensorflow/core/platform/cpu_feature_guard.cc:182] This TensorFlow binary is optimized to use available CPU instructions in performance-critical operations.\n",
            "To enable the following instructions: AVX2 FMA, in other operations, rebuild TensorFlow with the appropriate compiler flags.\n",
            "2023-11-20 22:39:00.359869: W tensorflow/compiler/tf2tensorrt/utils/py_utils.cc:38] TF-TRT Warning: Could not find TensorRT\n",
            "2023-11-20 22:39:10.934571: I tensorflow/core/platform/cpu_feature_guard.cc:182] This TensorFlow binary is optimized to use available CPU instructions in performance-critical operations.\n",
            "To enable the following instructions: AVX2 FMA, in other operations, rebuild TensorFlow with the appropriate compiler flags.\n",
            "2023-11-20 22:39:13.431115: W tensorflow/compiler/tf2tensorrt/utils/py_utils.cc:38] TF-TRT Warning: Could not find TensorRT\n"
          ]
        }
      ],
      "source": [
        "%%bash\n",
        "cd /content/\n",
        "python3 create_csv.py\n",
        "python3 create_tfrecord.py --csv_input=images/train_labels.csv --labelmap=labelmap.txt --image_dir=images/train --output_path=train.tfrecord\n",
        "python3 create_tfrecord.py --csv_input=images/validation_labels.csv --labelmap=labelmap.txt --image_dir=images/validation --output_path=val.tfrecord"
      ]
    },
    {
      "cell_type": "code",
      "source": [
        "!unzip /content/ball_tf_record.zip"
      ],
      "metadata": {
        "colab": {
          "base_uri": "https://localhost:8080/"
        },
        "id": "hdtimJ-jTzzY",
        "outputId": "620a1a6a-84d7-45bd-d039-b2e506d9dedd"
      },
      "execution_count": null,
      "outputs": [
        {
          "output_type": "stream",
          "name": "stdout",
          "text": [
            "Archive:  /content/ball_tf_record.zip\n",
            " extracting: README.dataset.txt      \n",
            " extracting: README.roboflow.txt     \n",
            "   creating: test/\n",
            " extracting: test/circle.tfrecord    \n",
            " extracting: test/circle_label_map.pbtxt  \n",
            "   creating: train/\n",
            " extracting: train/circle.tfrecord   \n",
            " extracting: train/circle_label_map.pbtxt  \n",
            "   creating: valid/\n",
            " extracting: valid/circle.tfrecord   \n",
            " extracting: valid/circle_label_map.pbtxt  \n"
          ]
        }
      ]
    },
    {
      "cell_type": "code",
      "execution_count": null,
      "metadata": {
        "id": "H8bbMLhcA24t"
      },
      "outputs": [],
      "source": [
        "# train_record_fname = '/content/train.tfrecord'\n",
        "# val_record_fname = '/content/val.tfrecord'\n",
        "# label_map_pbtxt_fname = '/content/labelmap.pbtxt'\n",
        "train_record_fname = '/content/train/face.tfrecord'\n",
        "val_record_fname = '/content/valid/face.tfrecord'\n",
        "label_map_pbtxt_fname = '/content/train/face_label_map.pbtxt'"
      ]
    },
    {
      "cell_type": "code",
      "execution_count": null,
      "metadata": {
        "id": "c3djgGTRBAkc"
      },
      "outputs": [],
      "source": [
        "# Change the chosen_model variable to deploy different models available in the TF2 object detection zoo\n",
        "chosen_model = 'ssd-mobilenet-v2-fpnlite-320'\n",
        "\n",
        "MODELS_CONFIG = {\n",
        "    'ssd-mobilenet-v2': {\n",
        "        'model_name': 'ssd_mobilenet_v2_320x320_coco17_tpu-8',\n",
        "        'base_pipeline_file': 'ssd_mobilenet_v2_320x320_coco17_tpu-8.config',\n",
        "        'pretrained_checkpoint': 'ssd_mobilenet_v2_320x320_coco17_tpu-8.tar.gz',\n",
        "    },\n",
        "    'efficientdet-d0': {\n",
        "        'model_name': 'efficientdet_d0_coco17_tpu-32',\n",
        "        'base_pipeline_file': 'ssd_efficientdet_d0_512x512_coco17_tpu-8.config',\n",
        "        'pretrained_checkpoint': 'efficientdet_d0_coco17_tpu-32.tar.gz',\n",
        "    },\n",
        "    'ssd-mobilenet-v2-fpnlite-320': {\n",
        "        'model_name': 'ssd_mobilenet_v2_fpnlite_320x320_coco17_tpu-8',\n",
        "        'base_pipeline_file': 'ssd_mobilenet_v2_fpnlite_320x320_coco17_tpu-8.config',\n",
        "        'pretrained_checkpoint': 'ssd_mobilenet_v2_fpnlite_320x320_coco17_tpu-8.tar.gz',\n",
        "    },\n",
        "    # The centernet model isn't working as of 9/10/22\n",
        "    #'centernet-mobilenet-v2': {\n",
        "    #    'model_name': 'centernet_mobilenetv2fpn_512x512_coco17_od',\n",
        "    #    'base_pipeline_file': 'pipeline.config',\n",
        "    #    'pretrained_checkpoint': 'centernet_mobilenetv2fpn_512x512_coco17_od.tar.gz',\n",
        "    #}\n",
        "}\n",
        "\n",
        "model_name = MODELS_CONFIG[chosen_model]['model_name']\n",
        "pretrained_checkpoint = MODELS_CONFIG[chosen_model]['pretrained_checkpoint']\n",
        "base_pipeline_file = MODELS_CONFIG[chosen_model]['base_pipeline_file']"
      ]
    },
    {
      "cell_type": "code",
      "execution_count": null,
      "metadata": {
        "id": "DTxSTBsSBF_P"
      },
      "outputs": [],
      "source": [
        "# Create \"mymodel\" folder for holding pre-trained weights and configuration files\n",
        "%mkdir /content/models/mymodel/\n",
        "%cd /content/models/mymodel/\n",
        "\n",
        "# Download pre-trained model weights\n",
        "import tarfile\n",
        "download_tar = 'http://download.tensorflow.org/models/object_detection/tf2/20200711/' + pretrained_checkpoint\n",
        "!wget {download_tar}\n",
        "tar = tarfile.open(pretrained_checkpoint)\n",
        "tar.extractall()\n",
        "tar.close()\n",
        "\n",
        "# Download training configuration file for model\n",
        "download_config = 'https://raw.githubusercontent.com/tensorflow/models/master/research/object_detection/configs/tf2/' + base_pipeline_file\n",
        "!wget {download_config}"
      ]
    },
    {
      "cell_type": "code",
      "execution_count": null,
      "metadata": {
        "id": "xKBjNah9BJI-"
      },
      "outputs": [],
      "source": [
        "num_steps = 5000\n",
        "batch_size = 32"
      ]
    },
    {
      "cell_type": "code",
      "execution_count": null,
      "metadata": {
        "colab": {
          "base_uri": "https://localhost:8080/"
        },
        "id": "INzZTEC3BTFH",
        "outputId": "1a8c4019-1c93-448c-8040-ae62c4e252f1"
      },
      "outputs": [
        {
          "output_type": "stream",
          "name": "stdout",
          "text": [
            "Total classes: 1\n"
          ]
        }
      ],
      "source": [
        "# Set file locations and get number of classes for config file\n",
        "pipeline_fname = '/content/models/mymodel/' + base_pipeline_file\n",
        "fine_tune_checkpoint = '/content/models/mymodel/' + model_name + '/checkpoint/ckpt-0'\n",
        "\n",
        "def get_num_classes(pbtxt_fname):\n",
        "    from object_detection.utils import label_map_util\n",
        "    label_map = label_map_util.load_labelmap(pbtxt_fname)\n",
        "    categories = label_map_util.convert_label_map_to_categories(\n",
        "        label_map, max_num_classes=90, use_display_name=True)\n",
        "    category_index = label_map_util.create_category_index(categories)\n",
        "    return len(category_index.keys())\n",
        "num_classes = get_num_classes(label_map_pbtxt_fname)\n",
        "print('Total classes:', num_classes)\n"
      ]
    },
    {
      "cell_type": "code",
      "execution_count": null,
      "metadata": {
        "colab": {
          "base_uri": "https://localhost:8080/"
        },
        "id": "w7U0EKTiBVYv",
        "outputId": "34452f76-d7f2-4168-bc03-202b6c3643d0"
      },
      "outputs": [
        {
          "output_type": "stream",
          "name": "stdout",
          "text": [
            "/content/models/mymodel\n",
            "writing custom configuration file\n"
          ]
        }
      ],
      "source": [
        "# Create custom configuration file by writing the dataset, model checkpoint, and training parameters into the base pipeline file\n",
        "import re\n",
        "\n",
        "%cd /content/models/mymodel\n",
        "print('writing custom configuration file')\n",
        "\n",
        "with open(pipeline_fname) as f:\n",
        "    s = f.read()\n",
        "with open('pipeline_file.config', 'w') as f:\n",
        "\n",
        "    # Set fine_tune_checkpoint path\n",
        "    s = re.sub('fine_tune_checkpoint: \".*?\"',\n",
        "               'fine_tune_checkpoint: \"{}\"'.format(fine_tune_checkpoint), s)\n",
        "\n",
        "    # Set tfrecord files for train and test datasets\n",
        "    s = re.sub(\n",
        "        '(input_path: \".*?)(PATH_TO_BE_CONFIGURED/train)(.*?\")', 'input_path: \"{}\"'.format(train_record_fname), s)\n",
        "    s = re.sub(\n",
        "        '(input_path: \".*?)(PATH_TO_BE_CONFIGURED/val)(.*?\")', 'input_path: \"{}\"'.format(val_record_fname), s)\n",
        "\n",
        "    # Set label_map_path\n",
        "    s = re.sub(\n",
        "        'label_map_path: \".*?\"', 'label_map_path: \"{}\"'.format(label_map_pbtxt_fname), s)\n",
        "\n",
        "    # Set batch_size\n",
        "    s = re.sub('batch_size: [0-9]+',\n",
        "               'batch_size: {}'.format(batch_size), s)\n",
        "\n",
        "    # Set training steps, num_steps\n",
        "    s = re.sub('num_steps: [0-9]+',\n",
        "               'num_steps: {}'.format(num_steps), s)\n",
        "\n",
        "    # Set number of classes num_classes\n",
        "    s = re.sub('num_classes: [0-9]+',\n",
        "               'num_classes: {}'.format(num_classes), s)\n",
        "\n",
        "    # Change fine-tune checkpoint type from \"classification\" to \"detection\"\n",
        "    s = re.sub(\n",
        "        'fine_tune_checkpoint_type: \"classification\"', 'fine_tune_checkpoint_type: \"{}\"'.format('detection'), s)\n",
        "\n",
        "    # If using ssd-mobilenet-v2, reduce learning rate (because it's too high in the default config file)\n",
        "    if chosen_model == 'ssd-mobilenet-v2':\n",
        "      s = re.sub('learning_rate_base: .8',\n",
        "                 'learning_rate_base: .03', s)\n",
        "\n",
        "      s = re.sub('warmup_learning_rate: 0.13333',\n",
        "                 'warmup_learning_rate: .026666', s)\n",
        "\n",
        "    # If using efficientdet-d0, use fixed_shape_resizer instead of keep_aspect_ratio_resizer (because it isn't supported by TFLite)\n",
        "    if chosen_model == 'efficientdet-d0':\n",
        "      s = re.sub('keep_aspect_ratio_resizer', 'fixed_shape_resizer', s)\n",
        "      s = re.sub('pad_to_max_dimension: true', '', s)\n",
        "      s = re.sub('min_dimension', 'height', s)\n",
        "      s = re.sub('max_dimension', 'width', s)\n",
        "\n",
        "    f.write(s)\n"
      ]
    },
    {
      "cell_type": "code",
      "execution_count": null,
      "metadata": {
        "id": "bd0DytEfBXup"
      },
      "outputs": [],
      "source": [
        "# Set the path to the custom config file and the directory to store training checkpoints in\n",
        "pipeline_file = '/content/models/mymodel/pipeline_file.config'\n",
        "# model_dir = '/content/training/'\n",
        "model_dir = '/content/drive/MyDrive/style-mate/training/'"
      ]
    },
    {
      "cell_type": "code",
      "execution_count": null,
      "metadata": {
        "id": "oQaSZ80OBdZY"
      },
      "outputs": [],
      "source": [
        "# Run training!\n",
        "!python /content/models/research/object_detection/model_main_tf2.py \\\n",
        "    --pipeline_config_path={pipeline_file} \\\n",
        "    --model_dir={model_dir} \\\n",
        "    --alsologtostderr \\\n",
        "    --num_train_steps={num_steps} \\\n",
        "    --sample_1_of_n_eval_examples=1"
      ]
    },
    {
      "cell_type": "code",
      "execution_count": null,
      "metadata": {
        "id": "7nHpUHrFBh4m"
      },
      "outputs": [],
      "source": [
        "# Make a directory to store the trained TFLite model\n",
        "OUTPUT_MODEL_DIR='custom_model_lite_face_detection'\n",
        "!mkdir $OUTPUT_MODEL_DIR\n",
        "output_directory = '/content/' + OUTPUT_MODEL_DIR\n",
        "\n",
        "# Path to training directory (the conversion script automatically chooses the highest checkpoint file)\n",
        "last_model_path = model_dir\n",
        "\n",
        "!python /content/models/research/object_detection/export_tflite_graph_tf2.py \\\n",
        "    --trained_checkpoint_dir {last_model_path} \\\n",
        "    --output_directory {output_directory} \\\n",
        "    --pipeline_config_path {pipeline_file}\n"
      ]
    },
    {
      "cell_type": "code",
      "execution_count": null,
      "metadata": {
        "id": "kkANURKlCjCF"
      },
      "outputs": [],
      "source": [
        "# Convert exported graph file into TFLite model file\n",
        "import tensorflow as tf\n",
        "\n",
        "converter = tf.lite.TFLiteConverter.from_saved_model('/content/' + OUTPUT_MODEL_DIR + '/saved_model')\n",
        "tflite_model = converter.convert()\n",
        "\n",
        "with open('/content/' + OUTPUT_MODEL_DIR + '/detect.tflite', 'wb') as f:\n",
        "  f.write(tflite_model)"
      ]
    },
    {
      "cell_type": "code",
      "execution_count": null,
      "metadata": {
        "colab": {
          "base_uri": "https://localhost:8080/"
        },
        "id": "WWHjJny0Cl-o",
        "outputId": "795f79db-c6b9-44e3-bc21-5e1909cf0661"
      },
      "outputs": [
        {
          "output_type": "stream",
          "name": "stdout",
          "text": [
            "cp: cannot stat '/content/labelmap.pbtxt': No such file or directory\n",
            "/content\n",
            "  adding: custom_model_lite_face_detection/ (stored 0%)\n",
            "  adding: custom_model_lite_face_detection/pipeline_file.config (deflated 66%)\n",
            "  adding: custom_model_lite_face_detection/saved_model/ (stored 0%)\n",
            "  adding: custom_model_lite_face_detection/saved_model/assets/ (stored 0%)\n",
            "  adding: custom_model_lite_face_detection/saved_model/saved_model.pb (deflated 91%)\n",
            "  adding: custom_model_lite_face_detection/saved_model/fingerprint.pb (stored 0%)\n",
            "  adding: custom_model_lite_face_detection/saved_model/variables/ (stored 0%)\n",
            "  adding: custom_model_lite_face_detection/saved_model/variables/variables.data-00000-of-00001 (deflated 9%)\n",
            "  adding: custom_model_lite_face_detection/saved_model/variables/variables.index (deflated 78%)\n",
            "  adding: custom_model_lite_face_detection/detect.tflite (deflated 9%)\n",
            "  adding: custom_model_lite_face_detection/labelmap.txt (stored 0%)\n"
          ]
        }
      ],
      "source": [
        "# Move labelmap and pipeline config files into TFLite model folder and zip it up\n",
        "!cp /content/labelmap.txt /content/$OUTPUT_MODEL_DIR/\n",
        "!cp /content/labelmap.pbtxt /content/$OUTPUT_MODEL_DIR/\n",
        "!cp /content/models/mymodel/pipeline_file.config /content/$OUTPUT_MODEL_DIR\n",
        "\n",
        "%cd /content\n",
        "\n",
        "ZIP_FILENAME='face_detection_style_mate.zip'\n",
        "\n",
        "!zip -r $ZIP_FILENAME $OUTPUT_MODEL_DIR"
      ]
    },
    {
      "cell_type": "code",
      "execution_count": null,
      "metadata": {
        "id": "bTsU_A1wCof7",
        "colab": {
          "base_uri": "https://localhost:8080/",
          "height": 17
        },
        "outputId": "60de2284-1b95-415b-b06f-37b4e1af69cc"
      },
      "outputs": [
        {
          "output_type": "display_data",
          "data": {
            "text/plain": [
              "<IPython.core.display.Javascript object>"
            ],
            "application/javascript": [
              "\n",
              "    async function download(id, filename, size) {\n",
              "      if (!google.colab.kernel.accessAllowed) {\n",
              "        return;\n",
              "      }\n",
              "      const div = document.createElement('div');\n",
              "      const label = document.createElement('label');\n",
              "      label.textContent = `Downloading \"${filename}\": `;\n",
              "      div.appendChild(label);\n",
              "      const progress = document.createElement('progress');\n",
              "      progress.max = size;\n",
              "      div.appendChild(progress);\n",
              "      document.body.appendChild(div);\n",
              "\n",
              "      const buffers = [];\n",
              "      let downloaded = 0;\n",
              "\n",
              "      const channel = await google.colab.kernel.comms.open(id);\n",
              "      // Send a message to notify the kernel that we're ready.\n",
              "      channel.send({})\n",
              "\n",
              "      for await (const message of channel.messages) {\n",
              "        // Send a message to notify the kernel that we're ready.\n",
              "        channel.send({})\n",
              "        if (message.buffers) {\n",
              "          for (const buffer of message.buffers) {\n",
              "            buffers.push(buffer);\n",
              "            downloaded += buffer.byteLength;\n",
              "            progress.value = downloaded;\n",
              "          }\n",
              "        }\n",
              "      }\n",
              "      const blob = new Blob(buffers, {type: 'application/binary'});\n",
              "      const a = document.createElement('a');\n",
              "      a.href = window.URL.createObjectURL(blob);\n",
              "      a.download = filename;\n",
              "      div.appendChild(a);\n",
              "      a.click();\n",
              "      div.remove();\n",
              "    }\n",
              "  "
            ]
          },
          "metadata": {}
        },
        {
          "output_type": "display_data",
          "data": {
            "text/plain": [
              "<IPython.core.display.Javascript object>"
            ],
            "application/javascript": [
              "download(\"download_d36f1019-b5e5-45b0-ac39-488fd4a0176a\", \"face_detection_style_mate.zip\", 20685244)"
            ]
          },
          "metadata": {}
        }
      ],
      "source": [
        "from google.colab import files\n",
        "\n",
        "files.download('/content/' + ZIP_FILENAME)"
      ]
    },
    {
      "cell_type": "code",
      "execution_count": null,
      "metadata": {
        "id": "iM37oMEcHDM5"
      },
      "outputs": [],
      "source": [
        "# !cp -r /content/training /content/drive/MyDrive/ssd-mobilenet/"
      ]
    },
    {
      "cell_type": "code",
      "source": [
        "# !zip checkpoint_roboflow_ball.zip -r /content/training"
      ],
      "metadata": {
        "colab": {
          "base_uri": "https://localhost:8080/"
        },
        "id": "vFwTFAuSk-Zj",
        "outputId": "3ab0a96a-1ad6-4945-9070-6d926755ede4"
      },
      "execution_count": null,
      "outputs": [
        {
          "output_type": "stream",
          "name": "stdout",
          "text": [
            "  adding: content/training/ (stored 0%)\n",
            "  adding: content/training/ckpt-7.index (deflated 82%)\n",
            "  adding: content/training/ckpt-9.data-00000-of-00001 (deflated 8%)\n",
            "  adding: content/training/ckpt-5.index (deflated 82%)\n",
            "  adding: content/training/ckpt-6.index (deflated 82%)\n",
            "  adding: content/training/ckpt-5.data-00000-of-00001 (deflated 7%)\n",
            "  adding: content/training/ckpt-11.data-00000-of-00001 (deflated 8%)\n",
            "  adding: content/training/ckpt-10.index (deflated 82%)\n",
            "  adding: content/training/ckpt-8.data-00000-of-00001 (deflated 8%)\n",
            "  adding: content/training/checkpoint (deflated 76%)\n",
            "  adding: content/training/ckpt-7.data-00000-of-00001 (deflated 8%)\n",
            "  adding: content/training/ckpt-9.index (deflated 82%)\n",
            "  adding: content/training/ckpt-11.index (deflated 82%)\n",
            "  adding: content/training/ckpt-10.data-00000-of-00001 (deflated 8%)\n",
            "  adding: content/training/train/ (stored 0%)\n",
            "  adding: content/training/train/events.out.tfevents.1701064210.1042d5521955.3194.0.v2 (deflated 0%)\n",
            "  adding: content/training/train/events.out.tfevents.1701066105.1042d5521955.11420.0.v2 (deflated 0%)\n",
            "  adding: content/training/ckpt-8.index (deflated 82%)\n",
            "  adding: content/training/ckpt-6.data-00000-of-00001 (deflated 8%)\n"
          ]
        }
      ]
    },
    {
      "cell_type": "code",
      "source": [
        "# !cp checkpoint_roboflow_ball.zip /content/drive/MyDrive/ssd-mobilenet/"
      ],
      "metadata": {
        "id": "IPDGg-SIlMnp"
      },
      "execution_count": null,
      "outputs": []
    },
    {
      "cell_type": "code",
      "source": [
        "!pip install tensorflowjs"
      ],
      "metadata": {
        "id": "JVd8WhS0lW8R"
      },
      "execution_count": null,
      "outputs": []
    },
    {
      "cell_type": "code",
      "source": [
        "!tensorflowjs_converter \\\n",
        "    --input_format=tf_saved_model \\\n",
        "    --output_node_names='style-mate' \\\n",
        "    --saved_model_tags=serve \\\n",
        "    /content/custom_model_lite_face_detection/saved_model \\\n",
        "    /mobilenet/web_model\n"
      ],
      "metadata": {
        "id": "hOBiDFb72ImG"
      },
      "execution_count": null,
      "outputs": []
    },
    {
      "cell_type": "code",
      "source": [
        "import tensorflow as tf"
      ],
      "metadata": {
        "id": "3rSGQBfz3RsZ"
      },
      "execution_count": null,
      "outputs": []
    },
    {
      "cell_type": "code",
      "source": [
        "model = tf.saved_model.load('/content/custom_model_lite_face_detection/saved_model/')"
      ],
      "metadata": {
        "id": "3zQPiwxY4cnZ"
      },
      "execution_count": null,
      "outputs": []
    },
    {
      "cell_type": "code",
      "source": [
        "!zip /content/mobilenet_style_mate.zip -r /mobilenet"
      ],
      "metadata": {
        "id": "m0krHsKz3P7D"
      },
      "execution_count": null,
      "outputs": []
    },
    {
      "cell_type": "code",
      "source": [
        "from google.colab import files\n",
        "\n",
        "files.download('/content/mobilenet_style_mate.zip')"
      ],
      "metadata": {
        "colab": {
          "base_uri": "https://localhost:8080/",
          "height": 17
        },
        "id": "RkfAz8Pg52hD",
        "outputId": "4f5b3e0b-e495-47f9-ceed-aeeed8919dc5"
      },
      "execution_count": null,
      "outputs": [
        {
          "output_type": "display_data",
          "data": {
            "text/plain": [
              "<IPython.core.display.Javascript object>"
            ],
            "application/javascript": [
              "\n",
              "    async function download(id, filename, size) {\n",
              "      if (!google.colab.kernel.accessAllowed) {\n",
              "        return;\n",
              "      }\n",
              "      const div = document.createElement('div');\n",
              "      const label = document.createElement('label');\n",
              "      label.textContent = `Downloading \"${filename}\": `;\n",
              "      div.appendChild(label);\n",
              "      const progress = document.createElement('progress');\n",
              "      progress.max = size;\n",
              "      div.appendChild(progress);\n",
              "      document.body.appendChild(div);\n",
              "\n",
              "      const buffers = [];\n",
              "      let downloaded = 0;\n",
              "\n",
              "      const channel = await google.colab.kernel.comms.open(id);\n",
              "      // Send a message to notify the kernel that we're ready.\n",
              "      channel.send({})\n",
              "\n",
              "      for await (const message of channel.messages) {\n",
              "        // Send a message to notify the kernel that we're ready.\n",
              "        channel.send({})\n",
              "        if (message.buffers) {\n",
              "          for (const buffer of message.buffers) {\n",
              "            buffers.push(buffer);\n",
              "            downloaded += buffer.byteLength;\n",
              "            progress.value = downloaded;\n",
              "          }\n",
              "        }\n",
              "      }\n",
              "      const blob = new Blob(buffers, {type: 'application/binary'});\n",
              "      const a = document.createElement('a');\n",
              "      a.href = window.URL.createObjectURL(blob);\n",
              "      a.download = filename;\n",
              "      div.appendChild(a);\n",
              "      a.click();\n",
              "      div.remove();\n",
              "    }\n",
              "  "
            ]
          },
          "metadata": {}
        },
        {
          "output_type": "display_data",
          "data": {
            "text/plain": [
              "<IPython.core.display.Javascript object>"
            ],
            "application/javascript": [
              "download(\"download_64156d5e-5e1b-4b08-b41b-1275de5e8705\", \"mobilenet_style_mate.zip\", 1143)"
            ]
          },
          "metadata": {}
        }
      ]
    },
    {
      "cell_type": "code",
      "source": [],
      "metadata": {
        "id": "ncjkhfb-5_9k"
      },
      "execution_count": null,
      "outputs": []
    }
  ],
  "metadata": {
    "accelerator": "GPU",
    "colab": {
      "provenance": [],
      "gpuType": "T4"
    },
    "kernelspec": {
      "display_name": "Python 3",
      "name": "python3"
    },
    "language_info": {
      "name": "python"
    }
  },
  "nbformat": 4,
  "nbformat_minor": 0
}