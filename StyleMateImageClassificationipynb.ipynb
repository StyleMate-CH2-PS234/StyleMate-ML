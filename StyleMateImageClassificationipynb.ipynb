{
  "cells": [
    {
      "cell_type": "code",
      "execution_count": null,
      "id": "b2122e59-93a2-4b1c-aa16-05a05b939bdf",
      "metadata": {
        "colab": {
          "base_uri": "https://localhost:8080/"
        },
        "id": "b2122e59-93a2-4b1c-aa16-05a05b939bdf",
        "outputId": "95a58f2f-875b-430d-d8ec-d3f1c1ddd8c5"
      },
      "outputs": [
        {
          "output_type": "stream",
          "name": "stdout",
          "text": [
            "Collecting split-folders\n",
            "  Downloading split_folders-0.5.1-py3-none-any.whl (8.4 kB)\n",
            "Installing collected packages: split-folders\n",
            "Successfully installed split-folders-0.5.1\n"
          ]
        }
      ],
      "source": [
        "pip install split-folders"
      ]
    },
    {
      "cell_type": "code",
      "execution_count": 1,
      "id": "1673606a-9f0e-4083-8790-3c13edc0e5e6",
      "metadata": {
        "id": "1673606a-9f0e-4083-8790-3c13edc0e5e6"
      },
      "outputs": [],
      "source": [
        "import zipfile\n",
        "# import splitfolders\n",
        "import os\n",
        "import tensorflow as tf"
      ]
    },
    {
      "cell_type": "code",
      "source": [
        "from google.colab import drive\n",
        "drive.mount('/content/drive')"
      ],
      "metadata": {
        "id": "RkiAunZ4iTo0",
        "outputId": "bc156ebe-e4c8-46d6-d83a-4ffd47e1ae41",
        "colab": {
          "base_uri": "https://localhost:8080/"
        }
      },
      "id": "RkiAunZ4iTo0",
      "execution_count": 2,
      "outputs": [
        {
          "output_type": "stream",
          "name": "stdout",
          "text": [
            "Mounted at /content/drive\n"
          ]
        }
      ]
    },
    {
      "cell_type": "code",
      "execution_count": null,
      "id": "43b31ed9-a650-41e7-a5a8-637ff2f8cce8",
      "metadata": {
        "id": "43b31ed9-a650-41e7-a5a8-637ff2f8cce8"
      },
      "outputs": [],
      "source": [
        "# Extract the archive\n",
        "local_zip = '/content/drive/MyDrive/dataset_capstone/dataset_capstone/archive_2.zip'\n",
        "zip_ref = zipfile.ZipFile(local_zip, 'r')\n",
        "zip_ref.extractall('data/')\n",
        "zip_ref.close()"
      ]
    },
    {
      "cell_type": "code",
      "source": [
        "# delete class\n",
        "!rm -rf '/content/data/FaceShape Dataset/testing_set/Oval'\n",
        "!rm -rf '/content/data/FaceShape Dataset/testing_set/Oblong'\n",
        "!rm -rf '/content/data/FaceShape Dataset/training_set/Oval'\n",
        "!rm -rf '/content/data/FaceShape Dataset/training_set/Oblong'"
      ],
      "metadata": {
        "id": "NXF8M9l-RrWe"
      },
      "id": "NXF8M9l-RrWe",
      "execution_count": null,
      "outputs": []
    },
    {
      "cell_type": "code",
      "execution_count": null,
      "id": "a636645e-a933-4891-8b04-b47d006d662b",
      "metadata": {
        "id": "a636645e-a933-4891-8b04-b47d006d662b"
      },
      "outputs": [],
      "source": [
        "# base_dir = 'data/dataset_capstone/'\n",
        "# splitfolders.ratio(base_dir, output = 'data/dataset_capstone/dataset', seed = 1337, ratio=(0.8, 0.2), group_prefix=None)\n",
        "# train_dir = 'data/dataset_capstone/dataset/train'\n",
        "# val_dir = 'data/dataset_capstone/dataset/val'"
      ]
    },
    {
      "cell_type": "code",
      "source": [
        "!unzip /content/drive/MyDrive/style-mate/datasets/224x224_5class.zip -d /content"
      ],
      "metadata": {
        "id": "An1OiSW8ibqK"
      },
      "id": "An1OiSW8ibqK",
      "execution_count": null,
      "outputs": []
    },
    {
      "cell_type": "code",
      "source": [
        "!mkdir /content/lmao\n",
        "!mkdir /content/lmao2"
      ],
      "metadata": {
        "colab": {
          "base_uri": "https://localhost:8080/"
        },
        "id": "IRBBZeieWt_z",
        "outputId": "26e2a960-32e4-4fcd-c9cd-90cef4e14c3e"
      },
      "id": "IRBBZeieWt_z",
      "execution_count": null,
      "outputs": [
        {
          "output_type": "stream",
          "name": "stdout",
          "text": [
            "mkdir: cannot create directory ‘/content/lmao’: File exists\n"
          ]
        }
      ]
    },
    {
      "cell_type": "code",
      "source": [
        "!mv /content/train/{Oblong,Oval} /content/lmao2"
      ],
      "metadata": {
        "id": "nr6Svrx0Wleo"
      },
      "id": "nr6Svrx0Wleo",
      "execution_count": null,
      "outputs": []
    },
    {
      "cell_type": "code",
      "execution_count": null,
      "id": "0275613d-3325-4084-8d22-9c08ca54f7ae",
      "metadata": {
        "id": "0275613d-3325-4084-8d22-9c08ca54f7ae"
      },
      "outputs": [],
      "source": [
        "from tensorflow.keras.preprocessing.image import ImageDataGenerator\n",
        "\n",
        "training_datagen = ImageDataGenerator(\n",
        "      rescale = 1./255,\n",
        "      rotation_range=10,\n",
        "      # width_shift_range=0.3,\n",
        "      # height_shift_range=0.3,\n",
        "      # shear_range=0.1,\n",
        "      zoom_range=0.1,\n",
        "      horizontal_flip=True,\n",
        "      fill_mode='reflect')\n",
        "\n",
        "validation_datagen = ImageDataGenerator(\n",
        "                    rescale=1./255)"
      ]
    },
    {
      "cell_type": "code",
      "source": [
        "train_dir = '/content/train'\n",
        "val_dir = '/content/test'"
      ],
      "metadata": {
        "id": "IuH2Mp73rI1_"
      },
      "id": "IuH2Mp73rI1_",
      "execution_count": null,
      "outputs": []
    },
    {
      "cell_type": "code",
      "execution_count": null,
      "id": "31c9510d-1a47-46f8-b308-c8547d17768f",
      "metadata": {
        "colab": {
          "base_uri": "https://localhost:8080/"
        },
        "id": "31c9510d-1a47-46f8-b308-c8547d17768f",
        "outputId": "7f5a90d6-5367-42e3-ec56-63761a9d3934"
      },
      "outputs": [
        {
          "output_type": "stream",
          "name": "stdout",
          "text": [
            "Found 6382 images belonging to 3 classes.\n",
            "Found 2198 images belonging to 3 classes.\n"
          ]
        }
      ],
      "source": [
        "train_generator = training_datagen.flow_from_directory(\n",
        "\ttrain_dir,\n",
        "\ttarget_size=(224,224),\n",
        "\tclass_mode='sparse',\n",
        "  batch_size=32\n",
        ")\n",
        "\n",
        "validation_generator = validation_datagen.flow_from_directory(\n",
        "\tval_dir,\n",
        "\ttarget_size=(224,224),\n",
        "\tclass_mode='sparse',\n",
        "  batch_size=32\n",
        ")"
      ]
    },
    {
      "cell_type": "code",
      "execution_count": null,
      "id": "b00e5165-87dd-473e-af08-6d5f84310c92",
      "metadata": {
        "id": "b00e5165-87dd-473e-af08-6d5f84310c92"
      },
      "outputs": [],
      "source": [
        "model = tf.keras.models.Sequential([\n",
        "    tf.keras.layers.Conv2D(64, (3,3), activation='relu', input_shape=(224, 224, 3)),\n",
        "    tf.keras.layers.MaxPooling2D(2, 2),\n",
        "\n",
        "    tf.keras.layers.Conv2D(64, (3,3), activation='relu'),\n",
        "    tf.keras.layers.MaxPooling2D(2,2),\n",
        "\n",
        "    tf.keras.layers.Conv2D(128, (3,3), activation='relu'),\n",
        "    tf.keras.layers.MaxPooling2D(2,2),\n",
        "\n",
        "    tf.keras.layers.Conv2D(256, (3,3), activation='relu'),\n",
        "    tf.keras.layers.MaxPooling2D(2,2),\n",
        "\n",
        "    tf.keras.layers.Flatten(),\n",
        "    tf.keras.layers.Dropout(0.5),\n",
        "\n",
        "    tf.keras.layers.Dense(512, activation='relu'),\n",
        "    tf.keras.layers.Dense(3, activation='softmax')\n",
        "])"
      ]
    },
    {
      "cell_type": "code",
      "source": [
        "model = tf.keras.models.load_model('/content/drive/MyDrive/style-mate/saved_model_Dec_16_2023_v5')"
      ],
      "metadata": {
        "id": "VTjYSSQBEt63"
      },
      "id": "VTjYSSQBEt63",
      "execution_count": 18,
      "outputs": []
    },
    {
      "cell_type": "code",
      "execution_count": null,
      "id": "d78b7d8c-e8c2-4a81-93a6-8b8f4133d3a4",
      "metadata": {
        "colab": {
          "base_uri": "https://localhost:8080/"
        },
        "id": "d78b7d8c-e8c2-4a81-93a6-8b8f4133d3a4",
        "outputId": "5b7992fb-0a13-4280-c21c-60d03222ee5f"
      },
      "outputs": [
        {
          "output_type": "stream",
          "name": "stdout",
          "text": [
            "Model: \"sequential\"\n",
            "_________________________________________________________________\n",
            " Layer (type)                Output Shape              Param #   \n",
            "=================================================================\n",
            " conv2d (Conv2D)             (None, 222, 222, 64)      1792      \n",
            "                                                                 \n",
            " max_pooling2d (MaxPooling2  (None, 111, 111, 64)      0         \n",
            " D)                                                              \n",
            "                                                                 \n",
            " conv2d_1 (Conv2D)           (None, 109, 109, 64)      36928     \n",
            "                                                                 \n",
            " max_pooling2d_1 (MaxPoolin  (None, 54, 54, 64)        0         \n",
            " g2D)                                                            \n",
            "                                                                 \n",
            " conv2d_2 (Conv2D)           (None, 52, 52, 128)       73856     \n",
            "                                                                 \n",
            " max_pooling2d_2 (MaxPoolin  (None, 26, 26, 128)       0         \n",
            " g2D)                                                            \n",
            "                                                                 \n",
            " conv2d_3 (Conv2D)           (None, 24, 24, 256)       295168    \n",
            "                                                                 \n",
            " max_pooling2d_3 (MaxPoolin  (None, 12, 12, 256)       0         \n",
            " g2D)                                                            \n",
            "                                                                 \n",
            " flatten (Flatten)           (None, 36864)             0         \n",
            "                                                                 \n",
            " dropout (Dropout)           (None, 36864)             0         \n",
            "                                                                 \n",
            " dense (Dense)               (None, 512)               18874880  \n",
            "                                                                 \n",
            " dense_1 (Dense)             (None, 3)                 1539      \n",
            "                                                                 \n",
            "=================================================================\n",
            "Total params: 19284163 (73.56 MB)\n",
            "Trainable params: 19284163 (73.56 MB)\n",
            "Non-trainable params: 0 (0.00 Byte)\n",
            "_________________________________________________________________\n"
          ]
        }
      ],
      "source": [
        "model.summary()"
      ]
    },
    {
      "cell_type": "code",
      "execution_count": null,
      "id": "4243b3d3-ec3a-43fa-b92a-315fa265f0f1",
      "metadata": {
        "id": "4243b3d3-ec3a-43fa-b92a-315fa265f0f1"
      },
      "outputs": [],
      "source": [
        "model.compile(loss = 'sparse_categorical_crossentropy', optimizer=tf.keras.optimizers.Adam(learning_rate=0.0001), metrics=['accuracy'])"
      ]
    },
    {
      "cell_type": "code",
      "source": [
        "# model.compile(loss='categorical_crossentropy', optimizer=tf.keras.optimizers.SGD(learning_rate=0.01, momentum=0.9), metrics=['accuracy'])"
      ],
      "metadata": {
        "id": "QUmouYyLFqr-"
      },
      "id": "QUmouYyLFqr-",
      "execution_count": null,
      "outputs": []
    },
    {
      "cell_type": "code",
      "execution_count": null,
      "id": "f4b59e2e-5a76-4953-827c-6aa3e5d3ea3c",
      "metadata": {
        "id": "f4b59e2e-5a76-4953-827c-6aa3e5d3ea3c"
      },
      "outputs": [],
      "source": [
        "from PIL import ImageFile\n",
        "ImageFile.LOAD_TRUNCATED_IMAGES = True"
      ]
    },
    {
      "cell_type": "code",
      "execution_count": null,
      "id": "974964ab-a6ca-44db-b964-5b9e6af3730d",
      "metadata": {
        "colab": {
          "base_uri": "https://localhost:8080/"
        },
        "id": "974964ab-a6ca-44db-b964-5b9e6af3730d",
        "outputId": "2caed42d-850c-4921-e8c5-58a57ca2c02b"
      },
      "outputs": [
        {
          "output_type": "stream",
          "name": "stdout",
          "text": [
            "Epoch 1/10\n",
            "200/200 [==============================] - 89s 434ms/step - loss: 0.2434 - accuracy: 0.9050 - val_loss: 0.6742 - val_accuracy: 0.7634\n",
            "Epoch 2/10\n",
            "200/200 [==============================] - 89s 445ms/step - loss: 0.2153 - accuracy: 0.9166 - val_loss: 0.5931 - val_accuracy: 0.7871\n",
            "Epoch 3/10\n",
            "200/200 [==============================] - 91s 456ms/step - loss: 0.2015 - accuracy: 0.9270 - val_loss: 0.6059 - val_accuracy: 0.7912\n",
            "Epoch 4/10\n",
            "200/200 [==============================] - 87s 437ms/step - loss: 0.1907 - accuracy: 0.9276 - val_loss: 0.6217 - val_accuracy: 0.7771\n",
            "Epoch 5/10\n",
            "200/200 [==============================] - 87s 437ms/step - loss: 0.1661 - accuracy: 0.9387 - val_loss: 0.6958 - val_accuracy: 0.7721\n",
            "Epoch 6/10\n",
            "200/200 [==============================] - 86s 432ms/step - loss: 0.1623 - accuracy: 0.9395 - val_loss: 0.6197 - val_accuracy: 0.7944\n",
            "Epoch 7/10\n",
            "200/200 [==============================] - 90s 452ms/step - loss: 0.1536 - accuracy: 0.9414 - val_loss: 0.6159 - val_accuracy: 0.7980\n",
            "Epoch 8/10\n",
            "200/200 [==============================] - 87s 431ms/step - loss: 0.1359 - accuracy: 0.9502 - val_loss: 0.6221 - val_accuracy: 0.7903\n",
            "Epoch 9/10\n",
            "200/200 [==============================] - 88s 441ms/step - loss: 0.1316 - accuracy: 0.9536 - val_loss: 0.6639 - val_accuracy: 0.7944\n",
            "Epoch 10/10\n",
            "200/200 [==============================] - 88s 442ms/step - loss: 0.1262 - accuracy: 0.9533 - val_loss: 0.9588 - val_accuracy: 0.7407\n"
          ]
        }
      ],
      "source": [
        "# Train the model\n",
        "history = model.fit(train_generator, epochs=10, validation_data = validation_generator, verbose = 1)"
      ]
    },
    {
      "cell_type": "code",
      "source": [
        "tf.keras.saving.save_model(model, '/content/drive/MyDrive/style-mate/saved_model_Dec_16_2023_v7')"
      ],
      "metadata": {
        "id": "5MLQxUTCsiMO"
      },
      "id": "5MLQxUTCsiMO",
      "execution_count": null,
      "outputs": []
    },
    {
      "cell_type": "code",
      "execution_count": null,
      "id": "8419b30d-6b22-4d47-a0e6-5a5b22fd3200",
      "metadata": {
        "id": "8419b30d-6b22-4d47-a0e6-5a5b22fd3200"
      },
      "outputs": [],
      "source": [
        "pip install tensorflowjs"
      ]
    },
    {
      "cell_type": "code",
      "execution_count": null,
      "id": "a9854695-9591-47f6-bd71-4790fb816fac",
      "metadata": {
        "id": "a9854695-9591-47f6-bd71-4790fb816fac"
      },
      "outputs": [],
      "source": [
        "import tensorflowjs"
      ]
    },
    {
      "cell_type": "code",
      "execution_count": null,
      "id": "81bc06ef-0d98-4193-9d3b-d70e8e719dd5",
      "metadata": {
        "id": "81bc06ef-0d98-4193-9d3b-d70e8e719dd5"
      },
      "outputs": [],
      "source": [
        "import time\n",
        "saved_model_path = \"./{}.h5\".format(int(time.time()))\n",
        "\n",
        "model.save(saved_model_path)"
      ]
    },
    {
      "cell_type": "code",
      "execution_count": null,
      "id": "7a71fec1-cd9f-40f2-ad63-2a4b4187e796",
      "metadata": {
        "id": "7a71fec1-cd9f-40f2-ad63-2a4b4187e796"
      },
      "outputs": [],
      "source": [
        "!tensorflowjs_converter --input_format=keras {saved_model_path} ./"
      ]
    },
    {
      "cell_type": "code",
      "execution_count": null,
      "id": "dc04979b-17d6-42aa-a95e-b089b8050be3",
      "metadata": {
        "id": "dc04979b-17d6-42aa-a95e-b089b8050be3"
      },
      "outputs": [],
      "source": [
        "saved_model_path = \"./{}.h5\".format(int(time.time()))\n",
        "\n",
        "history.save(saved_model_path)"
      ]
    },
    {
      "cell_type": "code",
      "execution_count": null,
      "id": "7642f6d0-ad85-4bea-831c-341fbf06bc55",
      "metadata": {
        "id": "7642f6d0-ad85-4bea-831c-341fbf06bc55"
      },
      "outputs": [],
      "source": [
        "!tensorflowjs_converter --input_format=keras {saved_model_path} ./"
      ]
    },
    {
      "cell_type": "code",
      "execution_count": 21,
      "id": "df7e8f27-46bb-414c-8740-6f7f7a750ad7",
      "metadata": {
        "id": "df7e8f27-46bb-414c-8740-6f7f7a750ad7",
        "colab": {
          "base_uri": "https://localhost:8080/"
        },
        "outputId": "87c5dd49-730e-4d0a-90ba-5147206d6c4e"
      },
      "outputs": [
        {
          "output_type": "stream",
          "name": "stdout",
          "text": [
            "1/1 [==============================] - 0s 18ms/step\n",
            "\n",
            "Predicted face shape for Heart__0_9993.jpg: Round\n",
            "1/1 [==============================] - 0s 18ms/step\n",
            "\n",
            "Predicted face shape for Heart__0_3462.jpg: Round\n",
            "1/1 [==============================] - 0s 18ms/step\n",
            "\n",
            "Predicted face shape for Heart__0_6314.jpg: Heart\n",
            "1/1 [==============================] - 0s 23ms/step\n",
            "\n",
            "Predicted face shape for Heart__0_2852.jpg: Round\n",
            "1/1 [==============================] - 0s 18ms/step\n",
            "\n",
            "Predicted face shape for Heart__0_7532.jpg: Heart\n",
            "1/1 [==============================] - 0s 18ms/step\n",
            "\n",
            "Predicted face shape for Heart__0_1292.jpg: Round\n",
            "1/1 [==============================] - 0s 18ms/step\n",
            "\n",
            "Predicted face shape for Heart__0_6812.jpg: Heart\n",
            "1/1 [==============================] - 0s 18ms/step\n",
            "\n",
            "Predicted face shape for Heart__0_5819.jpg: Round\n",
            "1/1 [==============================] - 0s 19ms/step\n",
            "\n",
            "Predicted face shape for Heart__0_8928.jpg: Heart\n",
            "1/1 [==============================] - 0s 18ms/step\n",
            "\n",
            "Predicted face shape for Heart__0_6029.jpg: Round\n"
          ]
        }
      ],
      "source": [
        "import tensorflow as tf\n",
        "from tensorflow.keras.preprocessing import image\n",
        "from tensorflow.keras.applications.inception_v3 import preprocess_input, decode_predictions\n",
        "import numpy as np\n",
        "import os\n",
        "import random\n",
        "\n",
        "# Load your saved model\n",
        "# model_path = 'path/to/your/saved_model'\n",
        "loaded_model =  model #tf.keras.models.load_model(model_path)\n",
        "\n",
        "# Specify the directory containing your test images\n",
        "test_directory = '/content/train/Heart'\n",
        "# test_directory = '/content/train/Round'\n",
        "# test_directory = '/content/train/Square'\n",
        "\n",
        "# Get a list of image files in the test directory\n",
        "image_files = [f for f in os.listdir(test_directory) if f.endswith(('.png', '.jpg', '.jpeg'))]\n",
        "\n",
        "# Randomly select 10 samples\n",
        "random_10_samples = random.sample(image_files, 10)\n",
        "\n",
        "# Class labels corresponding to Heart, Round, Square\n",
        "class_labels = ['Heart', 'Round', 'Square']\n",
        "\n",
        "# Iterate over the 10 randomly selected image files and make predictions\n",
        "for img_file in random_10_samples:\n",
        "    img_path = os.path.join(test_directory, img_file)\n",
        "\n",
        "    # Load and preprocess the image\n",
        "    img = image.load_img(img_path, target_size=(224, 224))\n",
        "    img_array = image.img_to_array(img)\n",
        "    img_array = np.expand_dims(img_array, axis=0)\n",
        "    img_array = preprocess_input(img_array)\n",
        "\n",
        "    # Make a prediction\n",
        "    predictions = loaded_model.predict(img_array)\n",
        "\n",
        "    # Get the predicted class index (0, 1, or 2)\n",
        "    predicted_class_index = np.argmax(predictions)\n",
        "\n",
        "    # Get the corresponding class label\n",
        "    predicted_class_label = class_labels[predicted_class_index]\n",
        "\n",
        "    # Print the prediction result\n",
        "    print(f\"\\nPredicted face shape for {img_file}: {predicted_class_label}\")\n"
      ]
    },
    {
      "cell_type": "code",
      "source": [
        "import os\n",
        "\n",
        "def count_files_in_directory(directory_path):\n",
        "    # Get the list of files in the directory\n",
        "    files = [f for f in os.listdir(directory_path) if os.path.isfile(os.path.join(directory_path, f))]\n",
        "\n",
        "    # Count the number of files\n",
        "    num_files = len(files)\n",
        "\n",
        "    return num_files\n",
        "\n",
        "# Specify the directory path\n",
        "directory_path = '/content/test/Heart'\n",
        "\n",
        "# Call the function to count files\n",
        "num_files = count_files_in_directory(directory_path)\n",
        "\n",
        "# Print the result\n",
        "print(f\"Number of files in the directory: {num_files}\")\n"
      ],
      "metadata": {
        "colab": {
          "base_uri": "https://localhost:8080/"
        },
        "id": "xOVqrn5aIjo4",
        "outputId": "855fc5d5-a7e9-44f1-b589-211c32c06dd6"
      },
      "id": "xOVqrn5aIjo4",
      "execution_count": 27,
      "outputs": [
        {
          "output_type": "stream",
          "name": "stdout",
          "text": [
            "Number of files in the directory: 588\n"
          ]
        }
      ]
    },
    {
      "cell_type": "code",
      "source": [
        "!zip /content/model.zip -r /content/drive/MyDrive/style-mate/saved_model_Dec_16_2023_v5"
      ],
      "metadata": {
        "colab": {
          "base_uri": "https://localhost:8080/"
        },
        "id": "gg1mZIJLLYQY",
        "outputId": "aef53c43-f98f-49ed-e625-8735b57d2357"
      },
      "id": "gg1mZIJLLYQY",
      "execution_count": 28,
      "outputs": [
        {
          "output_type": "stream",
          "name": "stdout",
          "text": [
            "  adding: content/drive/MyDrive/style-mate/saved_model_Dec_16_2023_v5/ (stored 0%)\n",
            "  adding: content/drive/MyDrive/style-mate/saved_model_Dec_16_2023_v5/variables/ (stored 0%)\n",
            "  adding: content/drive/MyDrive/style-mate/saved_model_Dec_16_2023_v5/variables/variables.data-00000-of-00001 (deflated 19%)\n",
            "  adding: content/drive/MyDrive/style-mate/saved_model_Dec_16_2023_v5/variables/variables.index (deflated 65%)\n",
            "  adding: content/drive/MyDrive/style-mate/saved_model_Dec_16_2023_v5/assets/ (stored 0%)\n",
            "  adding: content/drive/MyDrive/style-mate/saved_model_Dec_16_2023_v5/saved_model.pb (deflated 87%)\n",
            "  adding: content/drive/MyDrive/style-mate/saved_model_Dec_16_2023_v5/fingerprint.pb (stored 0%)\n",
            "  adding: content/drive/MyDrive/style-mate/saved_model_Dec_16_2023_v5/keras_metadata.pb (deflated 92%)\n"
          ]
        }
      ]
    },
    {
      "cell_type": "code",
      "source": [
        "!cp /content/model.zip /content/drive/MyDrive/style-mate/"
      ],
      "metadata": {
        "id": "1OSf2sqLNEzK"
      },
      "id": "1OSf2sqLNEzK",
      "execution_count": 29,
      "outputs": []
    },
    {
      "cell_type": "code",
      "source": [],
      "metadata": {
        "id": "brSnt6RuNSoU"
      },
      "id": "brSnt6RuNSoU",
      "execution_count": null,
      "outputs": []
    }
  ],
  "metadata": {
    "kernelspec": {
      "display_name": "Python 3",
      "name": "python3"
    },
    "language_info": {
      "codemirror_mode": {
        "name": "ipython",
        "version": 3
      },
      "file_extension": ".py",
      "mimetype": "text/x-python",
      "name": "python",
      "nbconvert_exporter": "python",
      "pygments_lexer": "ipython3",
      "version": "3.11.0rc1"
    },
    "colab": {
      "provenance": [],
      "gpuType": "T4"
    },
    "accelerator": "GPU"
  },
  "nbformat": 4,
  "nbformat_minor": 5
}